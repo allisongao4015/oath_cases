{
 "cells": [
  {
   "cell_type": "code",
   "execution_count": 57,
   "metadata": {},
   "outputs": [],
   "source": [
    "import pandas as pd\n",
    "import numpy as np\n",
    "import matplotlib.pyplot as plt\n",
    "import seaborn as sns\n",
    "from datetime import datetime\n",
    "\n",
    "from sklearn.pipeline import Pipeline\n",
    "from sklearn.preprocessing import OneHotEncoder , StandardScaler \n",
    "from sklearn.compose import ColumnTransformer\n",
    "\n",
    "from sklearn.dummy import DummyClassifier\n",
    "from sklearn.tree import DecisionTreeClassifier, plot_tree\n",
    "from sklearn.linear_model import LogisticRegression\n",
    "from sklearn.ensemble import RandomForestClassifier\n",
    "from xgboost import XGBClassifier\n",
    "from sklearn.model_selection import cross_validate, GridSearchCV\n",
    "from sklearn.model_selection import train_test_split\n",
    "\n",
    "\n",
    "from sklearn.metrics import plot_confusion_matrix, confusion_matrix, plot_confusion_matrix,\\\n",
    "    precision_score, recall_score, accuracy_score, f1_score, log_loss,\\\n",
    "    roc_curve, roc_auc_score, ConfusionMatrixDisplay, classification_report"
   ]
  },
  {
   "cell_type": "code",
   "execution_count": 77,
   "metadata": {},
   "outputs": [],
   "source": [
    "df = pd.read_csv(\"merged_train_df.csv\", low_memory = False)\n",
    "df.drop(\"Unnamed: 0\", inplace=True, axis=1)\n",
    "df[\"Respondent ZCTA\"]= df[\"Respondent ZCTA\"].astype(str)"
   ]
  },
  {
   "cell_type": "code",
   "execution_count": 78,
   "metadata": {},
   "outputs": [
    {
     "data": {
      "text/plain": [
       "Index(['Hearing Result', 'Issuing Agency', 'Violation Location (Borough)',\n",
       "       'Respondent Address (Borough)', 'Decision Location (Borough)',\n",
       "       'Charge #1: Code Section', 'weekend_indi', 'Season',\n",
       "       'Respondent Status', 'Respondent ZCTA',\n",
       "       'Estimate!!Nonfamily households!!Median income (dollars)',\n",
       "       'Estimate!!Nonfamily households!!Mean income (dollars)',\n",
       "       'Estimate!!Nonfamily households!!Total!!Less than $10,000',\n",
       "       'Estimate!!Nonfamily households!!Total!!$10,000 to $14,999',\n",
       "       'Estimate!!Nonfamily households!!Total!!$15,000 to $24,999',\n",
       "       'Estimate!!Nonfamily households!!Total!!$25,000 to $34,999',\n",
       "       'Estimate!!Nonfamily households!!Total!!$35,000 to $49,999',\n",
       "       'Estimate!!Nonfamily households!!Total!!$50,000 to $74,999',\n",
       "       'Estimate!!Households!!Median income (dollars)',\n",
       "       'Estimate!!Households!!Mean income (dollars)',\n",
       "       'Estimate!!Households!!Total!!Less than $10,000',\n",
       "       'Estimate!!Households!!Total!!$10,000 to $14,999',\n",
       "       'Estimate!!Households!!Total!!$15,000 to $24,999',\n",
       "       'Estimate!!Households!!Total!!$25,000 to $34,999',\n",
       "       'Estimate!!Households!!Total!!$35,000 to $49,999',\n",
       "       'Estimate!!Households!!Total!!$50,000 to $74,999'],\n",
       "      dtype='object')"
      ]
     },
     "execution_count": 78,
     "metadata": {},
     "output_type": "execute_result"
    }
   ],
   "source": [
    "df.columns"
   ]
  },
  {
   "cell_type": "code",
   "execution_count": 79,
   "metadata": {},
   "outputs": [],
   "source": [
    "list_to_convert = ['Estimate!!Nonfamily households!!Median income (dollars)',\n",
    "       'Estimate!!Nonfamily households!!Mean income (dollars)',\n",
    "       'Estimate!!Nonfamily households!!Total!!Less than $10,000',\n",
    "       'Estimate!!Nonfamily households!!Total!!$10,000 to $14,999',\n",
    "       'Estimate!!Nonfamily households!!Total!!$15,000 to $24,999',\n",
    "       'Estimate!!Nonfamily households!!Total!!$25,000 to $34,999',\n",
    "       'Estimate!!Nonfamily households!!Total!!$35,000 to $49,999',\n",
    "       'Estimate!!Nonfamily households!!Total!!$50,000 to $74,999',\n",
    "       'Estimate!!Households!!Median income (dollars)',\n",
    "       'Estimate!!Households!!Mean income (dollars)',\n",
    "       'Estimate!!Households!!Total!!Less than $10,000',\n",
    "       'Estimate!!Households!!Total!!$10,000 to $14,999',\n",
    "       'Estimate!!Households!!Total!!$15,000 to $24,999',\n",
    "       'Estimate!!Households!!Total!!$25,000 to $34,999',\n",
    "       'Estimate!!Households!!Total!!$35,000 to $49,999',\n",
    "       'Estimate!!Households!!Total!!$50,000 to $74,999']"
   ]
  },
  {
   "cell_type": "code",
   "execution_count": 80,
   "metadata": {},
   "outputs": [],
   "source": [
    "def fill_na(column):\n",
    "    for x in column:\n",
    "        df[x].fillna(0, inplace=True)\n",
    "    \n",
    "    return df.head(2)"
   ]
  },
  {
   "cell_type": "code",
   "execution_count": 81,
   "metadata": {},
   "outputs": [
    {
     "data": {
      "text/html": [
       "<div>\n",
       "<style scoped>\n",
       "    .dataframe tbody tr th:only-of-type {\n",
       "        vertical-align: middle;\n",
       "    }\n",
       "\n",
       "    .dataframe tbody tr th {\n",
       "        vertical-align: top;\n",
       "    }\n",
       "\n",
       "    .dataframe thead th {\n",
       "        text-align: right;\n",
       "    }\n",
       "</style>\n",
       "<table border=\"1\" class=\"dataframe\">\n",
       "  <thead>\n",
       "    <tr style=\"text-align: right;\">\n",
       "      <th></th>\n",
       "      <th>Hearing Result</th>\n",
       "      <th>Issuing Agency</th>\n",
       "      <th>Violation Location (Borough)</th>\n",
       "      <th>Respondent Address (Borough)</th>\n",
       "      <th>Decision Location (Borough)</th>\n",
       "      <th>Charge #1: Code Section</th>\n",
       "      <th>weekend_indi</th>\n",
       "      <th>Season</th>\n",
       "      <th>Respondent Status</th>\n",
       "      <th>Respondent ZCTA</th>\n",
       "      <th>...</th>\n",
       "      <th>Estimate!!Nonfamily households!!Total!!$35,000 to $49,999</th>\n",
       "      <th>Estimate!!Nonfamily households!!Total!!$50,000 to $74,999</th>\n",
       "      <th>Estimate!!Households!!Median income (dollars)</th>\n",
       "      <th>Estimate!!Households!!Mean income (dollars)</th>\n",
       "      <th>Estimate!!Households!!Total!!Less than $10,000</th>\n",
       "      <th>Estimate!!Households!!Total!!$10,000 to $14,999</th>\n",
       "      <th>Estimate!!Households!!Total!!$15,000 to $24,999</th>\n",
       "      <th>Estimate!!Households!!Total!!$25,000 to $34,999</th>\n",
       "      <th>Estimate!!Households!!Total!!$35,000 to $49,999</th>\n",
       "      <th>Estimate!!Households!!Total!!$50,000 to $74,999</th>\n",
       "    </tr>\n",
       "  </thead>\n",
       "  <tbody>\n",
       "    <tr>\n",
       "      <th>0</th>\n",
       "      <td>0.0</td>\n",
       "      <td>SANITATION POLICE</td>\n",
       "      <td>QUEENS</td>\n",
       "      <td>QUEENS</td>\n",
       "      <td>In Person QUEENS</td>\n",
       "      <td>AC 16</td>\n",
       "      <td>0.0</td>\n",
       "      <td>Spring</td>\n",
       "      <td>Person</td>\n",
       "      <td>11372.0</td>\n",
       "      <td>...</td>\n",
       "      <td>14.5</td>\n",
       "      <td>19.3</td>\n",
       "      <td>60659.0</td>\n",
       "      <td>79621.0</td>\n",
       "      <td>4.3</td>\n",
       "      <td>4.5</td>\n",
       "      <td>10.2</td>\n",
       "      <td>9.6</td>\n",
       "      <td>14.7</td>\n",
       "      <td>19.0</td>\n",
       "    </tr>\n",
       "    <tr>\n",
       "      <th>1</th>\n",
       "      <td>0.0</td>\n",
       "      <td>POLICE DEPARTMENT</td>\n",
       "      <td>MANHATTAN</td>\n",
       "      <td>QUEENS</td>\n",
       "      <td>UNKNOWN</td>\n",
       "      <td>AC 17</td>\n",
       "      <td>1.0</td>\n",
       "      <td>Winter</td>\n",
       "      <td>Person</td>\n",
       "      <td>11372.0</td>\n",
       "      <td>...</td>\n",
       "      <td>14.5</td>\n",
       "      <td>19.3</td>\n",
       "      <td>60659.0</td>\n",
       "      <td>79621.0</td>\n",
       "      <td>4.3</td>\n",
       "      <td>4.5</td>\n",
       "      <td>10.2</td>\n",
       "      <td>9.6</td>\n",
       "      <td>14.7</td>\n",
       "      <td>19.0</td>\n",
       "    </tr>\n",
       "  </tbody>\n",
       "</table>\n",
       "<p>2 rows × 26 columns</p>\n",
       "</div>"
      ],
      "text/plain": [
       "   Hearing Result     Issuing Agency Violation Location (Borough)  \\\n",
       "0             0.0  SANITATION POLICE                       QUEENS   \n",
       "1             0.0  POLICE DEPARTMENT                    MANHATTAN   \n",
       "\n",
       "  Respondent Address (Borough) Decision Location (Borough)  \\\n",
       "0                       QUEENS            In Person QUEENS   \n",
       "1                       QUEENS                     UNKNOWN   \n",
       "\n",
       "  Charge #1: Code Section  weekend_indi  Season Respondent Status  \\\n",
       "0                   AC 16           0.0  Spring            Person   \n",
       "1                   AC 17           1.0  Winter            Person   \n",
       "\n",
       "  Respondent ZCTA  ...  \\\n",
       "0         11372.0  ...   \n",
       "1         11372.0  ...   \n",
       "\n",
       "   Estimate!!Nonfamily households!!Total!!$35,000 to $49,999  \\\n",
       "0                                               14.5           \n",
       "1                                               14.5           \n",
       "\n",
       "   Estimate!!Nonfamily households!!Total!!$50,000 to $74,999  \\\n",
       "0                                               19.3           \n",
       "1                                               19.3           \n",
       "\n",
       "   Estimate!!Households!!Median income (dollars)  \\\n",
       "0                                        60659.0   \n",
       "1                                        60659.0   \n",
       "\n",
       "   Estimate!!Households!!Mean income (dollars)  \\\n",
       "0                                      79621.0   \n",
       "1                                      79621.0   \n",
       "\n",
       "   Estimate!!Households!!Total!!Less than $10,000  \\\n",
       "0                                             4.3   \n",
       "1                                             4.3   \n",
       "\n",
       "   Estimate!!Households!!Total!!$10,000 to $14,999  \\\n",
       "0                                              4.5   \n",
       "1                                              4.5   \n",
       "\n",
       "   Estimate!!Households!!Total!!$15,000 to $24,999  \\\n",
       "0                                             10.2   \n",
       "1                                             10.2   \n",
       "\n",
       "   Estimate!!Households!!Total!!$25,000 to $34,999  \\\n",
       "0                                              9.6   \n",
       "1                                              9.6   \n",
       "\n",
       "   Estimate!!Households!!Total!!$35,000 to $49,999  \\\n",
       "0                                             14.7   \n",
       "1                                             14.7   \n",
       "\n",
       "   Estimate!!Households!!Total!!$50,000 to $74,999  \n",
       "0                                             19.0  \n",
       "1                                             19.0  \n",
       "\n",
       "[2 rows x 26 columns]"
      ]
     },
     "execution_count": 81,
     "metadata": {},
     "output_type": "execute_result"
    }
   ],
   "source": [
    "fill_na(list_to_convert)"
   ]
  },
  {
   "cell_type": "code",
   "execution_count": 82,
   "metadata": {},
   "outputs": [],
   "source": [
    "x_train = df.drop(\"Hearing Result\", axis=1)\n",
    "y_train = df[\"Hearing Result\"]"
   ]
  },
  {
   "cell_type": "code",
   "execution_count": 83,
   "metadata": {},
   "outputs": [
    {
     "name": "stdout",
     "output_type": "stream",
     "text": [
      "<class 'pandas.core.frame.DataFrame'>\n",
      "RangeIndex: 213243 entries, 0 to 213242\n",
      "Data columns (total 25 columns):\n",
      " #   Column                                                     Non-Null Count   Dtype  \n",
      "---  ------                                                     --------------   -----  \n",
      " 0   Issuing Agency                                             213243 non-null  object \n",
      " 1   Violation Location (Borough)                               213243 non-null  object \n",
      " 2   Respondent Address (Borough)                               213243 non-null  object \n",
      " 3   Decision Location (Borough)                                213243 non-null  object \n",
      " 4   Charge #1: Code Section                                    213243 non-null  object \n",
      " 5   weekend_indi                                               213243 non-null  float64\n",
      " 6   Season                                                     213243 non-null  object \n",
      " 7   Respondent Status                                          213243 non-null  object \n",
      " 8   Respondent ZCTA                                            213243 non-null  object \n",
      " 9   Estimate!!Nonfamily households!!Median income (dollars)    213243 non-null  float64\n",
      " 10  Estimate!!Nonfamily households!!Mean income (dollars)      213243 non-null  float64\n",
      " 11  Estimate!!Nonfamily households!!Total!!Less than $10,000   213243 non-null  float64\n",
      " 12  Estimate!!Nonfamily households!!Total!!$10,000 to $14,999  213243 non-null  float64\n",
      " 13  Estimate!!Nonfamily households!!Total!!$15,000 to $24,999  213243 non-null  float64\n",
      " 14  Estimate!!Nonfamily households!!Total!!$25,000 to $34,999  213243 non-null  float64\n",
      " 15  Estimate!!Nonfamily households!!Total!!$35,000 to $49,999  213243 non-null  float64\n",
      " 16  Estimate!!Nonfamily households!!Total!!$50,000 to $74,999  213243 non-null  float64\n",
      " 17  Estimate!!Households!!Median income (dollars)              213243 non-null  float64\n",
      " 18  Estimate!!Households!!Mean income (dollars)                213243 non-null  float64\n",
      " 19  Estimate!!Households!!Total!!Less than $10,000             213243 non-null  float64\n",
      " 20  Estimate!!Households!!Total!!$10,000 to $14,999            213243 non-null  float64\n",
      " 21  Estimate!!Households!!Total!!$15,000 to $24,999            213243 non-null  float64\n",
      " 22  Estimate!!Households!!Total!!$25,000 to $34,999            213243 non-null  float64\n",
      " 23  Estimate!!Households!!Total!!$35,000 to $49,999            213243 non-null  float64\n",
      " 24  Estimate!!Households!!Total!!$50,000 to $74,999            213243 non-null  float64\n",
      "dtypes: float64(17), object(8)\n",
      "memory usage: 40.7+ MB\n"
     ]
    }
   ],
   "source": [
    "x_train.info()"
   ]
  },
  {
   "cell_type": "code",
   "execution_count": 84,
   "metadata": {},
   "outputs": [],
   "source": [
    "# Creating dummies\n",
    "# Create the OneHotEncoder object\n",
    "\n",
    "ohe = OneHotEncoder(drop='first')\n",
    "\n",
    "\n",
    "# Transform the data into dummies\n",
    "\n",
    "trans = ohe.fit_transform(x_train[['Issuing Agency',\n",
    "                                   \"Respondent Address (Borough)\",\n",
    "                                   \"Violation Location (Borough)\", \n",
    "                                   \"Decision Location (Borough)\",\n",
    "                                  \"Charge #1: Code Section\",\n",
    "                                  \"Season\",\"Respondent Status\",\"Respondent ZCTA\"]])\n",
    "\n",
    "\n",
    "# Store the dummies matrix and name vector\n",
    "\n",
    "data = trans.todense()\n",
    "names = ohe.get_feature_names()\n",
    "\n",
    "\n",
    "# Put the dummy variables in a dataframe\n",
    "\n",
    "dummies = pd.DataFrame(data, columns=names)\n",
    "\n",
    "\n",
    "# Join the dummies dataframe to the original\n",
    "\n",
    "x_train = df.join(dummies)"
   ]
  },
  {
   "cell_type": "code",
   "execution_count": 85,
   "metadata": {},
   "outputs": [],
   "source": [
    "x_train = x_train.drop([\"Hearing Result\", \n",
    "                        'Issuing Agency',\n",
    "                        \"Respondent Address (Borough)\",\n",
    "                        \"Violation Location (Borough)\", \n",
    "                        \"Decision Location (Borough)\",\n",
    "                       \"Charge #1: Code Section\",\n",
    "                        \"Season\",\n",
    "                        \"Respondent Status\",\n",
    "                        \"Respondent ZCTA\"], axis=1)"
   ]
  },
  {
   "cell_type": "code",
   "execution_count": 86,
   "metadata": {},
   "outputs": [
    {
     "data": {
      "text/html": [
       "<div>\n",
       "<style scoped>\n",
       "    .dataframe tbody tr th:only-of-type {\n",
       "        vertical-align: middle;\n",
       "    }\n",
       "\n",
       "    .dataframe tbody tr th {\n",
       "        vertical-align: top;\n",
       "    }\n",
       "\n",
       "    .dataframe thead th {\n",
       "        text-align: right;\n",
       "    }\n",
       "</style>\n",
       "<table border=\"1\" class=\"dataframe\">\n",
       "  <thead>\n",
       "    <tr style=\"text-align: right;\">\n",
       "      <th></th>\n",
       "      <th>weekend_indi</th>\n",
       "      <th>Estimate!!Nonfamily households!!Median income (dollars)</th>\n",
       "      <th>Estimate!!Nonfamily households!!Mean income (dollars)</th>\n",
       "      <th>Estimate!!Nonfamily households!!Total!!Less than $10,000</th>\n",
       "      <th>Estimate!!Nonfamily households!!Total!!$10,000 to $14,999</th>\n",
       "      <th>Estimate!!Nonfamily households!!Total!!$15,000 to $24,999</th>\n",
       "      <th>Estimate!!Nonfamily households!!Total!!$25,000 to $34,999</th>\n",
       "      <th>Estimate!!Nonfamily households!!Total!!$35,000 to $49,999</th>\n",
       "      <th>Estimate!!Nonfamily households!!Total!!$50,000 to $74,999</th>\n",
       "      <th>Estimate!!Households!!Median income (dollars)</th>\n",
       "      <th>...</th>\n",
       "      <th>x7_11433.0</th>\n",
       "      <th>x7_11434.0</th>\n",
       "      <th>x7_11435.0</th>\n",
       "      <th>x7_11436.0</th>\n",
       "      <th>x7_11691.0</th>\n",
       "      <th>x7_11692.0</th>\n",
       "      <th>x7_11693.0</th>\n",
       "      <th>x7_11694.0</th>\n",
       "      <th>x7_11697.0</th>\n",
       "      <th>x7_nan</th>\n",
       "    </tr>\n",
       "  </thead>\n",
       "  <tbody>\n",
       "    <tr>\n",
       "      <th>128292</th>\n",
       "      <td>1.0</td>\n",
       "      <td>22684.0</td>\n",
       "      <td>36710.0</td>\n",
       "      <td>24.1</td>\n",
       "      <td>14.1</td>\n",
       "      <td>16.2</td>\n",
       "      <td>7.0</td>\n",
       "      <td>11.7</td>\n",
       "      <td>14.2</td>\n",
       "      <td>37804.0</td>\n",
       "      <td>...</td>\n",
       "      <td>0.0</td>\n",
       "      <td>0.0</td>\n",
       "      <td>0.0</td>\n",
       "      <td>0.0</td>\n",
       "      <td>0.0</td>\n",
       "      <td>0.0</td>\n",
       "      <td>0.0</td>\n",
       "      <td>0.0</td>\n",
       "      <td>0.0</td>\n",
       "      <td>0.0</td>\n",
       "    </tr>\n",
       "    <tr>\n",
       "      <th>211628</th>\n",
       "      <td>1.0</td>\n",
       "      <td>0.0</td>\n",
       "      <td>0.0</td>\n",
       "      <td>0.0</td>\n",
       "      <td>0.0</td>\n",
       "      <td>0.0</td>\n",
       "      <td>0.0</td>\n",
       "      <td>0.0</td>\n",
       "      <td>0.0</td>\n",
       "      <td>0.0</td>\n",
       "      <td>...</td>\n",
       "      <td>0.0</td>\n",
       "      <td>0.0</td>\n",
       "      <td>0.0</td>\n",
       "      <td>0.0</td>\n",
       "      <td>0.0</td>\n",
       "      <td>0.0</td>\n",
       "      <td>0.0</td>\n",
       "      <td>0.0</td>\n",
       "      <td>0.0</td>\n",
       "      <td>1.0</td>\n",
       "    </tr>\n",
       "    <tr>\n",
       "      <th>141867</th>\n",
       "      <td>0.0</td>\n",
       "      <td>59564.0</td>\n",
       "      <td>79953.0</td>\n",
       "      <td>11.8</td>\n",
       "      <td>8.2</td>\n",
       "      <td>10.6</td>\n",
       "      <td>5.9</td>\n",
       "      <td>8.1</td>\n",
       "      <td>14.4</td>\n",
       "      <td>67795.0</td>\n",
       "      <td>...</td>\n",
       "      <td>0.0</td>\n",
       "      <td>0.0</td>\n",
       "      <td>0.0</td>\n",
       "      <td>0.0</td>\n",
       "      <td>0.0</td>\n",
       "      <td>0.0</td>\n",
       "      <td>0.0</td>\n",
       "      <td>0.0</td>\n",
       "      <td>0.0</td>\n",
       "      <td>0.0</td>\n",
       "    </tr>\n",
       "    <tr>\n",
       "      <th>102034</th>\n",
       "      <td>0.0</td>\n",
       "      <td>21268.0</td>\n",
       "      <td>38123.0</td>\n",
       "      <td>30.7</td>\n",
       "      <td>10.4</td>\n",
       "      <td>12.5</td>\n",
       "      <td>10.6</td>\n",
       "      <td>9.0</td>\n",
       "      <td>11.4</td>\n",
       "      <td>39382.0</td>\n",
       "      <td>...</td>\n",
       "      <td>0.0</td>\n",
       "      <td>0.0</td>\n",
       "      <td>0.0</td>\n",
       "      <td>0.0</td>\n",
       "      <td>0.0</td>\n",
       "      <td>0.0</td>\n",
       "      <td>0.0</td>\n",
       "      <td>0.0</td>\n",
       "      <td>0.0</td>\n",
       "      <td>0.0</td>\n",
       "    </tr>\n",
       "    <tr>\n",
       "      <th>166537</th>\n",
       "      <td>0.0</td>\n",
       "      <td>39507.0</td>\n",
       "      <td>50218.0</td>\n",
       "      <td>9.9</td>\n",
       "      <td>10.2</td>\n",
       "      <td>14.4</td>\n",
       "      <td>9.0</td>\n",
       "      <td>14.1</td>\n",
       "      <td>25.1</td>\n",
       "      <td>63706.0</td>\n",
       "      <td>...</td>\n",
       "      <td>0.0</td>\n",
       "      <td>0.0</td>\n",
       "      <td>0.0</td>\n",
       "      <td>0.0</td>\n",
       "      <td>0.0</td>\n",
       "      <td>0.0</td>\n",
       "      <td>0.0</td>\n",
       "      <td>0.0</td>\n",
       "      <td>0.0</td>\n",
       "      <td>0.0</td>\n",
       "    </tr>\n",
       "  </tbody>\n",
       "</table>\n",
       "<p>5 rows × 271 columns</p>\n",
       "</div>"
      ],
      "text/plain": [
       "        weekend_indi  Estimate!!Nonfamily households!!Median income (dollars)  \\\n",
       "128292           1.0                                            22684.0         \n",
       "211628           1.0                                                0.0         \n",
       "141867           0.0                                            59564.0         \n",
       "102034           0.0                                            21268.0         \n",
       "166537           0.0                                            39507.0         \n",
       "\n",
       "        Estimate!!Nonfamily households!!Mean income (dollars)  \\\n",
       "128292                                            36710.0       \n",
       "211628                                                0.0       \n",
       "141867                                            79953.0       \n",
       "102034                                            38123.0       \n",
       "166537                                            50218.0       \n",
       "\n",
       "        Estimate!!Nonfamily households!!Total!!Less than $10,000  \\\n",
       "128292                                               24.1          \n",
       "211628                                                0.0          \n",
       "141867                                               11.8          \n",
       "102034                                               30.7          \n",
       "166537                                                9.9          \n",
       "\n",
       "        Estimate!!Nonfamily households!!Total!!$10,000 to $14,999  \\\n",
       "128292                                               14.1           \n",
       "211628                                                0.0           \n",
       "141867                                                8.2           \n",
       "102034                                               10.4           \n",
       "166537                                               10.2           \n",
       "\n",
       "        Estimate!!Nonfamily households!!Total!!$15,000 to $24,999  \\\n",
       "128292                                               16.2           \n",
       "211628                                                0.0           \n",
       "141867                                               10.6           \n",
       "102034                                               12.5           \n",
       "166537                                               14.4           \n",
       "\n",
       "        Estimate!!Nonfamily households!!Total!!$25,000 to $34,999  \\\n",
       "128292                                                7.0           \n",
       "211628                                                0.0           \n",
       "141867                                                5.9           \n",
       "102034                                               10.6           \n",
       "166537                                                9.0           \n",
       "\n",
       "        Estimate!!Nonfamily households!!Total!!$35,000 to $49,999  \\\n",
       "128292                                               11.7           \n",
       "211628                                                0.0           \n",
       "141867                                                8.1           \n",
       "102034                                                9.0           \n",
       "166537                                               14.1           \n",
       "\n",
       "        Estimate!!Nonfamily households!!Total!!$50,000 to $74,999  \\\n",
       "128292                                               14.2           \n",
       "211628                                                0.0           \n",
       "141867                                               14.4           \n",
       "102034                                               11.4           \n",
       "166537                                               25.1           \n",
       "\n",
       "        Estimate!!Households!!Median income (dollars)  ...  x7_11433.0  \\\n",
       "128292                                        37804.0  ...         0.0   \n",
       "211628                                            0.0  ...         0.0   \n",
       "141867                                        67795.0  ...         0.0   \n",
       "102034                                        39382.0  ...         0.0   \n",
       "166537                                        63706.0  ...         0.0   \n",
       "\n",
       "        x7_11434.0  x7_11435.0  x7_11436.0  x7_11691.0  x7_11692.0  \\\n",
       "128292         0.0         0.0         0.0         0.0         0.0   \n",
       "211628         0.0         0.0         0.0         0.0         0.0   \n",
       "141867         0.0         0.0         0.0         0.0         0.0   \n",
       "102034         0.0         0.0         0.0         0.0         0.0   \n",
       "166537         0.0         0.0         0.0         0.0         0.0   \n",
       "\n",
       "        x7_11693.0  x7_11694.0  x7_11697.0  x7_nan  \n",
       "128292         0.0         0.0         0.0     0.0  \n",
       "211628         0.0         0.0         0.0     1.0  \n",
       "141867         0.0         0.0         0.0     0.0  \n",
       "102034         0.0         0.0         0.0     0.0  \n",
       "166537         0.0         0.0         0.0     0.0  \n",
       "\n",
       "[5 rows x 271 columns]"
      ]
     },
     "execution_count": 86,
     "metadata": {},
     "output_type": "execute_result"
    }
   ],
   "source": [
    "x_train.sample(5)"
   ]
  },
  {
   "cell_type": "markdown",
   "metadata": {},
   "source": [
    "categorical_columns = ['Issuing Agency', 'Violation Location (Borough)',\n",
    "       'Violation Location (City)', 'Respondent Address (Borough)',\n",
    "       'Respondent Address (City)', 'Decision Location (Borough)','Respondent Status']\n",
    "\n",
    "#'Respondent Address (Zip Code)'\n",
    "#'Violation Location (Zip Code)'\n",
    "#'Charge #1: Code Description'\n",
    "ohe_col_trans = ColumnTransformer(transformers=\n",
    "                                  [('ohe', OneHotEncoder(drop='first', sparse=True), \n",
    "                                    categorical_columns)],\n",
    "                                  remainder='passthrough')\n",
    "\n",
    "\n",
    "transform_pipeline = Pipeline(steps=[('ohe_trans', ohe_col_trans)])\n",
    "\n",
    "\n",
    "x_train_transformed = transform_pipeline.fit_transform(x_train)"
   ]
  },
  {
   "cell_type": "code",
   "execution_count": 87,
   "metadata": {},
   "outputs": [],
   "source": [
    "def print_cv_scores(pipe, X, y):\n",
    "    '''\n",
    "    Runs cross_validate on given feature and multiclass target arrays using given pipeline, \n",
    "    printing the scoring results for both training and cross_val.\n",
    "    '''\n",
    "    scoring = ['accuracy','precision_macro', 'recall_macro', 'f1_macro']\n",
    "    \n",
    "    results = cross_validate(pipe, X, \n",
    "                                   y, \n",
    "                                   return_train_score=True, scoring=scoring)\n",
    "    \n",
    "    print(results['train_accuracy'])\n",
    "    print('Training Accuracy', results['train_accuracy'].mean())\n",
    "    print('##############')\n",
    "    print(results['test_accuracy'])\n",
    "    print('Cross_Val Accuracy', results['test_accuracy'].mean())\n",
    "    print('##############')\n",
    "    print('Training Macro Precision:', results['train_precision_macro'].mean())\n",
    "    print('Cross_Val Macro Precision:', results['test_precision_macro'].mean())\n",
    "    print('##############')\n",
    "    print('Training Macro Recall:', results['train_recall_macro'].mean())\n",
    "    print('Cross_Val Macro Recall:', results['test_recall_macro'].mean())\n",
    "    print('##############')\n",
    "    print('Training Macro F1:', results['train_f1_macro'].mean())\n",
    "    print('Cross_Val Macro F1:', results['test_f1_macro'].mean())"
   ]
  },
  {
   "cell_type": "code",
   "execution_count": 88,
   "metadata": {},
   "outputs": [],
   "source": [
    "display_labels = ['No Fee Collected', \n",
    "                  'Fee Collected']\n",
    "\n",
    "def print_cm_with_labels(y_true, \n",
    "                         y_pred, \n",
    "                         display_labels):\n",
    "    \n",
    "    \n",
    "    '''\n",
    "    Takes the true values and predicted values of a classifier and \n",
    "    plots a confusion matrix (normalized by predictions) using \n",
    "    a list of given display labels.\n",
    "    '''\n",
    "    cm = confusion_matrix(y_true, y_pred, normalize = 'pred')\n",
    "    disp = ConfusionMatrixDisplay(confusion_matrix=cm,\n",
    "                                  )\n",
    "\n",
    "    fig, ax = plt.subplots(figsize=(6,6))\n",
    "    disp.plot(ax=ax)\n",
    "    ax.grid(False)\n",
    "    disp.ax_.set_xticklabels(display_labels,rotation=45);"
   ]
  },
  {
   "cell_type": "markdown",
   "metadata": {},
   "source": [
    "# FSM"
   ]
  },
  {
   "cell_type": "code",
   "execution_count": 89,
   "metadata": {},
   "outputs": [],
   "source": [
    "dummy_model = DummyClassifier(strategy=\"most_frequent\")\n",
    "dummy_model.fit(x_train, y_train)\n",
    "y_hat = dummy_model.predict(x_train)"
   ]
  },
  {
   "cell_type": "code",
   "execution_count": 90,
   "metadata": {},
   "outputs": [
    {
     "name": "stderr",
     "output_type": "stream",
     "text": [
      "/opt/anaconda3/lib/python3.8/site-packages/sklearn/metrics/_classification.py:1245: UndefinedMetricWarning: Precision is ill-defined and being set to 0.0 in labels with no predicted samples. Use `zero_division` parameter to control this behavior.\n",
      "  _warn_prf(average, modifier, msg_start, len(result))\n"
     ]
    },
    {
     "name": "stdout",
     "output_type": "stream",
     "text": [
      "Accuracy Score: 0.6040151376598528\n",
      "Macro Precision Score: 0.3020075688299264\n",
      "Micro Precision Score: 0.6040151376598528\n",
      "Macro Recall Score: 0.5\n",
      "Micro Recall Score: 0.6040151376598528\n"
     ]
    }
   ],
   "source": [
    "acc = accuracy_score(y_train,y_hat)\n",
    "macro_precision_score=precision_score(y_train, y_hat, average='macro')\n",
    "micro_precision_score=precision_score(y_train, y_hat, average='micro')\n",
    "macro_recall_score=recall_score(y_train, y_hat, average='macro')\n",
    "micro_recall_score=recall_score(y_train, y_hat, average='micro')\n",
    "\n",
    "print('Accuracy Score: {}'.format(acc))\n",
    "print('Macro Precision Score: {}'.format(macro_precision_score))\n",
    "print('Micro Precision Score: {}'.format(micro_precision_score))\n",
    "print('Macro Recall Score: {}'.format(macro_recall_score))\n",
    "print('Micro Recall Score: {}'.format(micro_recall_score))"
   ]
  },
  {
   "cell_type": "code",
   "execution_count": 91,
   "metadata": {},
   "outputs": [
    {
     "name": "stderr",
     "output_type": "stream",
     "text": [
      "/opt/anaconda3/lib/python3.8/site-packages/sklearn/metrics/_classification.py:1245: UndefinedMetricWarning: Precision is ill-defined and being set to 0.0 in labels with no predicted samples. Use `zero_division` parameter to control this behavior.\n",
      "  _warn_prf(average, modifier, msg_start, len(result))\n",
      "/opt/anaconda3/lib/python3.8/site-packages/sklearn/metrics/_classification.py:1245: UndefinedMetricWarning: Precision is ill-defined and being set to 0.0 in labels with no predicted samples. Use `zero_division` parameter to control this behavior.\n",
      "  _warn_prf(average, modifier, msg_start, len(result))\n",
      "/opt/anaconda3/lib/python3.8/site-packages/sklearn/metrics/_classification.py:1245: UndefinedMetricWarning: Precision is ill-defined and being set to 0.0 in labels with no predicted samples. Use `zero_division` parameter to control this behavior.\n",
      "  _warn_prf(average, modifier, msg_start, len(result))\n",
      "/opt/anaconda3/lib/python3.8/site-packages/sklearn/metrics/_classification.py:1245: UndefinedMetricWarning: Precision is ill-defined and being set to 0.0 in labels with no predicted samples. Use `zero_division` parameter to control this behavior.\n",
      "  _warn_prf(average, modifier, msg_start, len(result))\n",
      "/opt/anaconda3/lib/python3.8/site-packages/sklearn/metrics/_classification.py:1245: UndefinedMetricWarning: Precision is ill-defined and being set to 0.0 in labels with no predicted samples. Use `zero_division` parameter to control this behavior.\n",
      "  _warn_prf(average, modifier, msg_start, len(result))\n",
      "/opt/anaconda3/lib/python3.8/site-packages/sklearn/metrics/_classification.py:1245: UndefinedMetricWarning: Precision is ill-defined and being set to 0.0 in labels with no predicted samples. Use `zero_division` parameter to control this behavior.\n",
      "  _warn_prf(average, modifier, msg_start, len(result))\n",
      "/opt/anaconda3/lib/python3.8/site-packages/sklearn/metrics/_classification.py:1245: UndefinedMetricWarning: Precision is ill-defined and being set to 0.0 in labels with no predicted samples. Use `zero_division` parameter to control this behavior.\n",
      "  _warn_prf(average, modifier, msg_start, len(result))\n",
      "/opt/anaconda3/lib/python3.8/site-packages/sklearn/metrics/_classification.py:1245: UndefinedMetricWarning: Precision is ill-defined and being set to 0.0 in labels with no predicted samples. Use `zero_division` parameter to control this behavior.\n",
      "  _warn_prf(average, modifier, msg_start, len(result))\n",
      "/opt/anaconda3/lib/python3.8/site-packages/sklearn/metrics/_classification.py:1245: UndefinedMetricWarning: Precision is ill-defined and being set to 0.0 in labels with no predicted samples. Use `zero_division` parameter to control this behavior.\n",
      "  _warn_prf(average, modifier, msg_start, len(result))\n",
      "/opt/anaconda3/lib/python3.8/site-packages/sklearn/metrics/_classification.py:1245: UndefinedMetricWarning: Precision is ill-defined and being set to 0.0 in labels with no predicted samples. Use `zero_division` parameter to control this behavior.\n",
      "  _warn_prf(average, modifier, msg_start, len(result))\n"
     ]
    },
    {
     "name": "stdout",
     "output_type": "stream",
     "text": [
      "[0.60401304 0.60401304 0.6040189  0.60401536 0.60401536]\n",
      "Training Accuracy 0.6040151376593361\n",
      "##############\n",
      "[0.60402354 0.60402354 0.60400009 0.60401426 0.60401426]\n",
      "Cross_Val Accuracy 0.6040151376515861\n",
      "##############\n",
      "Training Macro Precision: 0.30200756882966806\n",
      "Cross_Val Macro Precision: 0.30200756882579305\n",
      "##############\n",
      "Training Macro Recall: 0.5\n",
      "Cross_Val Macro Recall: 0.5\n",
      "##############\n",
      "Training Macro F1: 0.37656448712756774\n",
      "Cross_Val Macro F1: 0.3765644871077857\n"
     ]
    }
   ],
   "source": [
    "print_cv_scores(dummy_model, x_train, y_train)"
   ]
  },
  {
   "cell_type": "markdown",
   "metadata": {},
   "source": [
    "# Logistic Regression"
   ]
  },
  {
   "cell_type": "code",
   "execution_count": 92,
   "metadata": {},
   "outputs": [
    {
     "data": {
      "text/plain": [
       "Pipeline(steps=[('ss', StandardScaler()),\n",
       "                ('lr', LogisticRegression(max_iter=100000, random_state=42))])"
      ]
     },
     "execution_count": 92,
     "metadata": {},
     "output_type": "execute_result"
    }
   ],
   "source": [
    "lr_pipe = Pipeline(steps=[\n",
    "    ('ss', StandardScaler()),\n",
    "    ('lr', LogisticRegression(random_state=42, max_iter=100000))\n",
    "])\n",
    "lr_pipe.fit(x_train, y_train)"
   ]
  },
  {
   "cell_type": "code",
   "execution_count": 93,
   "metadata": {},
   "outputs": [
    {
     "name": "stdout",
     "output_type": "stream",
     "text": [
      "[0.68797261 0.69187076 0.68844156 0.68422287 0.68296843]\n",
      "Training Accuracy 0.6870952469708185\n",
      "##############\n",
      "[0.55832493 0.48427865 0.54861779 0.56075314 0.66697149]\n",
      "Cross_Val Accuracy 0.5637891989243805\n",
      "##############\n",
      "Training Macro Precision: 0.6720443625408858\n",
      "Cross_Val Macro Precision: 0.5649142542023424\n",
      "##############\n",
      "Training Macro Recall: 0.6562778440710144\n",
      "Cross_Val Macro Recall: 0.5576962064325856\n",
      "##############\n",
      "Training Macro F1: 0.6593952670072267\n",
      "Cross_Val Macro F1: 0.5388150985134099\n"
     ]
    }
   ],
   "source": [
    "print_cv_scores(lr_pipe, x_train, y_train)"
   ]
  },
  {
   "cell_type": "code",
   "execution_count": null,
   "metadata": {},
   "outputs": [],
   "source": [
    "display_labels=display_labels"
   ]
  },
  {
   "cell_type": "code",
   "execution_count": 94,
   "metadata": {},
   "outputs": [
    {
     "data": {
      "image/png": "[encoded data removed]",
      "text/plain": [
       "<Figure size 432x288 with 2 Axes>"
      ]
     },
     "metadata": {
      "needs_background": "light"
     },
     "output_type": "display_data"
    }
   ],
   "source": [
    "plot_confusion_matrix(lr_pipe, x_train, y_train, \n",
    "                      display_labels= ['Fee Collected', 'Fee Not Collected'], normalize=\"pred\");"
   ]
  },
  {
   "cell_type": "code",
   "execution_count": 330,
   "metadata": {},
   "outputs": [
    {
     "ename": "NameError",
     "evalue": "name 'lr' is not defined",
     "output_type": "error",
     "traceback": [
      "\u001b[0;31m---------------------------------------------------------------------------\u001b[0m",
      "\u001b[0;31mNameError\u001b[0m                                 Traceback (most recent call last)",
      "\u001b[0;32m<ipython-input-330-7c645cf02ef2>\u001b[0m in \u001b[0;36m<module>\u001b[0;34m\u001b[0m\n\u001b[0;32m----> 1\u001b[0;31m \u001b[0mimportance\u001b[0m \u001b[0;34m=\u001b[0m \u001b[0mlr\u001b[0m\u001b[0;34m.\u001b[0m\u001b[0mcoef_\u001b[0m\u001b[0;34m[\u001b[0m\u001b[0;36m0\u001b[0m\u001b[0;34m]\u001b[0m\u001b[0;34m\u001b[0m\u001b[0;34m\u001b[0m\u001b[0m\n\u001b[0m\u001b[1;32m      2\u001b[0m \u001b[0;31m# summarize feature importance\u001b[0m\u001b[0;34m\u001b[0m\u001b[0;34m\u001b[0m\u001b[0;34m\u001b[0m\u001b[0m\n\u001b[1;32m      3\u001b[0m \u001b[0;32mfor\u001b[0m \u001b[0mi\u001b[0m\u001b[0;34m,\u001b[0m\u001b[0mv\u001b[0m \u001b[0;32min\u001b[0m \u001b[0menumerate\u001b[0m\u001b[0;34m(\u001b[0m\u001b[0mimportance\u001b[0m\u001b[0;34m)\u001b[0m\u001b[0;34m:\u001b[0m\u001b[0;34m\u001b[0m\u001b[0;34m\u001b[0m\u001b[0m\n\u001b[1;32m      4\u001b[0m     \u001b[0mprint\u001b[0m\u001b[0;34m(\u001b[0m\u001b[0;34m'Feature: %0d, Score: %.5f'\u001b[0m \u001b[0;34m%\u001b[0m \u001b[0;34m(\u001b[0m\u001b[0mi\u001b[0m\u001b[0;34m,\u001b[0m\u001b[0mv\u001b[0m\u001b[0;34m)\u001b[0m\u001b[0;34m)\u001b[0m\u001b[0;34m\u001b[0m\u001b[0;34m\u001b[0m\u001b[0m\n\u001b[1;32m      5\u001b[0m \u001b[0;31m# plot feature importance\u001b[0m\u001b[0;34m\u001b[0m\u001b[0;34m\u001b[0m\u001b[0;34m\u001b[0m\u001b[0m\n",
      "\u001b[0;31mNameError\u001b[0m: name 'lr' is not defined"
     ]
    }
   ],
   "source": [
    "importance = lr.coef_[0]\n",
    "# summarize feature importance\n",
    "for i,v in enumerate(importance):\n",
    "    print('Feature: %0d, Score: %.5f' % (i,v))\n",
    "# plot feature importance\n",
    "    plt.bar([x for x in range(len(importance))], importance)\n",
    "    plt.show()"
   ]
  },
  {
   "cell_type": "markdown",
   "metadata": {},
   "source": [
    "# Decision Tree"
   ]
  },
  {
   "cell_type": "code",
   "execution_count": 95,
   "metadata": {},
   "outputs": [
    {
     "data": {
      "text/plain": [
       "Pipeline(steps=[('ss', StandardScaler()), ('lr', DecisionTreeClassifier())])"
      ]
     },
     "execution_count": 95,
     "metadata": {},
     "output_type": "execute_result"
    }
   ],
   "source": [
    "dt_pipe = Pipeline(steps=[\n",
    "    ('ss', StandardScaler()),\n",
    "    ('lr', DecisionTreeClassifier())\n",
    "])\n",
    "dt_pipe.fit(x_train, y_train)"
   ]
  },
  {
   "cell_type": "code",
   "execution_count": 96,
   "metadata": {},
   "outputs": [
    {
     "name": "stdout",
     "output_type": "stream",
     "text": [
      "[0.76130462 0.76685581 0.76012638 0.75163399 0.7450277 ]\n",
      "Training Accuracy 0.7569896987447576\n",
      "##############\n",
      "[0.63574761 0.57818472 0.63391873 0.60591352 0.6266179 ]\n",
      "Cross_Val Accuracy 0.6160764966654317\n",
      "##############\n",
      "Training Macro Precision: 0.7507208224639144\n",
      "Cross_Val Macro Precision: 0.6019864521020393\n",
      "##############\n",
      "Training Macro Recall: 0.7314757661521043\n",
      "Cross_Val Macro Recall: 0.5940113577026489\n",
      "##############\n",
      "Training Macro F1: 0.737094961380612\n",
      "Cross_Val Macro F1: 0.5895460534688516\n"
     ]
    }
   ],
   "source": [
    "print_cv_scores(dt_pipe, x_train, y_train)"
   ]
  },
  {
   "cell_type": "code",
   "execution_count": 97,
   "metadata": {},
   "outputs": [
    {
     "data": {
      "image/png": "[encoded data removed]",
      "text/plain": [
       "<Figure size 432x288 with 2 Axes>"
      ]
     },
     "metadata": {
      "needs_background": "light"
     },
     "output_type": "display_data"
    }
   ],
   "source": [
    "plot_confusion_matrix(dt_pipe, x_train, y_train, \n",
    "                      display_labels= ['Fee Collected', 'Fee Not Collected'], normalize=\"pred\");"
   ]
  },
  {
   "cell_type": "code",
   "execution_count": 98,
   "metadata": {},
   "outputs": [],
   "source": [
    "testing = pd.DataFrame(dt_pipe.steps[1][1].feature_importances_)"
   ]
  },
  {
   "cell_type": "code",
   "execution_count": 99,
   "metadata": {},
   "outputs": [
    {
     "data": {
      "text/html": [
       "<div>\n",
       "<style scoped>\n",
       "    .dataframe tbody tr th:only-of-type {\n",
       "        vertical-align: middle;\n",
       "    }\n",
       "\n",
       "    .dataframe tbody tr th {\n",
       "        vertical-align: top;\n",
       "    }\n",
       "\n",
       "    .dataframe thead th {\n",
       "        text-align: right;\n",
       "    }\n",
       "</style>\n",
       "<table border=\"1\" class=\"dataframe\">\n",
       "  <thead>\n",
       "    <tr style=\"text-align: right;\">\n",
       "      <th></th>\n",
       "      <th>0</th>\n",
       "    </tr>\n",
       "  </thead>\n",
       "  <tbody>\n",
       "    <tr>\n",
       "      <th>17</th>\n",
       "      <td>0.159435</td>\n",
       "    </tr>\n",
       "    <tr>\n",
       "      <th>50</th>\n",
       "      <td>0.125056</td>\n",
       "    </tr>\n",
       "    <tr>\n",
       "      <th>11</th>\n",
       "      <td>0.056834</td>\n",
       "    </tr>\n",
       "    <tr>\n",
       "      <th>0</th>\n",
       "      <td>0.037896</td>\n",
       "    </tr>\n",
       "    <tr>\n",
       "      <th>38</th>\n",
       "      <td>0.036533</td>\n",
       "    </tr>\n",
       "    <tr>\n",
       "      <th>...</th>\n",
       "      <td>...</td>\n",
       "    </tr>\n",
       "    <tr>\n",
       "      <th>48</th>\n",
       "      <td>0.000000</td>\n",
       "    </tr>\n",
       "    <tr>\n",
       "      <th>47</th>\n",
       "      <td>0.000000</td>\n",
       "    </tr>\n",
       "    <tr>\n",
       "      <th>42</th>\n",
       "      <td>0.000000</td>\n",
       "    </tr>\n",
       "    <tr>\n",
       "      <th>40</th>\n",
       "      <td>0.000000</td>\n",
       "    </tr>\n",
       "    <tr>\n",
       "      <th>125</th>\n",
       "      <td>0.000000</td>\n",
       "    </tr>\n",
       "  </tbody>\n",
       "</table>\n",
       "<p>271 rows × 1 columns</p>\n",
       "</div>"
      ],
      "text/plain": [
       "            0\n",
       "17   0.159435\n",
       "50   0.125056\n",
       "11   0.056834\n",
       "0    0.037896\n",
       "38   0.036533\n",
       "..        ...\n",
       "48   0.000000\n",
       "47   0.000000\n",
       "42   0.000000\n",
       "40   0.000000\n",
       "125  0.000000\n",
       "\n",
       "[271 rows x 1 columns]"
      ]
     },
     "execution_count": 99,
     "metadata": {},
     "output_type": "execute_result"
    }
   ],
   "source": [
    "testing.sort_values(by = 0, ascending = False)"
   ]
  },
  {
   "cell_type": "code",
   "execution_count": null,
   "metadata": {},
   "outputs": [],
   "source": []
  },
  {
   "cell_type": "code",
   "execution_count": null,
   "metadata": {},
   "outputs": [],
   "source": [
    "tree_clf = DecisionTreeClassifier(max_depth=2) \n",
    "\n",
    "tree_clf.fit(x_train_transformed, y_train)\n",
    "\n",
    "y_hat = tree_clf.predict(x_train_transformed)\n",
    "\n",
    "acc = accuracy_score(y_train,y_hat)\n",
    "macro_precision_score=precision_score(y_train, y_hat, average='macro')\n",
    "micro_precision_score=precision_score(y_train, y_hat, average='micro')\n",
    "macro_recall_score=recall_score(y_train, y_hat, average='macro')\n",
    "micro_recall_score=recall_score(y_train, y_hat, average='micro')\n",
    "\n",
    "\n",
    "print('Accuracy Score: {}'.format(acc))\n",
    "print('Macro Precision Score: {}'.format(macro_precision_score))\n",
    "print('Micro Precision Score: {}'.format(micro_precision_score))\n",
    "print('Macro Recall Score: {}'.format(macro_recall_score))\n",
    "print('Micro Recall Score: {}'.format(micro_recall_score))"
   ]
  },
  {
   "cell_type": "code",
   "execution_count": null,
   "metadata": {},
   "outputs": [],
   "source": [
    "print_cv_scores(tree_clf, x_train_transformed, y_train)"
   ]
  },
  {
   "cell_type": "code",
   "execution_count": null,
   "metadata": {},
   "outputs": [],
   "source": [
    "print_cm_with_labels(x_train_transformed, y_hat, display_labels)"
   ]
  },
  {
   "cell_type": "markdown",
   "metadata": {},
   "source": [
    "# Random Forest"
   ]
  },
  {
   "cell_type": "code",
   "execution_count": 100,
   "metadata": {},
   "outputs": [
    {
     "data": {
      "text/plain": [
       "Pipeline(steps=[('ss', StandardScaler()),\n",
       "                ('rf', RandomForestClassifier(class_weight='balanced'))])"
      ]
     },
     "execution_count": 100,
     "metadata": {},
     "output_type": "execute_result"
    }
   ],
   "source": [
    "rf_pipe = Pipeline(steps=[\n",
    "    ('ss', StandardScaler()),\n",
    "    ('rf', RandomForestClassifier(class_weight=\"balanced\"))\n",
    "])\n",
    "rf_pipe.fit(x_train, y_train)"
   ]
  },
  {
   "cell_type": "code",
   "execution_count": 101,
   "metadata": {},
   "outputs": [
    {
     "name": "stdout",
     "output_type": "stream",
     "text": [
      "[0.74608134 0.75479794 0.74549515 0.7350743  0.72844456]\n",
      "Training Accuracy 0.7419786586645949\n",
      "##############\n",
      "[0.64432929 0.60650895 0.63389528 0.6317764  0.66164885]\n",
      "Cross_Val Accuracy 0.6356317542040777\n",
      "##############\n",
      "Training Macro Precision: 0.7409189526513871\n",
      "Cross_Val Macro Precision: 0.6366146395521488\n",
      "##############\n",
      "Training Macro Recall: 0.7517285428024436\n",
      "Cross_Val Macro Recall: 0.6400757441080169\n",
      "##############\n",
      "Training Macro F1: 0.7388436428533874\n",
      "Cross_Val Macro F1: 0.629192288460086\n"
     ]
    }
   ],
   "source": [
    "print_cv_scores(rf_pipe, x_train, y_train)"
   ]
  },
  {
   "cell_type": "code",
   "execution_count": 102,
   "metadata": {},
   "outputs": [
    {
     "data": {
      "image/png": "[encoded data removed]",
      "text/plain": [
       "<Figure size 432x288 with 2 Axes>"
      ]
     },
     "metadata": {
      "needs_background": "light"
     },
     "output_type": "display_data"
    }
   ],
   "source": [
    "plot_confusion_matrix(rf_pipe, x_train, y_train, \n",
    "                      display_labels= ['Fee Collected', 'Fee Not Collected'], normalize=\"pred\");"
   ]
  },
  {
   "cell_type": "code",
   "execution_count": 105,
   "metadata": {},
   "outputs": [],
   "source": [
    "testing = pd.DataFrame(rf_pipe.steps[1][1].feature_importances_)"
   ]
  },
  {
   "cell_type": "code",
   "execution_count": 106,
   "metadata": {},
   "outputs": [
    {
     "data": {
      "text/html": [
       "<div>\n",
       "<style scoped>\n",
       "    .dataframe tbody tr th:only-of-type {\n",
       "        vertical-align: middle;\n",
       "    }\n",
       "\n",
       "    .dataframe tbody tr th {\n",
       "        vertical-align: top;\n",
       "    }\n",
       "\n",
       "    .dataframe thead th {\n",
       "        text-align: right;\n",
       "    }\n",
       "</style>\n",
       "<table border=\"1\" class=\"dataframe\">\n",
       "  <thead>\n",
       "    <tr style=\"text-align: right;\">\n",
       "      <th></th>\n",
       "      <th>0</th>\n",
       "    </tr>\n",
       "  </thead>\n",
       "  <tbody>\n",
       "    <tr>\n",
       "      <th>17</th>\n",
       "      <td>8.159989e-02</td>\n",
       "    </tr>\n",
       "    <tr>\n",
       "      <th>0</th>\n",
       "      <td>5.676928e-02</td>\n",
       "    </tr>\n",
       "    <tr>\n",
       "      <th>50</th>\n",
       "      <td>5.621811e-02</td>\n",
       "    </tr>\n",
       "    <tr>\n",
       "      <th>38</th>\n",
       "      <td>5.077795e-02</td>\n",
       "    </tr>\n",
       "    <tr>\n",
       "      <th>77</th>\n",
       "      <td>4.416571e-02</td>\n",
       "    </tr>\n",
       "    <tr>\n",
       "      <th>...</th>\n",
       "      <td>...</td>\n",
       "    </tr>\n",
       "    <tr>\n",
       "      <th>122</th>\n",
       "      <td>6.426904e-07</td>\n",
       "    </tr>\n",
       "    <tr>\n",
       "      <th>128</th>\n",
       "      <td>6.078714e-07</td>\n",
       "    </tr>\n",
       "    <tr>\n",
       "      <th>125</th>\n",
       "      <td>1.696209e-07</td>\n",
       "    </tr>\n",
       "    <tr>\n",
       "      <th>130</th>\n",
       "      <td>7.058934e-08</td>\n",
       "    </tr>\n",
       "    <tr>\n",
       "      <th>126</th>\n",
       "      <td>2.232207e-08</td>\n",
       "    </tr>\n",
       "  </tbody>\n",
       "</table>\n",
       "<p>271 rows × 1 columns</p>\n",
       "</div>"
      ],
      "text/plain": [
       "                0\n",
       "17   8.159989e-02\n",
       "0    5.676928e-02\n",
       "50   5.621811e-02\n",
       "38   5.077795e-02\n",
       "77   4.416571e-02\n",
       "..            ...\n",
       "122  6.426904e-07\n",
       "128  6.078714e-07\n",
       "125  1.696209e-07\n",
       "130  7.058934e-08\n",
       "126  2.232207e-08\n",
       "\n",
       "[271 rows x 1 columns]"
      ]
     },
     "execution_count": 106,
     "metadata": {},
     "output_type": "execute_result"
    }
   ],
   "source": [
    "testing.sort_values(by = 0, ascending = False)"
   ]
  },
  {
   "cell_type": "code",
   "execution_count": 43,
   "metadata": {},
   "outputs": [
    {
     "name": "stdout",
     "output_type": "stream",
     "text": [
      "<class 'pandas.core.frame.DataFrame'>\n",
      "RangeIndex: 213243 entries, 0 to 213242\n",
      "Data columns (total 81 columns):\n",
      " #   Column                                                     Non-Null Count   Dtype  \n",
      "---  ------                                                     --------------   -----  \n",
      " 0   Estimate!!Nonfamily households!!Median income (dollars)    213243 non-null  float64\n",
      " 1   Estimate!!Nonfamily households!!Mean income (dollars)      213243 non-null  float64\n",
      " 2   Estimate!!Nonfamily households!!Total!!Less than $10,000   213243 non-null  float64\n",
      " 3   Estimate!!Nonfamily households!!Total!!$10,000 to $14,999  213243 non-null  float64\n",
      " 4   Estimate!!Nonfamily households!!Total!!$15,000 to $24,999  213243 non-null  float64\n",
      " 5   Estimate!!Nonfamily households!!Total!!$25,000 to $34,999  213243 non-null  float64\n",
      " 6   Estimate!!Nonfamily households!!Total!!$35,000 to $49,999  213243 non-null  float64\n",
      " 7   Estimate!!Nonfamily households!!Total!!$50,000 to $74,999  213243 non-null  float64\n",
      " 8   Estimate!!Households!!Median income (dollars)              213243 non-null  float64\n",
      " 9   Estimate!!Households!!Mean income (dollars)                213243 non-null  float64\n",
      " 10  Estimate!!Households!!Total!!Less than $10,000             213243 non-null  float64\n",
      " 11  Estimate!!Households!!Total!!$10,000 to $14,999            213243 non-null  float64\n",
      " 12  Estimate!!Households!!Total!!$15,000 to $24,999            213243 non-null  float64\n",
      " 13  Estimate!!Households!!Total!!$25,000 to $34,999            213243 non-null  float64\n",
      " 14  Estimate!!Households!!Total!!$35,000 to $49,999            213243 non-null  float64\n",
      " 15  Estimate!!Households!!Total!!$50,000 to $74,999            213243 non-null  float64\n",
      " 16  x0_POLICE DEPARTMENT                                       213243 non-null  float64\n",
      " 17  x0_SANITATION POLICE                                       213243 non-null  float64\n",
      " 18  x0_SEAGATE POLICE                                          213243 non-null  float64\n",
      " 19  x0_UNKNOWN                                                 213243 non-null  float64\n",
      " 20  x1_BROOKLYN                                                213243 non-null  float64\n",
      " 21  x1_MANHATTAN                                               213243 non-null  float64\n",
      " 22  x1_NOT NYC                                                 213243 non-null  float64\n",
      " 23  x1_QUEENS                                                  213243 non-null  float64\n",
      " 24  x1_STATEN IS                                               213243 non-null  float64\n",
      " 25  x1_UNKNOWN                                                 213243 non-null  float64\n",
      " 26  x2_BROOKLYN                                                213243 non-null  float64\n",
      " 27  x2_MANHATTAN                                               213243 non-null  float64\n",
      " 28  x2_NOT NYC                                                 213243 non-null  float64\n",
      " 29  x2_QUEENS                                                  213243 non-null  float64\n",
      " 30  x2_STATEN IS                                               213243 non-null  float64\n",
      " 31  x2_UNKNOWN                                                 213243 non-null  float64\n",
      " 32  x3_In Person BROOKLYN                                      213243 non-null  float64\n",
      " 33  x3_In Person MANHATTAN                                     213243 non-null  float64\n",
      " 34  x3_In Person QUEENS                                        213243 non-null  float64\n",
      " 35  x3_In Person STATEN IS                                     213243 non-null  float64\n",
      " 36  x3_Remote                                                  213243 non-null  float64\n",
      " 37  x3_UNKNOWN                                                 213243 non-null  float64\n",
      " 38  x4_15 RCNY 20                                              213243 non-null  float64\n",
      " 39  x4_15 RCNY 21                                              213243 non-null  float64\n",
      " 40  x4_16 RCNY                                                 213243 non-null  float64\n",
      " 41  x4_17 RCNY                                                 213243 non-null  float64\n",
      " 42  x4_24 RCNY                                                 213243 non-null  float64\n",
      " 43  x4_34 RCNY                                                 213243 non-null  float64\n",
      " 44  x4_56 RCNY                                                 213243 non-null  float64\n",
      " 45  x4_6 RCNY                                                  213243 non-null  float64\n",
      " 46  x4_66 RCNY                                                 213243 non-null  float64\n",
      " 47  x4_67 RCNY                                                 213243 non-null  float64\n",
      " 48  x4_AC 1                                                    213243 non-null  float64\n",
      " 49  x4_AC 10                                                   213243 non-null  float64\n",
      " 50  x4_AC 16                                                   213243 non-null  float64\n",
      " 51  x4_AC 17                                                   213243 non-null  float64\n",
      " 52  x4_AC 19                                                   213243 non-null  float64\n",
      " 53  x4_AC 20                                                   213243 non-null  float64\n",
      " 54  x4_AC 22                                                   213243 non-null  float64\n",
      " 55  x4_AC 23                                                   213243 non-null  float64\n",
      " 56  x4_AC 24                                                   213243 non-null  float64\n",
      " 57  x4_AC 27                                                   213243 non-null  float64\n",
      " 58  x4_AC 29                                                   213243 non-null  float64\n",
      " 59  x4_AC 89                                                   213243 non-null  float64\n",
      " 60  x4_ECL 27                                                  213243 non-null  float64\n",
      " 61  x4_H.C. 131                                                213243 non-null  float64\n",
      " 62  x4_H.C. 139                                                213243 non-null  float64\n",
      " 63  x4_H.C. 151                                                213243 non-null  float64\n",
      " 64  x4_H.C. 153                                                213243 non-null  float64\n",
      " 65  x4_H.C. 157                                                213243 non-null  float64\n",
      " 66  x4_H.C. 161                                                213243 non-null  float64\n",
      " 67  x4_H.C. 173                                                213243 non-null  float64\n",
      " 68  x4_H.C. 181                                                213243 non-null  float64\n",
      " 69  x4_H.C. 3                                                  213243 non-null  float64\n",
      " 70  x4_H.C. 81                                                 213243 non-null  float64\n",
      " 71  x4_H.C. 89                                                 213243 non-null  float64\n",
      " 72  x4_HUDSON RP RLES                                          213243 non-null  float64\n",
      " 73  x4_NYS                                                     213243 non-null  float64\n",
      " 74  x4_UNKNOWN                                                 213243 non-null  float64\n",
      " 75  x4_VTL                                                     213243 non-null  float64\n",
      " 76  x5_1.0                                                     213243 non-null  float64\n",
      " 77  x6_Spring                                                  213243 non-null  float64\n",
      " 78  x6_Summer                                                  213243 non-null  float64\n",
      " 79  x6_UNKNOWN                                                 213243 non-null  float64\n",
      " 80  x6_Winter                                                  213243 non-null  float64\n",
      "dtypes: float64(81)\n",
      "memory usage: 131.8 MB\n"
     ]
    }
   ],
   "source": [
    "x_train.info()"
   ]
  },
  {
   "cell_type": "code",
   "execution_count": null,
   "metadata": {},
   "outputs": [],
   "source": [
    "Estimate!!Nonfamily households!!Total!!$15,000 to $24,999"
   ]
  },
  {
   "cell_type": "code",
   "execution_count": null,
   "metadata": {},
   "outputs": [],
   "source": []
  },
  {
   "cell_type": "code",
   "execution_count": null,
   "metadata": {},
   "outputs": [],
   "source": []
  },
  {
   "cell_type": "code",
   "execution_count": null,
   "metadata": {},
   "outputs": [],
   "source": []
  },
  {
   "cell_type": "code",
   "execution_count": null,
   "metadata": {},
   "outputs": [],
   "source": []
  },
  {
   "cell_type": "code",
   "execution_count": null,
   "metadata": {},
   "outputs": [],
   "source": []
  },
  {
   "cell_type": "code",
   "execution_count": 349,
   "metadata": {},
   "outputs": [
    {
     "data": {
      "text/plain": [
       "0         0.0\n",
       "1         0.0\n",
       "2         0.0\n",
       "3         0.0\n",
       "4         0.0\n",
       "         ... \n",
       "213238    0.0\n",
       "213239    0.0\n",
       "213240    0.0\n",
       "213241    0.0\n",
       "213242    0.0\n",
       "Name: x0_NYPD TRANSPORT INTELLIGENCE DI, Length: 213243, dtype: float64"
      ]
     },
     "execution_count": 349,
     "metadata": {},
     "output_type": "execute_result"
    }
   ],
   "source": [
    "x_train.iloc[:,17]"
   ]
  },
  {
   "cell_type": "code",
   "execution_count": 24,
   "metadata": {},
   "outputs": [
    {
     "ename": "ValueError",
     "evalue": "Input contains NaN, infinity or a value too large for dtype('float32').",
     "output_type": "error",
     "traceback": [
      "\u001b[0;31m---------------------------------------------------------------------------\u001b[0m",
      "\u001b[0;31mValueError\u001b[0m                                Traceback (most recent call last)",
      "\u001b[0;32m<ipython-input-24-2ae14f2d2ac9>\u001b[0m in \u001b[0;36m<module>\u001b[0;34m\u001b[0m\n\u001b[1;32m      1\u001b[0m \u001b[0mmodel_RF\u001b[0m \u001b[0;34m=\u001b[0m \u001b[0mRandomForestClassifier\u001b[0m\u001b[0;34m(\u001b[0m\u001b[0;34m)\u001b[0m\u001b[0;34m\u001b[0m\u001b[0;34m\u001b[0m\u001b[0m\n\u001b[0;32m----> 2\u001b[0;31m \u001b[0mmodel_RF\u001b[0m\u001b[0;34m.\u001b[0m\u001b[0mfit\u001b[0m\u001b[0;34m(\u001b[0m\u001b[0mx_train\u001b[0m\u001b[0;34m,\u001b[0m \u001b[0my_train\u001b[0m\u001b[0;34m)\u001b[0m\u001b[0;34m\u001b[0m\u001b[0;34m\u001b[0m\u001b[0m\n\u001b[0m\u001b[1;32m      3\u001b[0m \u001b[0my_hat\u001b[0m \u001b[0;34m=\u001b[0m \u001b[0mmodel_RF\u001b[0m\u001b[0;34m.\u001b[0m\u001b[0mpredict\u001b[0m\u001b[0;34m(\u001b[0m\u001b[0my_train\u001b[0m\u001b[0;34m)\u001b[0m\u001b[0;34m\u001b[0m\u001b[0;34m\u001b[0m\u001b[0m\n\u001b[1;32m      4\u001b[0m \u001b[0;34m\u001b[0m\u001b[0m\n\u001b[1;32m      5\u001b[0m \u001b[0macc\u001b[0m \u001b[0;34m=\u001b[0m \u001b[0maccuracy_score\u001b[0m\u001b[0;34m(\u001b[0m\u001b[0my_train\u001b[0m\u001b[0;34m,\u001b[0m\u001b[0my_hat\u001b[0m\u001b[0;34m)\u001b[0m\u001b[0;34m\u001b[0m\u001b[0;34m\u001b[0m\u001b[0m\n",
      "\u001b[0;32m/opt/anaconda3/lib/python3.8/site-packages/sklearn/ensemble/_forest.py\u001b[0m in \u001b[0;36mfit\u001b[0;34m(self, X, y, sample_weight)\u001b[0m\n\u001b[1;32m    302\u001b[0m                 \u001b[0;34m\"sparse multilabel-indicator for y is not supported.\"\u001b[0m\u001b[0;34m\u001b[0m\u001b[0;34m\u001b[0m\u001b[0m\n\u001b[1;32m    303\u001b[0m             )\n\u001b[0;32m--> 304\u001b[0;31m         X, y = self._validate_data(X, y, multi_output=True,\n\u001b[0m\u001b[1;32m    305\u001b[0m                                    accept_sparse=\"csc\", dtype=DTYPE)\n\u001b[1;32m    306\u001b[0m         \u001b[0;32mif\u001b[0m \u001b[0msample_weight\u001b[0m \u001b[0;32mis\u001b[0m \u001b[0;32mnot\u001b[0m \u001b[0;32mNone\u001b[0m\u001b[0;34m:\u001b[0m\u001b[0;34m\u001b[0m\u001b[0;34m\u001b[0m\u001b[0m\n",
      "\u001b[0;32m/opt/anaconda3/lib/python3.8/site-packages/sklearn/base.py\u001b[0m in \u001b[0;36m_validate_data\u001b[0;34m(self, X, y, reset, validate_separately, **check_params)\u001b[0m\n\u001b[1;32m    431\u001b[0m                 \u001b[0my\u001b[0m \u001b[0;34m=\u001b[0m \u001b[0mcheck_array\u001b[0m\u001b[0;34m(\u001b[0m\u001b[0my\u001b[0m\u001b[0;34m,\u001b[0m \u001b[0;34m**\u001b[0m\u001b[0mcheck_y_params\u001b[0m\u001b[0;34m)\u001b[0m\u001b[0;34m\u001b[0m\u001b[0;34m\u001b[0m\u001b[0m\n\u001b[1;32m    432\u001b[0m             \u001b[0;32melse\u001b[0m\u001b[0;34m:\u001b[0m\u001b[0;34m\u001b[0m\u001b[0;34m\u001b[0m\u001b[0m\n\u001b[0;32m--> 433\u001b[0;31m                 \u001b[0mX\u001b[0m\u001b[0;34m,\u001b[0m \u001b[0my\u001b[0m \u001b[0;34m=\u001b[0m \u001b[0mcheck_X_y\u001b[0m\u001b[0;34m(\u001b[0m\u001b[0mX\u001b[0m\u001b[0;34m,\u001b[0m \u001b[0my\u001b[0m\u001b[0;34m,\u001b[0m \u001b[0;34m**\u001b[0m\u001b[0mcheck_params\u001b[0m\u001b[0;34m)\u001b[0m\u001b[0;34m\u001b[0m\u001b[0;34m\u001b[0m\u001b[0m\n\u001b[0m\u001b[1;32m    434\u001b[0m             \u001b[0mout\u001b[0m \u001b[0;34m=\u001b[0m \u001b[0mX\u001b[0m\u001b[0;34m,\u001b[0m \u001b[0my\u001b[0m\u001b[0;34m\u001b[0m\u001b[0;34m\u001b[0m\u001b[0m\n\u001b[1;32m    435\u001b[0m \u001b[0;34m\u001b[0m\u001b[0m\n",
      "\u001b[0;32m/opt/anaconda3/lib/python3.8/site-packages/sklearn/utils/validation.py\u001b[0m in \u001b[0;36minner_f\u001b[0;34m(*args, **kwargs)\u001b[0m\n\u001b[1;32m     61\u001b[0m             \u001b[0mextra_args\u001b[0m \u001b[0;34m=\u001b[0m \u001b[0mlen\u001b[0m\u001b[0;34m(\u001b[0m\u001b[0margs\u001b[0m\u001b[0;34m)\u001b[0m \u001b[0;34m-\u001b[0m \u001b[0mlen\u001b[0m\u001b[0;34m(\u001b[0m\u001b[0mall_args\u001b[0m\u001b[0;34m)\u001b[0m\u001b[0;34m\u001b[0m\u001b[0;34m\u001b[0m\u001b[0m\n\u001b[1;32m     62\u001b[0m             \u001b[0;32mif\u001b[0m \u001b[0mextra_args\u001b[0m \u001b[0;34m<=\u001b[0m \u001b[0;36m0\u001b[0m\u001b[0;34m:\u001b[0m\u001b[0;34m\u001b[0m\u001b[0;34m\u001b[0m\u001b[0m\n\u001b[0;32m---> 63\u001b[0;31m                 \u001b[0;32mreturn\u001b[0m \u001b[0mf\u001b[0m\u001b[0;34m(\u001b[0m\u001b[0;34m*\u001b[0m\u001b[0margs\u001b[0m\u001b[0;34m,\u001b[0m \u001b[0;34m**\u001b[0m\u001b[0mkwargs\u001b[0m\u001b[0;34m)\u001b[0m\u001b[0;34m\u001b[0m\u001b[0;34m\u001b[0m\u001b[0m\n\u001b[0m\u001b[1;32m     64\u001b[0m \u001b[0;34m\u001b[0m\u001b[0m\n\u001b[1;32m     65\u001b[0m             \u001b[0;31m# extra_args > 0\u001b[0m\u001b[0;34m\u001b[0m\u001b[0;34m\u001b[0m\u001b[0;34m\u001b[0m\u001b[0m\n",
      "\u001b[0;32m/opt/anaconda3/lib/python3.8/site-packages/sklearn/utils/validation.py\u001b[0m in \u001b[0;36mcheck_X_y\u001b[0;34m(X, y, accept_sparse, accept_large_sparse, dtype, order, copy, force_all_finite, ensure_2d, allow_nd, multi_output, ensure_min_samples, ensure_min_features, y_numeric, estimator)\u001b[0m\n\u001b[1;32m    812\u001b[0m         \u001b[0;32mraise\u001b[0m \u001b[0mValueError\u001b[0m\u001b[0;34m(\u001b[0m\u001b[0;34m\"y cannot be None\"\u001b[0m\u001b[0;34m)\u001b[0m\u001b[0;34m\u001b[0m\u001b[0;34m\u001b[0m\u001b[0m\n\u001b[1;32m    813\u001b[0m \u001b[0;34m\u001b[0m\u001b[0m\n\u001b[0;32m--> 814\u001b[0;31m     X = check_array(X, accept_sparse=accept_sparse,\n\u001b[0m\u001b[1;32m    815\u001b[0m                     \u001b[0maccept_large_sparse\u001b[0m\u001b[0;34m=\u001b[0m\u001b[0maccept_large_sparse\u001b[0m\u001b[0;34m,\u001b[0m\u001b[0;34m\u001b[0m\u001b[0;34m\u001b[0m\u001b[0m\n\u001b[1;32m    816\u001b[0m                     \u001b[0mdtype\u001b[0m\u001b[0;34m=\u001b[0m\u001b[0mdtype\u001b[0m\u001b[0;34m,\u001b[0m \u001b[0morder\u001b[0m\u001b[0;34m=\u001b[0m\u001b[0morder\u001b[0m\u001b[0;34m,\u001b[0m \u001b[0mcopy\u001b[0m\u001b[0;34m=\u001b[0m\u001b[0mcopy\u001b[0m\u001b[0;34m,\u001b[0m\u001b[0;34m\u001b[0m\u001b[0;34m\u001b[0m\u001b[0m\n",
      "\u001b[0;32m/opt/anaconda3/lib/python3.8/site-packages/sklearn/utils/validation.py\u001b[0m in \u001b[0;36minner_f\u001b[0;34m(*args, **kwargs)\u001b[0m\n\u001b[1;32m     61\u001b[0m             \u001b[0mextra_args\u001b[0m \u001b[0;34m=\u001b[0m \u001b[0mlen\u001b[0m\u001b[0;34m(\u001b[0m\u001b[0margs\u001b[0m\u001b[0;34m)\u001b[0m \u001b[0;34m-\u001b[0m \u001b[0mlen\u001b[0m\u001b[0;34m(\u001b[0m\u001b[0mall_args\u001b[0m\u001b[0;34m)\u001b[0m\u001b[0;34m\u001b[0m\u001b[0;34m\u001b[0m\u001b[0m\n\u001b[1;32m     62\u001b[0m             \u001b[0;32mif\u001b[0m \u001b[0mextra_args\u001b[0m \u001b[0;34m<=\u001b[0m \u001b[0;36m0\u001b[0m\u001b[0;34m:\u001b[0m\u001b[0;34m\u001b[0m\u001b[0;34m\u001b[0m\u001b[0m\n\u001b[0;32m---> 63\u001b[0;31m                 \u001b[0;32mreturn\u001b[0m \u001b[0mf\u001b[0m\u001b[0;34m(\u001b[0m\u001b[0;34m*\u001b[0m\u001b[0margs\u001b[0m\u001b[0;34m,\u001b[0m \u001b[0;34m**\u001b[0m\u001b[0mkwargs\u001b[0m\u001b[0;34m)\u001b[0m\u001b[0;34m\u001b[0m\u001b[0;34m\u001b[0m\u001b[0m\n\u001b[0m\u001b[1;32m     64\u001b[0m \u001b[0;34m\u001b[0m\u001b[0m\n\u001b[1;32m     65\u001b[0m             \u001b[0;31m# extra_args > 0\u001b[0m\u001b[0;34m\u001b[0m\u001b[0;34m\u001b[0m\u001b[0;34m\u001b[0m\u001b[0m\n",
      "\u001b[0;32m/opt/anaconda3/lib/python3.8/site-packages/sklearn/utils/validation.py\u001b[0m in \u001b[0;36mcheck_array\u001b[0;34m(array, accept_sparse, accept_large_sparse, dtype, order, copy, force_all_finite, ensure_2d, allow_nd, ensure_min_samples, ensure_min_features, estimator)\u001b[0m\n\u001b[1;32m    661\u001b[0m \u001b[0;34m\u001b[0m\u001b[0m\n\u001b[1;32m    662\u001b[0m         \u001b[0;32mif\u001b[0m \u001b[0mforce_all_finite\u001b[0m\u001b[0;34m:\u001b[0m\u001b[0;34m\u001b[0m\u001b[0;34m\u001b[0m\u001b[0m\n\u001b[0;32m--> 663\u001b[0;31m             _assert_all_finite(array,\n\u001b[0m\u001b[1;32m    664\u001b[0m                                allow_nan=force_all_finite == 'allow-nan')\n\u001b[1;32m    665\u001b[0m \u001b[0;34m\u001b[0m\u001b[0m\n",
      "\u001b[0;32m/opt/anaconda3/lib/python3.8/site-packages/sklearn/utils/validation.py\u001b[0m in \u001b[0;36m_assert_all_finite\u001b[0;34m(X, allow_nan, msg_dtype)\u001b[0m\n\u001b[1;32m    101\u001b[0m                 not allow_nan and not np.isfinite(X).all()):\n\u001b[1;32m    102\u001b[0m             \u001b[0mtype_err\u001b[0m \u001b[0;34m=\u001b[0m \u001b[0;34m'infinity'\u001b[0m \u001b[0;32mif\u001b[0m \u001b[0mallow_nan\u001b[0m \u001b[0;32melse\u001b[0m \u001b[0;34m'NaN, infinity'\u001b[0m\u001b[0;34m\u001b[0m\u001b[0;34m\u001b[0m\u001b[0m\n\u001b[0;32m--> 103\u001b[0;31m             raise ValueError(\n\u001b[0m\u001b[1;32m    104\u001b[0m                     \u001b[0mmsg_err\u001b[0m\u001b[0;34m.\u001b[0m\u001b[0mformat\u001b[0m\u001b[0;34m\u001b[0m\u001b[0;34m\u001b[0m\u001b[0m\n\u001b[1;32m    105\u001b[0m                     (type_err,\n",
      "\u001b[0;31mValueError\u001b[0m: Input contains NaN, infinity or a value too large for dtype('float32')."
     ]
    }
   ],
   "source": [
    "model_RF = RandomForestClassifier()\n",
    "model_RF.fit(x_train, y_train)\n",
    "y_hat = model_RF.predict(y_train)\n",
    "\n",
    "acc = accuracy_score(y_train,y_hat)\n",
    "macro_precision_score=precision_score(y_train, y_hat, average='macro')\n",
    "micro_precision_score=precision_score(y_train, y_hat, average='micro')\n",
    "macro_recall_score=recall_score(y_train, y_hat, average='macro')\n",
    "micro_recall_score=recall_score(y_train, y_hat, average='micro')"
   ]
  },
  {
   "cell_type": "code",
   "execution_count": null,
   "metadata": {},
   "outputs": [],
   "source": []
  },
  {
   "cell_type": "code",
   "execution_count": null,
   "metadata": {},
   "outputs": [],
   "source": []
  },
  {
   "cell_type": "code",
   "execution_count": null,
   "metadata": {},
   "outputs": [],
   "source": []
  },
  {
   "cell_type": "markdown",
   "metadata": {},
   "source": [
    "# XGBoost"
   ]
  },
  {
   "cell_type": "code",
   "execution_count": 44,
   "metadata": {},
   "outputs": [
    {
     "name": "stderr",
     "output_type": "stream",
     "text": [
      "/opt/anaconda3/lib/python3.8/site-packages/xgboost/sklearn.py:888: UserWarning: The use of label encoder in XGBClassifier is deprecated and will be removed in a future release. To remove this warning, do the following: 1) Pass option use_label_encoder=False when constructing XGBClassifier object; and 2) Encode your labels (y) as integers starting with 0, i.e. 0, 1, 2, ..., [num_class - 1].\n",
      "  warnings.warn(label_encoder_deprecation_msg, UserWarning)\n"
     ]
    },
    {
     "name": "stdout",
     "output_type": "stream",
     "text": [
      "[00:40:28] WARNING: /opt/concourse/worker/volumes/live/7a2b9f41-3287-451b-6691-43e9a6c0910f/volume/xgboost-split_1619728204606/work/src/learner.cc:1061: Starting in XGBoost 1.3.0, the default evaluation metric used with the objective 'binary:logistic' was changed from 'error' to 'logloss'. Explicitly set eval_metric if you'd like to restore the old behavior.\n"
     ]
    },
    {
     "data": {
      "text/plain": [
       "Pipeline(steps=[('ss', StandardScaler()),\n",
       "                ('rf',\n",
       "                 XGBClassifier(base_score=0.5, booster='gbtree',\n",
       "                               colsample_bylevel=1, colsample_bynode=1,\n",
       "                               colsample_bytree=1, gamma=0, gpu_id=-1,\n",
       "                               importance_type='gain',\n",
       "                               interaction_constraints='',\n",
       "                               learning_rate=0.300000012, max_delta_step=0,\n",
       "                               max_depth=6, min_child_weight=1, missing=nan,\n",
       "                               monotone_constraints='()', n_estimators=100,\n",
       "                               n_jobs=8, num_parallel_tree=1, random_state=0,\n",
       "                               reg_alpha=0, reg_lambda=1, scale_pos_weight=1,\n",
       "                               subsample=1, tree_method='exact',\n",
       "                               validate_parameters=1, verbosity=None))])"
      ]
     },
     "execution_count": 44,
     "metadata": {},
     "output_type": "execute_result"
    }
   ],
   "source": [
    "xgb_pipe = Pipeline(steps=[\n",
    "    ('ss', StandardScaler()),\n",
    "    ('rf', XGBClassifier())\n",
    "])\n",
    "xgb_pipe.fit(x_train, y_train)"
   ]
  },
  {
   "cell_type": "code",
   "execution_count": 45,
   "metadata": {},
   "outputs": [
    {
     "name": "stderr",
     "output_type": "stream",
     "text": [
      "/opt/anaconda3/lib/python3.8/site-packages/xgboost/sklearn.py:888: UserWarning: The use of label encoder in XGBClassifier is deprecated and will be removed in a future release. To remove this warning, do the following: 1) Pass option use_label_encoder=False when constructing XGBClassifier object; and 2) Encode your labels (y) as integers starting with 0, i.e. 0, 1, 2, ..., [num_class - 1].\n",
      "  warnings.warn(label_encoder_deprecation_msg, UserWarning)\n"
     ]
    },
    {
     "name": "stdout",
     "output_type": "stream",
     "text": [
      "[00:41:04] WARNING: /opt/concourse/worker/volumes/live/7a2b9f41-3287-451b-6691-43e9a6c0910f/volume/xgboost-split_1619728204606/work/src/learner.cc:1061: Starting in XGBoost 1.3.0, the default evaluation metric used with the objective 'binary:logistic' was changed from 'error' to 'logloss'. Explicitly set eval_metric if you'd like to restore the old behavior.\n"
     ]
    },
    {
     "name": "stderr",
     "output_type": "stream",
     "text": [
      "/opt/anaconda3/lib/python3.8/site-packages/xgboost/sklearn.py:888: UserWarning: The use of label encoder in XGBClassifier is deprecated and will be removed in a future release. To remove this warning, do the following: 1) Pass option use_label_encoder=False when constructing XGBClassifier object; and 2) Encode your labels (y) as integers starting with 0, i.e. 0, 1, 2, ..., [num_class - 1].\n",
      "  warnings.warn(label_encoder_deprecation_msg, UserWarning)\n"
     ]
    },
    {
     "name": "stdout",
     "output_type": "stream",
     "text": [
      "[00:41:49] WARNING: /opt/concourse/worker/volumes/live/7a2b9f41-3287-451b-6691-43e9a6c0910f/volume/xgboost-split_1619728204606/work/src/learner.cc:1061: Starting in XGBoost 1.3.0, the default evaluation metric used with the objective 'binary:logistic' was changed from 'error' to 'logloss'. Explicitly set eval_metric if you'd like to restore the old behavior.\n"
     ]
    },
    {
     "name": "stderr",
     "output_type": "stream",
     "text": [
      "/opt/anaconda3/lib/python3.8/site-packages/xgboost/sklearn.py:888: UserWarning: The use of label encoder in XGBClassifier is deprecated and will be removed in a future release. To remove this warning, do the following: 1) Pass option use_label_encoder=False when constructing XGBClassifier object; and 2) Encode your labels (y) as integers starting with 0, i.e. 0, 1, 2, ..., [num_class - 1].\n",
      "  warnings.warn(label_encoder_deprecation_msg, UserWarning)\n"
     ]
    },
    {
     "name": "stdout",
     "output_type": "stream",
     "text": [
      "[00:42:40] WARNING: /opt/concourse/worker/volumes/live/7a2b9f41-3287-451b-6691-43e9a6c0910f/volume/xgboost-split_1619728204606/work/src/learner.cc:1061: Starting in XGBoost 1.3.0, the default evaluation metric used with the objective 'binary:logistic' was changed from 'error' to 'logloss'. Explicitly set eval_metric if you'd like to restore the old behavior.\n"
     ]
    },
    {
     "name": "stderr",
     "output_type": "stream",
     "text": [
      "/opt/anaconda3/lib/python3.8/site-packages/xgboost/sklearn.py:888: UserWarning: The use of label encoder in XGBClassifier is deprecated and will be removed in a future release. To remove this warning, do the following: 1) Pass option use_label_encoder=False when constructing XGBClassifier object; and 2) Encode your labels (y) as integers starting with 0, i.e. 0, 1, 2, ..., [num_class - 1].\n",
      "  warnings.warn(label_encoder_deprecation_msg, UserWarning)\n"
     ]
    },
    {
     "name": "stdout",
     "output_type": "stream",
     "text": [
      "[00:43:31] WARNING: /opt/concourse/worker/volumes/live/7a2b9f41-3287-451b-6691-43e9a6c0910f/volume/xgboost-split_1619728204606/work/src/learner.cc:1061: Starting in XGBoost 1.3.0, the default evaluation metric used with the objective 'binary:logistic' was changed from 'error' to 'logloss'. Explicitly set eval_metric if you'd like to restore the old behavior.\n"
     ]
    },
    {
     "name": "stderr",
     "output_type": "stream",
     "text": [
      "/opt/anaconda3/lib/python3.8/site-packages/xgboost/sklearn.py:888: UserWarning: The use of label encoder in XGBClassifier is deprecated and will be removed in a future release. To remove this warning, do the following: 1) Pass option use_label_encoder=False when constructing XGBClassifier object; and 2) Encode your labels (y) as integers starting with 0, i.e. 0, 1, 2, ..., [num_class - 1].\n",
      "  warnings.warn(label_encoder_deprecation_msg, UserWarning)\n"
     ]
    },
    {
     "name": "stdout",
     "output_type": "stream",
     "text": [
      "[00:44:27] WARNING: /opt/concourse/worker/volumes/live/7a2b9f41-3287-451b-6691-43e9a6c0910f/volume/xgboost-split_1619728204606/work/src/learner.cc:1061: Starting in XGBoost 1.3.0, the default evaluation metric used with the objective 'binary:logistic' was changed from 'error' to 'logloss'. Explicitly set eval_metric if you'd like to restore the old behavior.\n",
      "[0.71746955 0.72338418 0.71545306 0.70980978 0.71010874]\n",
      "Training Accuracy 0.7152450614693125\n",
      "##############\n",
      "[0.66601796 0.6413515  0.65150414 0.63686457 0.67034796]\n",
      "Cross_Val Accuracy 0.6532172253160942\n",
      "##############\n",
      "Training Macro Precision: 0.7040610386171222\n",
      "Cross_Val Macro Precision: 0.6422411184001837\n",
      "##############\n",
      "Training Macro Recall: 0.686343636423462\n",
      "Cross_Val Macro Recall: 0.625461979403772\n",
      "##############\n",
      "Training Macro F1: 0.6906508973396228\n",
      "Cross_Val Macro F1: 0.6208919635626482\n"
     ]
    }
   ],
   "source": [
    "print_cv_scores(xgb_pipe, x_train, y_train)"
   ]
  },
  {
   "cell_type": "code",
   "execution_count": 353,
   "metadata": {},
   "outputs": [],
   "source": [
    "display_labels = ['Written Off', \n",
    "                  'Defaulted', \n",
    "                  'Dismissed',\n",
    "                  'In Violation']\n",
    "\n",
    "def print_cm_with_labels(y_true, \n",
    "                         y_pred, \n",
    "                         display_labels):\n",
    "    \n",
    "    \n",
    "    '''\n",
    "    Takes the true values and predicted values of a classifier and \n",
    "    plots a confusion matrix (normalized by predictions) using \n",
    "    a list of given display labels.\n",
    "    '''\n",
    "    cm = confusion_matrix(y_true, y_pred, normalize = 'pred')\n",
    "    disp = ConfusionMatrixDisplay(confusion_matrix=cm,\n",
    "                                  display_labels=display_labels)\n",
    "\n",
    "    fig, ax = plt.subplots(figsize=(6,6))\n",
    "    disp.plot(ax=ax)\n",
    "    ax.grid(False)\n",
    "    disp.ax_.set_xticklabels(display_labels,rotation=45);"
   ]
  },
  {
   "cell_type": "code",
   "execution_count": 46,
   "metadata": {},
   "outputs": [
    {
     "data": {
      "image/png": "[encoded data removed]",
      "text/plain": [
       "<Figure size 432x288 with 2 Axes>"
      ]
     },
     "metadata": {
      "needs_background": "light"
     },
     "output_type": "display_data"
    }
   ],
   "source": [
    "plot_confusion_matrix(xgb_pipe, x_train, y_train, \n",
    "                      display_labels= ['Fee Collected', 'Fee Not Collected'], normalize=\"pred\");"
   ]
  },
  {
   "cell_type": "code",
   "execution_count": 357,
   "metadata": {},
   "outputs": [
    {
     "data": {
      "text/plain": [
       "XGBClassifier(base_score=0.5, booster='gbtree', colsample_bylevel=1,\n",
       "              colsample_bynode=1, colsample_bytree=1, gamma=0, gpu_id=-1,\n",
       "              importance_type='gain', interaction_constraints='',\n",
       "              learning_rate=0.300000012, max_delta_step=0, max_depth=6,\n",
       "              min_child_weight=1, missing=nan, monotone_constraints='()',\n",
       "              n_estimators=100, n_jobs=8, num_parallel_tree=1,\n",
       "              objective='multi:softprob', random_state=0, reg_alpha=0,\n",
       "              reg_lambda=1, scale_pos_weight=None, subsample=1,\n",
       "              tree_method='exact', validate_parameters=1, verbosity=None)"
      ]
     },
     "execution_count": 357,
     "metadata": {},
     "output_type": "execute_result"
    }
   ],
   "source": [
    "xgb_pipe[1]"
   ]
  },
  {
   "cell_type": "code",
   "execution_count": 360,
   "metadata": {},
   "outputs": [
    {
     "data": {
      "text/plain": [
       "<sklearn.metrics._plot.confusion_matrix.ConfusionMatrixDisplay at 0x7fe5dbc12df0>"
      ]
     },
     "execution_count": 360,
     "metadata": {},
     "output_type": "execute_result"
    },
    {
     "data": {
      "image/png": "[encoded data removed]",
      "text/plain": [
       "<Figure size 432x288 with 2 Axes>"
      ]
     },
     "metadata": {
      "needs_background": "light"
     },
     "output_type": "display_data"
    }
   ],
   "source": [
    "plot_confusion_matrix(xgb_pipe, x_train, y_train, \n",
    "                      display_labels= ['Written Off', 'Defaulted','Dimissed','In Violation'],\n",
    "                      normalize =\"pred\") "
   ]
  },
  {
   "cell_type": "code",
   "execution_count": null,
   "metadata": {},
   "outputs": [],
   "source": [
    "display_labels = ['Written Off', \n",
    "                  'Defaulted', \n",
    "                  'Dismissed',\n",
    "                  'In Violation']\n",
    "\n",
    "def print_cm_with_labels(y_true, \n",
    "                         y_pred, \n",
    "                         display_labels):\n",
    "    \n",
    "    \n",
    "    '''\n",
    "    Takes the true values and predicted values of a classifier and \n",
    "    plots a confusion matrix (normalized by predictions) using \n",
    "    a list of given display labels.\n",
    "    '''\n",
    "    "
   ]
  },
  {
   "cell_type": "code",
   "execution_count": 324,
   "metadata": {},
   "outputs": [
    {
     "ename": "ValueError",
     "evalue": "Classification metrics can't handle a mix of continuous-multioutput and multiclass targets",
     "output_type": "error",
     "traceback": [
      "\u001b[0;31m---------------------------------------------------------------------------\u001b[0m",
      "\u001b[0;31mValueError\u001b[0m                                Traceback (most recent call last)",
      "\u001b[0;32m<ipython-input-324-592e4e0fd1d1>\u001b[0m in \u001b[0;36m<module>\u001b[0;34m\u001b[0m\n\u001b[0;32m----> 1\u001b[0;31m cm = confusion_matrix(x_train, \n\u001b[0m\u001b[1;32m      2\u001b[0m                       \u001b[0my_train\u001b[0m\u001b[0;34m,\u001b[0m\u001b[0;34m\u001b[0m\u001b[0;34m\u001b[0m\u001b[0m\n\u001b[1;32m      3\u001b[0m                       normalize = 'pred')\n\u001b[1;32m      4\u001b[0m \u001b[0;34m\u001b[0m\u001b[0m\n\u001b[1;32m      5\u001b[0m \u001b[0mdisp\u001b[0m \u001b[0;34m=\u001b[0m \u001b[0mConfusionMatrixDisplay\u001b[0m\u001b[0;34m(\u001b[0m\u001b[0mconfusion_matrix\u001b[0m\u001b[0;34m=\u001b[0m\u001b[0mcm\u001b[0m\u001b[0;34m)\u001b[0m\u001b[0;34m\u001b[0m\u001b[0;34m\u001b[0m\u001b[0m\n",
      "\u001b[0;32m/opt/anaconda3/lib/python3.8/site-packages/sklearn/utils/validation.py\u001b[0m in \u001b[0;36minner_f\u001b[0;34m(*args, **kwargs)\u001b[0m\n\u001b[1;32m     61\u001b[0m             \u001b[0mextra_args\u001b[0m \u001b[0;34m=\u001b[0m \u001b[0mlen\u001b[0m\u001b[0;34m(\u001b[0m\u001b[0margs\u001b[0m\u001b[0;34m)\u001b[0m \u001b[0;34m-\u001b[0m \u001b[0mlen\u001b[0m\u001b[0;34m(\u001b[0m\u001b[0mall_args\u001b[0m\u001b[0;34m)\u001b[0m\u001b[0;34m\u001b[0m\u001b[0;34m\u001b[0m\u001b[0m\n\u001b[1;32m     62\u001b[0m             \u001b[0;32mif\u001b[0m \u001b[0mextra_args\u001b[0m \u001b[0;34m<=\u001b[0m \u001b[0;36m0\u001b[0m\u001b[0;34m:\u001b[0m\u001b[0;34m\u001b[0m\u001b[0;34m\u001b[0m\u001b[0m\n\u001b[0;32m---> 63\u001b[0;31m                 \u001b[0;32mreturn\u001b[0m \u001b[0mf\u001b[0m\u001b[0;34m(\u001b[0m\u001b[0;34m*\u001b[0m\u001b[0margs\u001b[0m\u001b[0;34m,\u001b[0m \u001b[0;34m**\u001b[0m\u001b[0mkwargs\u001b[0m\u001b[0;34m)\u001b[0m\u001b[0;34m\u001b[0m\u001b[0;34m\u001b[0m\u001b[0m\n\u001b[0m\u001b[1;32m     64\u001b[0m \u001b[0;34m\u001b[0m\u001b[0m\n\u001b[1;32m     65\u001b[0m             \u001b[0;31m# extra_args > 0\u001b[0m\u001b[0;34m\u001b[0m\u001b[0;34m\u001b[0m\u001b[0;34m\u001b[0m\u001b[0m\n",
      "\u001b[0;32m/opt/anaconda3/lib/python3.8/site-packages/sklearn/metrics/_classification.py\u001b[0m in \u001b[0;36mconfusion_matrix\u001b[0;34m(y_true, y_pred, labels, sample_weight, normalize)\u001b[0m\n\u001b[1;32m    294\u001b[0m \u001b[0;34m\u001b[0m\u001b[0m\n\u001b[1;32m    295\u001b[0m     \"\"\"\n\u001b[0;32m--> 296\u001b[0;31m     \u001b[0my_type\u001b[0m\u001b[0;34m,\u001b[0m \u001b[0my_true\u001b[0m\u001b[0;34m,\u001b[0m \u001b[0my_pred\u001b[0m \u001b[0;34m=\u001b[0m \u001b[0m_check_targets\u001b[0m\u001b[0;34m(\u001b[0m\u001b[0my_true\u001b[0m\u001b[0;34m,\u001b[0m \u001b[0my_pred\u001b[0m\u001b[0;34m)\u001b[0m\u001b[0;34m\u001b[0m\u001b[0;34m\u001b[0m\u001b[0m\n\u001b[0m\u001b[1;32m    297\u001b[0m     \u001b[0;32mif\u001b[0m \u001b[0my_type\u001b[0m \u001b[0;32mnot\u001b[0m \u001b[0;32min\u001b[0m \u001b[0;34m(\u001b[0m\u001b[0;34m\"binary\"\u001b[0m\u001b[0;34m,\u001b[0m \u001b[0;34m\"multiclass\"\u001b[0m\u001b[0;34m)\u001b[0m\u001b[0;34m:\u001b[0m\u001b[0;34m\u001b[0m\u001b[0;34m\u001b[0m\u001b[0m\n\u001b[1;32m    298\u001b[0m         \u001b[0;32mraise\u001b[0m \u001b[0mValueError\u001b[0m\u001b[0;34m(\u001b[0m\u001b[0;34m\"%s is not supported\"\u001b[0m \u001b[0;34m%\u001b[0m \u001b[0my_type\u001b[0m\u001b[0;34m)\u001b[0m\u001b[0;34m\u001b[0m\u001b[0;34m\u001b[0m\u001b[0m\n",
      "\u001b[0;32m/opt/anaconda3/lib/python3.8/site-packages/sklearn/metrics/_classification.py\u001b[0m in \u001b[0;36m_check_targets\u001b[0;34m(y_true, y_pred)\u001b[0m\n\u001b[1;32m     90\u001b[0m \u001b[0;34m\u001b[0m\u001b[0m\n\u001b[1;32m     91\u001b[0m     \u001b[0;32mif\u001b[0m \u001b[0mlen\u001b[0m\u001b[0;34m(\u001b[0m\u001b[0my_type\u001b[0m\u001b[0;34m)\u001b[0m \u001b[0;34m>\u001b[0m \u001b[0;36m1\u001b[0m\u001b[0;34m:\u001b[0m\u001b[0;34m\u001b[0m\u001b[0;34m\u001b[0m\u001b[0m\n\u001b[0;32m---> 92\u001b[0;31m         raise ValueError(\"Classification metrics can't handle a mix of {0} \"\n\u001b[0m\u001b[1;32m     93\u001b[0m                          \"and {1} targets\".format(type_true, type_pred))\n\u001b[1;32m     94\u001b[0m \u001b[0;34m\u001b[0m\u001b[0m\n",
      "\u001b[0;31mValueError\u001b[0m: Classification metrics can't handle a mix of continuous-multioutput and multiclass targets"
     ]
    }
   ],
   "source": [
    "cm = confusion_matrix(x_train, \n",
    "                      y_train, \n",
    "                      normalize = 'pred')\n",
    "\n",
    "disp = ConfusionMatrixDisplay(confusion_matrix=cm)\n",
    "\n",
    "fig, ax = plt.subplots(figsize=(6,6))\n",
    "disp.plot(ax=ax)\n",
    "ax.grid(False)\n",
    "disp.ax_.set_xticklabels(display_labels,rotation=45);"
   ]
  },
  {
   "cell_type": "code",
   "execution_count": null,
   "metadata": {},
   "outputs": [],
   "source": []
  },
  {
   "cell_type": "code",
   "execution_count": null,
   "metadata": {},
   "outputs": [],
   "source": []
  },
  {
   "cell_type": "code",
   "execution_count": null,
   "metadata": {},
   "outputs": [],
   "source": []
  },
  {
   "cell_type": "code",
   "execution_count": null,
   "metadata": {},
   "outputs": [],
   "source": [
    "boost_model = XGBClassifier(objective='ternary:logistic',\n",
    "    max_depth = 20,\n",
    "    min_child_weight = 0.5,\n",
    "    reg_alpha = 0)\n",
    "\n",
    "\n",
    "boost_model.fit(train_df, merged_train_df[\"Hearing Result\"])\n",
    "# print(\"fit model\")\n",
    "    \n",
    "y_hat = boost_model.predict(merged_train_df[\"Hearing Result\"])\n",
    "# print(\"predicted on model\")"
   ]
  },
  {
   "cell_type": "code",
   "execution_count": null,
   "metadata": {},
   "outputs": [],
   "source": []
  },
  {
   "cell_type": "code",
   "execution_count": null,
   "metadata": {},
   "outputs": [],
   "source": []
  }
 ],
 "metadata": {
  "kernelspec": {
   "display_name": "Python (learn-env)",
   "language": "python",
   "name": "learn-env"
  },
  "language_info": {
   "codemirror_mode": {
    "name": "ipython",
    "version": 3
   },
   "file_extension": ".py",
   "mimetype": "text/x-python",
   "name": "python",
   "nbconvert_exporter": "python",
   "pygments_lexer": "ipython3",
   "version": "3.8.8"
  }
 },
 "nbformat": 4,
 "nbformat_minor": 4
}
