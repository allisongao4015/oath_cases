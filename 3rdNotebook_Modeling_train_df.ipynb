{
 "cells": [
  {
   "cell_type": "code",
   "execution_count": 35,
   "metadata": {},
   "outputs": [],
   "source": [
    "import pandas as pd\n",
    "import numpy as np\n",
    "import matplotlib.pyplot as plt\n",
    "import seaborn as sns\n",
    "from datetime import datetime\n",
    "\n",
    "from sklearn.pipeline import Pipeline\n",
    "from sklearn.preprocessing import OneHotEncoder , StandardScaler \n",
    "from sklearn.compose import ColumnTransformer\n",
    "\n",
    "from sklearn.dummy import DummyClassifier\n",
    "from sklearn.tree import DecisionTreeClassifier, plot_tree\n",
    "from sklearn.linear_model import LogisticRegression\n",
    "from sklearn.ensemble import RandomForestClassifier\n",
    "from xgboost import XGBClassifier\n",
    "from sklearn.model_selection import cross_validate, GridSearchCV\n",
    "from sklearn.model_selection import train_test_split\n",
    "\n",
    "\n",
    "from sklearn.metrics import plot_confusion_matrix, confusion_matrix, plot_confusion_matrix,\\\n",
    "    precision_score, recall_score, accuracy_score, f1_score, log_loss,\\\n",
    "    roc_curve, roc_auc_score, ConfusionMatrixDisplay, classification_report"
   ]
  },
  {
   "cell_type": "code",
   "execution_count": 36,
   "metadata": {},
   "outputs": [],
   "source": [
    "df = pd.read_csv(\"merged_train_df.csv\", low_memory = False)\n",
    "df.drop(\"Unnamed: 0\", inplace=True, axis=1)\n",
    "df[\"Respondent ZCTA\"]= df[\"Respondent ZCTA\"].astype(str)"
   ]
  },
  {
   "cell_type": "code",
   "execution_count": 37,
   "metadata": {},
   "outputs": [
    {
     "data": {
      "text/plain": [
       "Index(['Hearing Result', 'Issuing Agency', 'Violation Location (Borough)',\n",
       "       'Respondent Address (Borough)', 'Decision Location (Borough)',\n",
       "       'Charge #1: Code Section', 'weekend_indi', 'Season',\n",
       "       'Respondent Status', 'Respondent ZCTA',\n",
       "       'Estimate!!Nonfamily households!!Median income (dollars)',\n",
       "       'Estimate!!Nonfamily households!!Mean income (dollars)',\n",
       "       'Estimate!!Nonfamily households!!Total!!Less than $10,000',\n",
       "       'Estimate!!Nonfamily households!!Total!!$10,000 to $14,999',\n",
       "       'Estimate!!Nonfamily households!!Total!!$15,000 to $24,999',\n",
       "       'Estimate!!Nonfamily households!!Total!!$25,000 to $34,999',\n",
       "       'Estimate!!Nonfamily households!!Total!!$35,000 to $49,999',\n",
       "       'Estimate!!Nonfamily households!!Total!!$50,000 to $74,999',\n",
       "       'Estimate!!Households!!Median income (dollars)',\n",
       "       'Estimate!!Households!!Mean income (dollars)',\n",
       "       'Estimate!!Households!!Total!!Less than $10,000',\n",
       "       'Estimate!!Households!!Total!!$10,000 to $14,999',\n",
       "       'Estimate!!Households!!Total!!$15,000 to $24,999',\n",
       "       'Estimate!!Households!!Total!!$25,000 to $34,999',\n",
       "       'Estimate!!Households!!Total!!$35,000 to $49,999',\n",
       "       'Estimate!!Households!!Total!!$50,000 to $74,999'],\n",
       "      dtype='object')"
      ]
     },
     "execution_count": 37,
     "metadata": {},
     "output_type": "execute_result"
    }
   ],
   "source": [
    "df.columns"
   ]
  },
  {
   "cell_type": "code",
   "execution_count": 38,
   "metadata": {},
   "outputs": [],
   "source": [
    "list_to_convert = ['Estimate!!Nonfamily households!!Median income (dollars)',\n",
    "       'Estimate!!Nonfamily households!!Mean income (dollars)',\n",
    "       'Estimate!!Nonfamily households!!Total!!Less than $10,000',\n",
    "       'Estimate!!Nonfamily households!!Total!!$10,000 to $14,999',\n",
    "       'Estimate!!Nonfamily households!!Total!!$15,000 to $24,999',\n",
    "       'Estimate!!Nonfamily households!!Total!!$25,000 to $34,999',\n",
    "       'Estimate!!Nonfamily households!!Total!!$35,000 to $49,999',\n",
    "       'Estimate!!Nonfamily households!!Total!!$50,000 to $74,999',\n",
    "       'Estimate!!Households!!Median income (dollars)',\n",
    "       'Estimate!!Households!!Mean income (dollars)',\n",
    "       'Estimate!!Households!!Total!!Less than $10,000',\n",
    "       'Estimate!!Households!!Total!!$10,000 to $14,999',\n",
    "       'Estimate!!Households!!Total!!$15,000 to $24,999',\n",
    "       'Estimate!!Households!!Total!!$25,000 to $34,999',\n",
    "       'Estimate!!Households!!Total!!$35,000 to $49,999',\n",
    "       'Estimate!!Households!!Total!!$50,000 to $74,999']"
   ]
  },
  {
   "cell_type": "code",
   "execution_count": 39,
   "metadata": {},
   "outputs": [],
   "source": [
    "def fill_na(column):\n",
    "    for x in column:\n",
    "        df[x].fillna(0, inplace=True)\n",
    "    \n",
    "    return df.head(2)"
   ]
  },
  {
   "cell_type": "code",
   "execution_count": 40,
   "metadata": {},
   "outputs": [
    {
     "data": {
      "text/html": [
       "<div>\n",
       "<style scoped>\n",
       "    .dataframe tbody tr th:only-of-type {\n",
       "        vertical-align: middle;\n",
       "    }\n",
       "\n",
       "    .dataframe tbody tr th {\n",
       "        vertical-align: top;\n",
       "    }\n",
       "\n",
       "    .dataframe thead th {\n",
       "        text-align: right;\n",
       "    }\n",
       "</style>\n",
       "<table border=\"1\" class=\"dataframe\">\n",
       "  <thead>\n",
       "    <tr style=\"text-align: right;\">\n",
       "      <th></th>\n",
       "      <th>Hearing Result</th>\n",
       "      <th>Issuing Agency</th>\n",
       "      <th>Violation Location (Borough)</th>\n",
       "      <th>Respondent Address (Borough)</th>\n",
       "      <th>Decision Location (Borough)</th>\n",
       "      <th>Charge #1: Code Section</th>\n",
       "      <th>weekend_indi</th>\n",
       "      <th>Season</th>\n",
       "      <th>Respondent Status</th>\n",
       "      <th>Respondent ZCTA</th>\n",
       "      <th>...</th>\n",
       "      <th>Estimate!!Nonfamily households!!Total!!$35,000 to $49,999</th>\n",
       "      <th>Estimate!!Nonfamily households!!Total!!$50,000 to $74,999</th>\n",
       "      <th>Estimate!!Households!!Median income (dollars)</th>\n",
       "      <th>Estimate!!Households!!Mean income (dollars)</th>\n",
       "      <th>Estimate!!Households!!Total!!Less than $10,000</th>\n",
       "      <th>Estimate!!Households!!Total!!$10,000 to $14,999</th>\n",
       "      <th>Estimate!!Households!!Total!!$15,000 to $24,999</th>\n",
       "      <th>Estimate!!Households!!Total!!$25,000 to $34,999</th>\n",
       "      <th>Estimate!!Households!!Total!!$35,000 to $49,999</th>\n",
       "      <th>Estimate!!Households!!Total!!$50,000 to $74,999</th>\n",
       "    </tr>\n",
       "  </thead>\n",
       "  <tbody>\n",
       "    <tr>\n",
       "      <th>0</th>\n",
       "      <td>0.0</td>\n",
       "      <td>SANITATION POLICE</td>\n",
       "      <td>QUEENS</td>\n",
       "      <td>QUEENS</td>\n",
       "      <td>In Person QUEENS</td>\n",
       "      <td>AC 16</td>\n",
       "      <td>0.0</td>\n",
       "      <td>Spring</td>\n",
       "      <td>Person</td>\n",
       "      <td>11372.0</td>\n",
       "      <td>...</td>\n",
       "      <td>14.5</td>\n",
       "      <td>19.3</td>\n",
       "      <td>60659.0</td>\n",
       "      <td>79621.0</td>\n",
       "      <td>4.3</td>\n",
       "      <td>4.5</td>\n",
       "      <td>10.2</td>\n",
       "      <td>9.6</td>\n",
       "      <td>14.7</td>\n",
       "      <td>19.0</td>\n",
       "    </tr>\n",
       "    <tr>\n",
       "      <th>1</th>\n",
       "      <td>0.0</td>\n",
       "      <td>POLICE DEPARTMENT</td>\n",
       "      <td>MANHATTAN</td>\n",
       "      <td>QUEENS</td>\n",
       "      <td>UNKNOWN</td>\n",
       "      <td>AC 17</td>\n",
       "      <td>1.0</td>\n",
       "      <td>Winter</td>\n",
       "      <td>Person</td>\n",
       "      <td>11372.0</td>\n",
       "      <td>...</td>\n",
       "      <td>14.5</td>\n",
       "      <td>19.3</td>\n",
       "      <td>60659.0</td>\n",
       "      <td>79621.0</td>\n",
       "      <td>4.3</td>\n",
       "      <td>4.5</td>\n",
       "      <td>10.2</td>\n",
       "      <td>9.6</td>\n",
       "      <td>14.7</td>\n",
       "      <td>19.0</td>\n",
       "    </tr>\n",
       "  </tbody>\n",
       "</table>\n",
       "<p>2 rows × 26 columns</p>\n",
       "</div>"
      ],
      "text/plain": [
       "   Hearing Result     Issuing Agency Violation Location (Borough)  \\\n",
       "0             0.0  SANITATION POLICE                       QUEENS   \n",
       "1             0.0  POLICE DEPARTMENT                    MANHATTAN   \n",
       "\n",
       "  Respondent Address (Borough) Decision Location (Borough)  \\\n",
       "0                       QUEENS            In Person QUEENS   \n",
       "1                       QUEENS                     UNKNOWN   \n",
       "\n",
       "  Charge #1: Code Section  weekend_indi  Season Respondent Status  \\\n",
       "0                   AC 16           0.0  Spring            Person   \n",
       "1                   AC 17           1.0  Winter            Person   \n",
       "\n",
       "  Respondent ZCTA  ...  \\\n",
       "0         11372.0  ...   \n",
       "1         11372.0  ...   \n",
       "\n",
       "   Estimate!!Nonfamily households!!Total!!$35,000 to $49,999  \\\n",
       "0                                               14.5           \n",
       "1                                               14.5           \n",
       "\n",
       "   Estimate!!Nonfamily households!!Total!!$50,000 to $74,999  \\\n",
       "0                                               19.3           \n",
       "1                                               19.3           \n",
       "\n",
       "   Estimate!!Households!!Median income (dollars)  \\\n",
       "0                                        60659.0   \n",
       "1                                        60659.0   \n",
       "\n",
       "   Estimate!!Households!!Mean income (dollars)  \\\n",
       "0                                      79621.0   \n",
       "1                                      79621.0   \n",
       "\n",
       "   Estimate!!Households!!Total!!Less than $10,000  \\\n",
       "0                                             4.3   \n",
       "1                                             4.3   \n",
       "\n",
       "   Estimate!!Households!!Total!!$10,000 to $14,999  \\\n",
       "0                                              4.5   \n",
       "1                                              4.5   \n",
       "\n",
       "   Estimate!!Households!!Total!!$15,000 to $24,999  \\\n",
       "0                                             10.2   \n",
       "1                                             10.2   \n",
       "\n",
       "   Estimate!!Households!!Total!!$25,000 to $34,999  \\\n",
       "0                                              9.6   \n",
       "1                                              9.6   \n",
       "\n",
       "   Estimate!!Households!!Total!!$35,000 to $49,999  \\\n",
       "0                                             14.7   \n",
       "1                                             14.7   \n",
       "\n",
       "   Estimate!!Households!!Total!!$50,000 to $74,999  \n",
       "0                                             19.0  \n",
       "1                                             19.0  \n",
       "\n",
       "[2 rows x 26 columns]"
      ]
     },
     "execution_count": 40,
     "metadata": {},
     "output_type": "execute_result"
    }
   ],
   "source": [
    "fill_na(list_to_convert)"
   ]
  },
  {
   "cell_type": "code",
   "execution_count": 41,
   "metadata": {},
   "outputs": [],
   "source": [
    "x_train = df.drop(\"Hearing Result\", axis=1)\n",
    "y_train = df[\"Hearing Result\"]"
   ]
  },
  {
   "cell_type": "code",
   "execution_count": 42,
   "metadata": {},
   "outputs": [
    {
     "data": {
      "text/plain": [
       "0.0    0.604015\n",
       "1.0    0.395985\n",
       "Name: Hearing Result, dtype: float64"
      ]
     },
     "execution_count": 42,
     "metadata": {},
     "output_type": "execute_result"
    }
   ],
   "source": [
    "y_train.value_counts(normalize=True)"
   ]
  },
  {
   "cell_type": "code",
   "execution_count": 43,
   "metadata": {},
   "outputs": [
    {
     "name": "stdout",
     "output_type": "stream",
     "text": [
      "<class 'pandas.core.frame.DataFrame'>\n",
      "RangeIndex: 213243 entries, 0 to 213242\n",
      "Data columns (total 25 columns):\n",
      " #   Column                                                     Non-Null Count   Dtype  \n",
      "---  ------                                                     --------------   -----  \n",
      " 0   Issuing Agency                                             213243 non-null  object \n",
      " 1   Violation Location (Borough)                               213243 non-null  object \n",
      " 2   Respondent Address (Borough)                               213243 non-null  object \n",
      " 3   Decision Location (Borough)                                213243 non-null  object \n",
      " 4   Charge #1: Code Section                                    213243 non-null  object \n",
      " 5   weekend_indi                                               213243 non-null  float64\n",
      " 6   Season                                                     213243 non-null  object \n",
      " 7   Respondent Status                                          213243 non-null  object \n",
      " 8   Respondent ZCTA                                            213243 non-null  object \n",
      " 9   Estimate!!Nonfamily households!!Median income (dollars)    213243 non-null  float64\n",
      " 10  Estimate!!Nonfamily households!!Mean income (dollars)      213243 non-null  float64\n",
      " 11  Estimate!!Nonfamily households!!Total!!Less than $10,000   213243 non-null  float64\n",
      " 12  Estimate!!Nonfamily households!!Total!!$10,000 to $14,999  213243 non-null  float64\n",
      " 13  Estimate!!Nonfamily households!!Total!!$15,000 to $24,999  213243 non-null  float64\n",
      " 14  Estimate!!Nonfamily households!!Total!!$25,000 to $34,999  213243 non-null  float64\n",
      " 15  Estimate!!Nonfamily households!!Total!!$35,000 to $49,999  213243 non-null  float64\n",
      " 16  Estimate!!Nonfamily households!!Total!!$50,000 to $74,999  213243 non-null  float64\n",
      " 17  Estimate!!Households!!Median income (dollars)              213243 non-null  float64\n",
      " 18  Estimate!!Households!!Mean income (dollars)                213243 non-null  float64\n",
      " 19  Estimate!!Households!!Total!!Less than $10,000             213243 non-null  float64\n",
      " 20  Estimate!!Households!!Total!!$10,000 to $14,999            213243 non-null  float64\n",
      " 21  Estimate!!Households!!Total!!$15,000 to $24,999            213243 non-null  float64\n",
      " 22  Estimate!!Households!!Total!!$25,000 to $34,999            213243 non-null  float64\n",
      " 23  Estimate!!Households!!Total!!$35,000 to $49,999            213243 non-null  float64\n",
      " 24  Estimate!!Households!!Total!!$50,000 to $74,999            213243 non-null  float64\n",
      "dtypes: float64(17), object(8)\n",
      "memory usage: 40.7+ MB\n"
     ]
    }
   ],
   "source": [
    "x_train.info()"
   ]
  },
  {
   "cell_type": "code",
   "execution_count": 44,
   "metadata": {},
   "outputs": [],
   "source": [
    "# Creating dummies\n",
    "# Create the OneHotEncoder object\n",
    "\n",
    "ohe = OneHotEncoder(drop='first')\n",
    "\n",
    "\n",
    "# Transform the data into dummies\n",
    "\n",
    "trans = ohe.fit_transform(x_train[['Issuing Agency',\n",
    "                                   \"Respondent Address (Borough)\",\n",
    "                                   \"Violation Location (Borough)\", \n",
    "                                   \"Decision Location (Borough)\",\n",
    "                                  \"Charge #1: Code Section\",\n",
    "                                  \"Season\",\"Respondent Status\",\"Respondent ZCTA\"]])\n",
    "\n",
    "\n",
    "# Store the dummies matrix and name vector\n",
    "\n",
    "data = trans.todense()\n",
    "names = ohe.get_feature_names()\n",
    "\n",
    "\n",
    "# Put the dummy variables in a dataframe\n",
    "\n",
    "dummies = pd.DataFrame(data, columns=names)\n",
    "\n",
    "\n",
    "# Join the dummies dataframe to the original\n",
    "\n",
    "x_train = df.join(dummies)"
   ]
  },
  {
   "cell_type": "code",
   "execution_count": 45,
   "metadata": {},
   "outputs": [],
   "source": [
    "x_train = x_train.drop([\"Hearing Result\", \n",
    "                        'Issuing Agency',\n",
    "                        \"Respondent Address (Borough)\",\n",
    "                        \"Violation Location (Borough)\", \n",
    "                        \"Decision Location (Borough)\",\n",
    "                       \"Charge #1: Code Section\",\n",
    "                        \"Season\",\n",
    "                        \"Respondent Status\",\n",
    "                        \"Respondent ZCTA\"], axis=1)"
   ]
  },
  {
   "cell_type": "code",
   "execution_count": 46,
   "metadata": {},
   "outputs": [
    {
     "data": {
      "text/plain": [
       "(213243, 271)"
      ]
     },
     "execution_count": 46,
     "metadata": {},
     "output_type": "execute_result"
    }
   ],
   "source": [
    "x_train.shape"
   ]
  },
  {
   "cell_type": "code",
   "execution_count": 53,
   "metadata": {},
   "outputs": [
    {
     "data": {
      "text/plain": [
       "(213243,)"
      ]
     },
     "execution_count": 53,
     "metadata": {},
     "output_type": "execute_result"
    }
   ],
   "source": [
    "y_train.shape"
   ]
  },
  {
   "cell_type": "code",
   "execution_count": 54,
   "metadata": {},
   "outputs": [
    {
     "data": {
      "text/plain": [
       "0.0    0.604015\n",
       "1.0    0.395985\n",
       "Name: Hearing Result, dtype: float64"
      ]
     },
     "execution_count": 54,
     "metadata": {},
     "output_type": "execute_result"
    }
   ],
   "source": [
    "y_train.value_counts(normalize=True)"
   ]
  },
  {
   "cell_type": "code",
   "execution_count": 47,
   "metadata": {},
   "outputs": [],
   "source": [
    "def print_cv_scores(pipe, X, y):\n",
    "    '''\n",
    "    Runs cross_validate on given feature and binary target arrays using given pipeline, \n",
    "    printing the scoring results for both training and cross_val.\n",
    "    '''\n",
    "    scoring = ['accuracy','precision']\n",
    "    \n",
    "    results = cross_validate(pipe, \n",
    "                             X, \n",
    "                             y, \n",
    "                             return_train_score=True, \n",
    "                             scoring=scoring)\n",
    "    \n",
    "    print(results['train_accuracy'])\n",
    "    print('Training Accuracy', results['train_accuracy'].mean())\n",
    "    print('##############')\n",
    "    print(results['test_accuracy'])\n",
    "    print('Cross_Val Accuracy', results['test_accuracy'].mean())\n",
    "    print('##############')\n",
    "    print('Training Precision:', results['train_precision'].mean())\n",
    "    print('Cross_Val Precision:', results['test_precision'].mean())\n"
   ]
  },
  {
   "cell_type": "code",
   "execution_count": 48,
   "metadata": {},
   "outputs": [],
   "source": [
    "display_labels = ['No Fee Collected', \n",
    "                  'Fee Collected']\n",
    "\n",
    "def print_cm_with_labels(y_true, \n",
    "                         y_pred, \n",
    "                         display_labels):\n",
    "    \n",
    "    \n",
    "    '''\n",
    "    Takes the true values and predicted values of a classifier and \n",
    "    plots a confusion matrix (normalized by predictions) using \n",
    "    a list of given display labels.\n",
    "    '''\n",
    "    cm = confusion_matrix(y_true, y_pred, normalize = 'pred')\n",
    "    disp = ConfusionMatrixDisplay(confusion_matrix=cm,\n",
    "                                  )\n",
    "\n",
    "    fig, ax = plt.subplots(figsize=(6,6))\n",
    "    disp.plot(ax=ax)\n",
    "    ax.grid(False)\n",
    "    disp.ax_.set_xticklabels(display_labels,rotation=45);"
   ]
  },
  {
   "cell_type": "markdown",
   "metadata": {},
   "source": [
    "# FSM"
   ]
  },
  {
   "cell_type": "code",
   "execution_count": 64,
   "metadata": {},
   "outputs": [
    {
     "name": "stdout",
     "output_type": "stream",
     "text": [
      "Mean Test Score: 0.6040151376515861\n",
      "Mean Train Score: 0.6040151376593361\n"
     ]
    },
    {
     "name": "stderr",
     "output_type": "stream",
     "text": [
      "/opt/anaconda3/lib/python3.8/site-packages/sklearn/metrics/_classification.py:1245: UndefinedMetricWarning: Precision is ill-defined and being set to 0.0 in labels with no predicted samples. Use `zero_division` parameter to control this behavior.\n",
      "  _warn_prf(average, modifier, msg_start, len(result))\n"
     ]
    },
    {
     "name": "stdout",
     "output_type": "stream",
     "text": [
      "Accuracy Score: 0.6040151376598528\n",
      "Macro Precision Score: 0.3020075688299264\n",
      "Micro Precision Score: 0.6040151376598528\n",
      "Macro Recall Score: 0.5\n",
      "Micro Recall Score: 0.6040151376598528\n"
     ]
    }
   ],
   "source": [
    "dummy_model = DummyClassifier(strategy=\"most_frequent\")\n",
    "dummy_model.fit(x_train, y_train)\n",
    "dummy_model.predict(x_train)\n",
    "cv_results = cross_validate(dummy_model, x_train, y_train, return_train_score=True)\n",
    "\n",
    "y_hat = dummy_model.predict(x_train)\n",
    "\n",
    "\n",
    "\n",
    "print('Mean Test Score: {}'.format(cv_results['test_score'].mean()))\n",
    "print('Mean Train Score: {}'.format(cv_results['train_score'].mean()))\n",
    "\n",
    "\n",
    "acc = accuracy_score(y_train,y_hat)\n",
    "macro_precision_score=precision_score(y_train, y_hat, average='macro')\n",
    "micro_precision_score=precision_score(y_train, y_hat, average='micro')\n",
    "macro_recall_score=recall_score(y_train, y_hat, average='macro')\n",
    "micro_recall_score=recall_score(y_train, y_hat, average='micro')\n",
    "\n",
    "print('Accuracy Score: {}'.format(acc))\n",
    "print('Macro Precision Score: {}'.format(macro_precision_score))\n",
    "print('Micro Precision Score: {}'.format(micro_precision_score))\n",
    "print('Macro Recall Score: {}'.format(macro_recall_score))\n",
    "print('Micro Recall Score: {}'.format(micro_recall_score))"
   ]
  },
  {
   "cell_type": "markdown",
   "metadata": {},
   "source": [
    "# Logistic Regression"
   ]
  },
  {
   "cell_type": "code",
   "execution_count": 58,
   "metadata": {},
   "outputs": [
    {
     "data": {
      "text/plain": [
       "Pipeline(steps=[('ss', StandardScaler()),\n",
       "                ('lr', LogisticRegression(max_iter=100000, random_state=42))])"
      ]
     },
     "execution_count": 58,
     "metadata": {},
     "output_type": "execute_result"
    }
   ],
   "source": [
    "lr_pipe = Pipeline(steps=[\n",
    "    ('ss', StandardScaler()),\n",
    "    ('lr', LogisticRegression(random_state=42, max_iter=100000))\n",
    "])\n",
    "lr_pipe.fit(x_train, y_train)"
   ]
  },
  {
   "cell_type": "code",
   "execution_count": 59,
   "metadata": {},
   "outputs": [
    {
     "name": "stdout",
     "output_type": "stream",
     "text": [
      "[0.69102665 0.69445584 0.69083907 0.68650898 0.68571764]\n",
      "Training Accuracy 0.6897096354776621\n",
      "##############\n",
      "[0.56052897 0.48556824 0.54102089 0.5716798  0.66167229]\n",
      "Cross_Val Accuracy 0.5640940390259632\n",
      "##############\n",
      "Training Precision: 0.6314565694575996\n",
      "Cross_Val Precision: 0.4676765218568487\n"
     ]
    }
   ],
   "source": [
    "print_cv_scores(lr_pipe, x_train, y_train)"
   ]
  },
  {
   "cell_type": "code",
   "execution_count": 60,
   "metadata": {},
   "outputs": [],
   "source": [
    "display_labels=display_labels"
   ]
  },
  {
   "cell_type": "code",
   "execution_count": 61,
   "metadata": {},
   "outputs": [
    {
     "data": {
      "image/png": "[encoded data removed]",
      "text/plain": [
       "<Figure size 432x288 with 2 Axes>"
      ]
     },
     "metadata": {
      "needs_background": "light"
     },
     "output_type": "display_data"
    }
   ],
   "source": [
    "plot_confusion_matrix(lr_pipe, x_train, y_train, \n",
    "                      display_labels= ['Fee Collected', 'Fee Not Collected'], normalize=\"pred\");"
   ]
  },
  {
   "cell_type": "code",
   "execution_count": 330,
   "metadata": {},
   "outputs": [
    {
     "ename": "NameError",
     "evalue": "name 'lr' is not defined",
     "output_type": "error",
     "traceback": [
      "\u001b[0;31m---------------------------------------------------------------------------\u001b[0m",
      "\u001b[0;31mNameError\u001b[0m                                 Traceback (most recent call last)",
      "\u001b[0;32m<ipython-input-330-7c645cf02ef2>\u001b[0m in \u001b[0;36m<module>\u001b[0;34m\u001b[0m\n\u001b[0;32m----> 1\u001b[0;31m \u001b[0mimportance\u001b[0m \u001b[0;34m=\u001b[0m \u001b[0mlr\u001b[0m\u001b[0;34m.\u001b[0m\u001b[0mcoef_\u001b[0m\u001b[0;34m[\u001b[0m\u001b[0;36m0\u001b[0m\u001b[0;34m]\u001b[0m\u001b[0;34m\u001b[0m\u001b[0;34m\u001b[0m\u001b[0m\n\u001b[0m\u001b[1;32m      2\u001b[0m \u001b[0;31m# summarize feature importance\u001b[0m\u001b[0;34m\u001b[0m\u001b[0;34m\u001b[0m\u001b[0;34m\u001b[0m\u001b[0m\n\u001b[1;32m      3\u001b[0m \u001b[0;32mfor\u001b[0m \u001b[0mi\u001b[0m\u001b[0;34m,\u001b[0m\u001b[0mv\u001b[0m \u001b[0;32min\u001b[0m \u001b[0menumerate\u001b[0m\u001b[0;34m(\u001b[0m\u001b[0mimportance\u001b[0m\u001b[0;34m)\u001b[0m\u001b[0;34m:\u001b[0m\u001b[0;34m\u001b[0m\u001b[0;34m\u001b[0m\u001b[0m\n\u001b[1;32m      4\u001b[0m     \u001b[0mprint\u001b[0m\u001b[0;34m(\u001b[0m\u001b[0;34m'Feature: %0d, Score: %.5f'\u001b[0m \u001b[0;34m%\u001b[0m \u001b[0;34m(\u001b[0m\u001b[0mi\u001b[0m\u001b[0;34m,\u001b[0m\u001b[0mv\u001b[0m\u001b[0;34m)\u001b[0m\u001b[0;34m)\u001b[0m\u001b[0;34m\u001b[0m\u001b[0;34m\u001b[0m\u001b[0m\n\u001b[1;32m      5\u001b[0m \u001b[0;31m# plot feature importance\u001b[0m\u001b[0;34m\u001b[0m\u001b[0;34m\u001b[0m\u001b[0;34m\u001b[0m\u001b[0m\n",
      "\u001b[0;31mNameError\u001b[0m: name 'lr' is not defined"
     ]
    }
   ],
   "source": [
    "importance = lr.coef_[0]\n",
    "# summarize feature importance\n",
    "for i,v in enumerate(importance):\n",
    "    print('Feature: %0d, Score: %.5f' % (i,v))\n",
    "# plot feature importance\n",
    "    plt.bar([x for x in range(len(importance))], importance)\n",
    "    plt.show()"
   ]
  },
  {
   "cell_type": "markdown",
   "metadata": {},
   "source": [
    "# Decision Tree"
   ]
  },
  {
   "cell_type": "code",
   "execution_count": 29,
   "metadata": {},
   "outputs": [
    {
     "data": {
      "text/plain": [
       "Pipeline(steps=[('ss', StandardScaler()), ('lr', DecisionTreeClassifier())])"
      ]
     },
     "execution_count": 29,
     "metadata": {},
     "output_type": "execute_result"
    }
   ],
   "source": [
    "dt_pipe = Pipeline(steps=[\n",
    "    ('ss', StandardScaler()),\n",
    "    ('lr', DecisionTreeClassifier())\n",
    "])\n",
    "dt_pipe.fit(x_train, y_train)"
   ]
  },
  {
   "cell_type": "code",
   "execution_count": 30,
   "metadata": {},
   "outputs": [
    {
     "name": "stdout",
     "output_type": "stream",
     "text": [
      "[0.76803991 0.77349731 0.76770578 0.76013951 0.75212638]\n",
      "Training Accuracy 0.7643017781798973\n",
      "##############\n",
      "[0.61973317 0.60489109 0.61614575 0.6083052  0.63815419]\n",
      "Cross_Val Accuracy 0.6174458789626414\n",
      "##############\n",
      "Training Precision: 0.7323411686382262\n",
      "Cross_Val Precision: 0.5206786613120981\n"
     ]
    }
   ],
   "source": [
    "print_cv_scores(dt_pipe, x_train, y_train)"
   ]
  },
  {
   "cell_type": "code",
   "execution_count": 31,
   "metadata": {},
   "outputs": [
    {
     "data": {
      "image/png": "[encoded data removed]",
      "text/plain": [
       "<Figure size 432x288 with 2 Axes>"
      ]
     },
     "metadata": {
      "needs_background": "light"
     },
     "output_type": "display_data"
    }
   ],
   "source": [
    "plot_confusion_matrix(dt_pipe, x_train, y_train, \n",
    "                      display_labels= ['Fee Collected', 'Fee Not Collected'], normalize=\"pred\");"
   ]
  },
  {
   "cell_type": "code",
   "execution_count": 32,
   "metadata": {},
   "outputs": [],
   "source": [
    "testing = pd.DataFrame(dt_pipe.steps[1][1].feature_importances_)"
   ]
  },
  {
   "cell_type": "code",
   "execution_count": 33,
   "metadata": {},
   "outputs": [
    {
     "data": {
      "text/html": [
       "<div>\n",
       "<style scoped>\n",
       "    .dataframe tbody tr th:only-of-type {\n",
       "        vertical-align: middle;\n",
       "    }\n",
       "\n",
       "    .dataframe tbody tr th {\n",
       "        vertical-align: top;\n",
       "    }\n",
       "\n",
       "    .dataframe thead th {\n",
       "        text-align: right;\n",
       "    }\n",
       "</style>\n",
       "<table border=\"1\" class=\"dataframe\">\n",
       "  <thead>\n",
       "    <tr style=\"text-align: right;\">\n",
       "      <th></th>\n",
       "      <th>0</th>\n",
       "    </tr>\n",
       "  </thead>\n",
       "  <tbody>\n",
       "    <tr>\n",
       "      <th>17</th>\n",
       "      <td>0.154144</td>\n",
       "    </tr>\n",
       "    <tr>\n",
       "      <th>50</th>\n",
       "      <td>0.120785</td>\n",
       "    </tr>\n",
       "    <tr>\n",
       "      <th>11</th>\n",
       "      <td>0.056055</td>\n",
       "    </tr>\n",
       "    <tr>\n",
       "      <th>38</th>\n",
       "      <td>0.038767</td>\n",
       "    </tr>\n",
       "    <tr>\n",
       "      <th>0</th>\n",
       "      <td>0.036891</td>\n",
       "    </tr>\n",
       "    <tr>\n",
       "      <th>...</th>\n",
       "      <td>...</td>\n",
       "    </tr>\n",
       "    <tr>\n",
       "      <th>126</th>\n",
       "      <td>0.000000</td>\n",
       "    </tr>\n",
       "    <tr>\n",
       "      <th>214</th>\n",
       "      <td>0.000000</td>\n",
       "    </tr>\n",
       "    <tr>\n",
       "      <th>87</th>\n",
       "      <td>0.000000</td>\n",
       "    </tr>\n",
       "    <tr>\n",
       "      <th>121</th>\n",
       "      <td>0.000000</td>\n",
       "    </tr>\n",
       "    <tr>\n",
       "      <th>177</th>\n",
       "      <td>0.000000</td>\n",
       "    </tr>\n",
       "  </tbody>\n",
       "</table>\n",
       "<p>271 rows × 1 columns</p>\n",
       "</div>"
      ],
      "text/plain": [
       "            0\n",
       "17   0.154144\n",
       "50   0.120785\n",
       "11   0.056055\n",
       "38   0.038767\n",
       "0    0.036891\n",
       "..        ...\n",
       "126  0.000000\n",
       "214  0.000000\n",
       "87   0.000000\n",
       "121  0.000000\n",
       "177  0.000000\n",
       "\n",
       "[271 rows x 1 columns]"
      ]
     },
     "execution_count": 33,
     "metadata": {},
     "output_type": "execute_result"
    }
   ],
   "source": [
    "testing.sort_values(by = 0, ascending = False)"
   ]
  },
  {
   "cell_type": "markdown",
   "metadata": {},
   "source": [
    "# Random Forest"
   ]
  },
  {
   "cell_type": "code",
   "execution_count": 36,
   "metadata": {},
   "outputs": [
    {
     "data": {
      "text/plain": [
       "Pipeline(steps=[('ss', StandardScaler()),\n",
       "                ('rf', RandomForestClassifier(class_weight='balanced'))])"
      ]
     },
     "execution_count": 36,
     "metadata": {},
     "output_type": "execute_result"
    }
   ],
   "source": [
    "rf_pipe = Pipeline(steps=[\n",
    "    ('ss', StandardScaler()),\n",
    "    ('rf', RandomForestClassifier(class_weight=\"balanced\"))\n",
    "])\n",
    "rf_pipe.fit(x_train, y_train)"
   ]
  },
  {
   "cell_type": "code",
   "execution_count": 37,
   "metadata": {},
   "outputs": [
    {
     "name": "stdout",
     "output_type": "stream",
     "text": [
      "[0.75724234 0.76358489 0.75673236 0.74811102 0.73983997]\n",
      "Training Accuracy 0.753102116192838\n",
      "##############\n",
      "[0.65553706 0.61370724 0.65408333 0.63196398 0.66570531]\n",
      "Cross_Val Accuracy 0.6441993841323024\n",
      "##############\n",
      "Training Precision: 0.6571158480097624\n",
      "Cross_Val Precision: 0.5455521670486372\n"
     ]
    }
   ],
   "source": [
    "print_cv_scores(rf_pipe, x_train, y_train)"
   ]
  },
  {
   "cell_type": "code",
   "execution_count": 38,
   "metadata": {},
   "outputs": [
    {
     "data": {
      "image/png": "[encoded data removed]",
      "text/plain": [
       "<Figure size 432x288 with 2 Axes>"
      ]
     },
     "metadata": {
      "needs_background": "light"
     },
     "output_type": "display_data"
    }
   ],
   "source": [
    "plot_confusion_matrix(rf_pipe, x_train, y_train, \n",
    "                      display_labels= ['Fee Collected', 'Fee Not Collected'], normalize=\"pred\");"
   ]
  },
  {
   "cell_type": "code",
   "execution_count": 39,
   "metadata": {},
   "outputs": [],
   "source": [
    "testing = pd.DataFrame(rf_pipe.steps[1][1].feature_importances_)"
   ]
  },
  {
   "cell_type": "code",
   "execution_count": 40,
   "metadata": {},
   "outputs": [
    {
     "data": {
      "text/html": [
       "<div>\n",
       "<style scoped>\n",
       "    .dataframe tbody tr th:only-of-type {\n",
       "        vertical-align: middle;\n",
       "    }\n",
       "\n",
       "    .dataframe tbody tr th {\n",
       "        vertical-align: top;\n",
       "    }\n",
       "\n",
       "    .dataframe thead th {\n",
       "        text-align: right;\n",
       "    }\n",
       "</style>\n",
       "<table border=\"1\" class=\"dataframe\">\n",
       "  <thead>\n",
       "    <tr style=\"text-align: right;\">\n",
       "      <th></th>\n",
       "      <th>0</th>\n",
       "    </tr>\n",
       "  </thead>\n",
       "  <tbody>\n",
       "    <tr>\n",
       "      <th>17</th>\n",
       "      <td>7.731403e-02</td>\n",
       "    </tr>\n",
       "    <tr>\n",
       "      <th>0</th>\n",
       "      <td>5.911789e-02</td>\n",
       "    </tr>\n",
       "    <tr>\n",
       "      <th>50</th>\n",
       "      <td>5.892828e-02</td>\n",
       "    </tr>\n",
       "    <tr>\n",
       "      <th>38</th>\n",
       "      <td>5.288685e-02</td>\n",
       "    </tr>\n",
       "    <tr>\n",
       "      <th>81</th>\n",
       "      <td>4.909702e-02</td>\n",
       "    </tr>\n",
       "    <tr>\n",
       "      <th>...</th>\n",
       "      <td>...</td>\n",
       "    </tr>\n",
       "    <tr>\n",
       "      <th>130</th>\n",
       "      <td>3.405827e-07</td>\n",
       "    </tr>\n",
       "    <tr>\n",
       "      <th>128</th>\n",
       "      <td>1.464966e-07</td>\n",
       "    </tr>\n",
       "    <tr>\n",
       "      <th>125</th>\n",
       "      <td>3.351022e-08</td>\n",
       "    </tr>\n",
       "    <tr>\n",
       "      <th>126</th>\n",
       "      <td>4.897525e-09</td>\n",
       "    </tr>\n",
       "    <tr>\n",
       "      <th>122</th>\n",
       "      <td>1.257252e-09</td>\n",
       "    </tr>\n",
       "  </tbody>\n",
       "</table>\n",
       "<p>271 rows × 1 columns</p>\n",
       "</div>"
      ],
      "text/plain": [
       "                0\n",
       "17   7.731403e-02\n",
       "0    5.911789e-02\n",
       "50   5.892828e-02\n",
       "38   5.288685e-02\n",
       "81   4.909702e-02\n",
       "..            ...\n",
       "130  3.405827e-07\n",
       "128  1.464966e-07\n",
       "125  3.351022e-08\n",
       "126  4.897525e-09\n",
       "122  1.257252e-09\n",
       "\n",
       "[271 rows x 1 columns]"
      ]
     },
     "execution_count": 40,
     "metadata": {},
     "output_type": "execute_result"
    }
   ],
   "source": [
    "testing.sort_values(by = 0, ascending = False)"
   ]
  },
  {
   "cell_type": "code",
   "execution_count": 41,
   "metadata": {},
   "outputs": [
    {
     "name": "stdout",
     "output_type": "stream",
     "text": [
      "<class 'pandas.core.frame.DataFrame'>\n",
      "RangeIndex: 213243 entries, 0 to 213242\n",
      "Columns: 271 entries, weekend_indi to x7_nan\n",
      "dtypes: float64(271)\n",
      "memory usage: 440.9 MB\n"
     ]
    }
   ],
   "source": [
    "x_train.info()"
   ]
  },
  {
   "cell_type": "code",
   "execution_count": null,
   "metadata": {},
   "outputs": [],
   "source": [
    "Estimate!!Nonfamily households!!Total!!$15,000 to $24,999"
   ]
  },
  {
   "cell_type": "markdown",
   "metadata": {},
   "source": [
    "# XGBoost"
   ]
  },
  {
   "cell_type": "code",
   "execution_count": 42,
   "metadata": {},
   "outputs": [
    {
     "name": "stderr",
     "output_type": "stream",
     "text": [
      "/opt/anaconda3/lib/python3.8/site-packages/xgboost/sklearn.py:888: UserWarning: The use of label encoder in XGBClassifier is deprecated and will be removed in a future release. To remove this warning, do the following: 1) Pass option use_label_encoder=False when constructing XGBClassifier object; and 2) Encode your labels (y) as integers starting with 0, i.e. 0, 1, 2, ..., [num_class - 1].\n",
      "  warnings.warn(label_encoder_deprecation_msg, UserWarning)\n"
     ]
    },
    {
     "name": "stdout",
     "output_type": "stream",
     "text": [
      "[13:49:18] WARNING: /opt/concourse/worker/volumes/live/7a2b9f41-3287-451b-6691-43e9a6c0910f/volume/xgboost-split_1619728204606/work/src/learner.cc:1061: Starting in XGBoost 1.3.0, the default evaluation metric used with the objective 'binary:logistic' was changed from 'error' to 'logloss'. Explicitly set eval_metric if you'd like to restore the old behavior.\n"
     ]
    },
    {
     "data": {
      "text/plain": [
       "Pipeline(steps=[('ss', StandardScaler()),\n",
       "                ('rf',\n",
       "                 XGBClassifier(base_score=0.5, booster='gbtree',\n",
       "                               colsample_bylevel=1, colsample_bynode=1,\n",
       "                               colsample_bytree=1, gamma=0, gpu_id=-1,\n",
       "                               importance_type='gain',\n",
       "                               interaction_constraints='',\n",
       "                               learning_rate=0.300000012, max_delta_step=0,\n",
       "                               max_depth=6, min_child_weight=1, missing=nan,\n",
       "                               monotone_constraints='()', n_estimators=100,\n",
       "                               n_jobs=8, num_parallel_tree=1, random_state=0,\n",
       "                               reg_alpha=0, reg_lambda=1, scale_pos_weight=1,\n",
       "                               subsample=1, tree_method='exact',\n",
       "                               validate_parameters=1, verbosity=None))])"
      ]
     },
     "execution_count": 42,
     "metadata": {},
     "output_type": "execute_result"
    }
   ],
   "source": [
    "xgb_pipe = Pipeline(steps=[\n",
    "    ('ss', StandardScaler()),\n",
    "    ('rf', XGBClassifier())\n",
    "])\n",
    "xgb_pipe.fit(x_train, y_train)"
   ]
  },
  {
   "cell_type": "code",
   "execution_count": 43,
   "metadata": {},
   "outputs": [
    {
     "name": "stderr",
     "output_type": "stream",
     "text": [
      "/opt/anaconda3/lib/python3.8/site-packages/xgboost/sklearn.py:888: UserWarning: The use of label encoder in XGBClassifier is deprecated and will be removed in a future release. To remove this warning, do the following: 1) Pass option use_label_encoder=False when constructing XGBClassifier object; and 2) Encode your labels (y) as integers starting with 0, i.e. 0, 1, 2, ..., [num_class - 1].\n",
      "  warnings.warn(label_encoder_deprecation_msg, UserWarning)\n"
     ]
    },
    {
     "name": "stdout",
     "output_type": "stream",
     "text": [
      "[13:52:02] WARNING: /opt/concourse/worker/volumes/live/7a2b9f41-3287-451b-6691-43e9a6c0910f/volume/xgboost-split_1619728204606/work/src/learner.cc:1061: Starting in XGBoost 1.3.0, the default evaluation metric used with the objective 'binary:logistic' was changed from 'error' to 'logloss'. Explicitly set eval_metric if you'd like to restore the old behavior.\n"
     ]
    },
    {
     "name": "stderr",
     "output_type": "stream",
     "text": [
      "/opt/anaconda3/lib/python3.8/site-packages/xgboost/sklearn.py:888: UserWarning: The use of label encoder in XGBClassifier is deprecated and will be removed in a future release. To remove this warning, do the following: 1) Pass option use_label_encoder=False when constructing XGBClassifier object; and 2) Encode your labels (y) as integers starting with 0, i.e. 0, 1, 2, ..., [num_class - 1].\n",
      "  warnings.warn(label_encoder_deprecation_msg, UserWarning)\n"
     ]
    },
    {
     "name": "stdout",
     "output_type": "stream",
     "text": [
      "[13:54:46] WARNING: /opt/concourse/worker/volumes/live/7a2b9f41-3287-451b-6691-43e9a6c0910f/volume/xgboost-split_1619728204606/work/src/learner.cc:1061: Starting in XGBoost 1.3.0, the default evaluation metric used with the objective 'binary:logistic' was changed from 'error' to 'logloss'. Explicitly set eval_metric if you'd like to restore the old behavior.\n"
     ]
    },
    {
     "name": "stderr",
     "output_type": "stream",
     "text": [
      "/opt/anaconda3/lib/python3.8/site-packages/xgboost/sklearn.py:888: UserWarning: The use of label encoder in XGBClassifier is deprecated and will be removed in a future release. To remove this warning, do the following: 1) Pass option use_label_encoder=False when constructing XGBClassifier object; and 2) Encode your labels (y) as integers starting with 0, i.e. 0, 1, 2, ..., [num_class - 1].\n",
      "  warnings.warn(label_encoder_deprecation_msg, UserWarning)\n"
     ]
    },
    {
     "name": "stdout",
     "output_type": "stream",
     "text": [
      "[13:57:11] WARNING: /opt/concourse/worker/volumes/live/7a2b9f41-3287-451b-6691-43e9a6c0910f/volume/xgboost-split_1619728204606/work/src/learner.cc:1061: Starting in XGBoost 1.3.0, the default evaluation metric used with the objective 'binary:logistic' was changed from 'error' to 'logloss'. Explicitly set eval_metric if you'd like to restore the old behavior.\n"
     ]
    },
    {
     "name": "stderr",
     "output_type": "stream",
     "text": [
      "/opt/anaconda3/lib/python3.8/site-packages/xgboost/sklearn.py:888: UserWarning: The use of label encoder in XGBClassifier is deprecated and will be removed in a future release. To remove this warning, do the following: 1) Pass option use_label_encoder=False when constructing XGBClassifier object; and 2) Encode your labels (y) as integers starting with 0, i.e. 0, 1, 2, ..., [num_class - 1].\n",
      "  warnings.warn(label_encoder_deprecation_msg, UserWarning)\n"
     ]
    },
    {
     "name": "stdout",
     "output_type": "stream",
     "text": [
      "[13:59:34] WARNING: /opt/concourse/worker/volumes/live/7a2b9f41-3287-451b-6691-43e9a6c0910f/volume/xgboost-split_1619728204606/work/src/learner.cc:1061: Starting in XGBoost 1.3.0, the default evaluation metric used with the objective 'binary:logistic' was changed from 'error' to 'logloss'. Explicitly set eval_metric if you'd like to restore the old behavior.\n"
     ]
    },
    {
     "name": "stderr",
     "output_type": "stream",
     "text": [
      "/opt/anaconda3/lib/python3.8/site-packages/xgboost/sklearn.py:888: UserWarning: The use of label encoder in XGBClassifier is deprecated and will be removed in a future release. To remove this warning, do the following: 1) Pass option use_label_encoder=False when constructing XGBClassifier object; and 2) Encode your labels (y) as integers starting with 0, i.e. 0, 1, 2, ..., [num_class - 1].\n",
      "  warnings.warn(label_encoder_deprecation_msg, UserWarning)\n"
     ]
    },
    {
     "name": "stdout",
     "output_type": "stream",
     "text": [
      "[14:01:53] WARNING: /opt/concourse/worker/volumes/live/7a2b9f41-3287-451b-6691-43e9a6c0910f/volume/xgboost-split_1619728204606/work/src/learner.cc:1061: Starting in XGBoost 1.3.0, the default evaluation metric used with the objective 'binary:logistic' was changed from 'error' to 'logloss'. Explicitly set eval_metric if you'd like to restore the old behavior.\n",
      "[0.72171354 0.723349   0.71972051 0.7143996  0.71506785]\n",
      "Training Accuracy 0.7188501008623374\n",
      "##############\n",
      "[0.68041455 0.6488546  0.64522029 0.62162352 0.69391296]\n",
      "Cross_Val Accuracy 0.6580051843489165\n",
      "##############\n",
      "Training Precision: 0.6726884621264894\n",
      "Cross_Val Precision: 0.5967309933187795\n"
     ]
    }
   ],
   "source": [
    "print_cv_scores(xgb_pipe, x_train, y_train)"
   ]
  },
  {
   "cell_type": "code",
   "execution_count": 44,
   "metadata": {},
   "outputs": [],
   "source": [
    "display_labels = ['Written Off', \n",
    "                  'Defaulted', \n",
    "                  'Dismissed',\n",
    "                  'In Violation']\n",
    "\n",
    "def print_cm_with_labels(y_true, \n",
    "                         y_pred, \n",
    "                         display_labels):\n",
    "    \n",
    "    \n",
    "    '''\n",
    "    Takes the true values and predicted values of a classifier and \n",
    "    plots a confusion matrix (normalized by predictions) using \n",
    "    a list of given display labels.\n",
    "    '''\n",
    "    cm = confusion_matrix(y_true, y_pred, normalize = 'pred')\n",
    "    disp = ConfusionMatrixDisplay(confusion_matrix=cm,\n",
    "                                  display_labels=display_labels)\n",
    "\n",
    "    fig, ax = plt.subplots(figsize=(6,6))\n",
    "    disp.plot(ax=ax)\n",
    "    ax.grid(False)\n",
    "    disp.ax_.set_xticklabels(display_labels,rotation=45);"
   ]
  },
  {
   "cell_type": "code",
   "execution_count": 45,
   "metadata": {},
   "outputs": [
    {
     "data": {
      "image/png": "[encoded data removed]",
      "text/plain": [
       "<Figure size 432x288 with 2 Axes>"
      ]
     },
     "metadata": {
      "needs_background": "light"
     },
     "output_type": "display_data"
    }
   ],
   "source": [
    "plot_confusion_matrix(xgb_pipe, x_train, y_train, \n",
    "                      display_labels= ['Fee Collected', 'Fee Not Collected'], normalize=\"pred\");"
   ]
  },
  {
   "cell_type": "code",
   "execution_count": 357,
   "metadata": {},
   "outputs": [
    {
     "data": {
      "text/plain": [
       "XGBClassifier(base_score=0.5, booster='gbtree', colsample_bylevel=1,\n",
       "              colsample_bynode=1, colsample_bytree=1, gamma=0, gpu_id=-1,\n",
       "              importance_type='gain', interaction_constraints='',\n",
       "              learning_rate=0.300000012, max_delta_step=0, max_depth=6,\n",
       "              min_child_weight=1, missing=nan, monotone_constraints='()',\n",
       "              n_estimators=100, n_jobs=8, num_parallel_tree=1,\n",
       "              objective='multi:softprob', random_state=0, reg_alpha=0,\n",
       "              reg_lambda=1, scale_pos_weight=None, subsample=1,\n",
       "              tree_method='exact', validate_parameters=1, verbosity=None)"
      ]
     },
     "execution_count": 357,
     "metadata": {},
     "output_type": "execute_result"
    }
   ],
   "source": [
    "xgb_pipe[1]"
   ]
  }
 ],
 "metadata": {
  "kernelspec": {
   "display_name": "Python (learn-env)",
   "language": "python",
   "name": "learn-env"
  },
  "language_info": {
   "codemirror_mode": {
    "name": "ipython",
    "version": 3
   },
   "file_extension": ".py",
   "mimetype": "text/x-python",
   "name": "python",
   "nbconvert_exporter": "python",
   "pygments_lexer": "ipython3",
   "version": "3.8.8"
  }
 },
 "nbformat": 4,
 "nbformat_minor": 4
}
