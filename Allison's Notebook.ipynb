{
 "cells": [
  {
   "cell_type": "code",
   "execution_count": 53,
   "id": "ca159fa6",
   "metadata": {},
   "outputs": [],
   "source": [
    "import pandas as pd"
   ]
  },
  {
   "cell_type": "code",
   "execution_count": null,
   "id": "5d4831cf",
   "metadata": {},
   "outputs": [],
   "source": [
    "df = pd.read_csv(\"Data/NYPD_Only.csv\", low_memory = False)\n",
    "df"
   ]
  },
  {
   "cell_type": "code",
   "execution_count": null,
   "id": "44739d31",
   "metadata": {},
   "outputs": [],
   "source": [
    "df.shape"
   ]
  },
  {
   "cell_type": "markdown",
   "id": "d8da1d6d",
   "metadata": {},
   "source": [
    "### Identify the target variable \"Hearing Result\" and drop nulls and relable. "
   ]
  },
  {
   "cell_type": "code",
   "execution_count": 6,
   "id": "dc28d85e",
   "metadata": {},
   "outputs": [],
   "source": [
    "df.dropna(subset=[\"Hearing Result\"], inplace=True)"
   ]
  },
  {
   "cell_type": "code",
   "execution_count": 7,
   "id": "d3cd83b9",
   "metadata": {},
   "outputs": [
    {
     "data": {
      "text/plain": [
       "(611757, 78)"
      ]
     },
     "execution_count": 7,
     "metadata": {},
     "output_type": "execute_result"
    }
   ],
   "source": [
    "df.shape"
   ]
  },
  {
   "cell_type": "code",
   "execution_count": 8,
   "id": "21b8081a",
   "metadata": {},
   "outputs": [
    {
     "data": {
      "text/plain": [
       "WRITTEN OFF     263475\n",
       "DEFAULTED       120361\n",
       "DISMISSED       109692\n",
       "IN VIOLATION     85387\n",
       "DEFAULT          21334\n",
       "SETTL IN-VIO     10815\n",
       "ADJOURNED          411\n",
       "POP IN-VIOL        123\n",
       "POP/IN-VIOL        117\n",
       "NONE                24\n",
       "STIPULATED          11\n",
       "COSRV INVIO          7\n",
       "Name: Hearing Result, dtype: int64"
      ]
     },
     "execution_count": 8,
     "metadata": {},
     "output_type": "execute_result"
    }
   ],
   "source": [
    "df[\"Hearing Result\"].value_counts()"
   ]
  },
  {
   "cell_type": "code",
   "execution_count": 9,
   "id": "e7419f3f",
   "metadata": {},
   "outputs": [],
   "source": [
    "df[\"Hearing Result\"].replace({\"POP IN-VIOL\": \"IN VIOLATION\", \n",
    "                              \"POP/IN-VIOL\": \"IN VIOLATION\", \n",
    "                              \"SETTL IN-VIO\": \"IN VIOLATION\",\n",
    "                              \"COSRV INVIO\": \"IN VIOLATION\",\n",
    "                              \"DEFAULT\": \"DEFAULTED\"}, inplace=True)"
   ]
  },
  {
   "cell_type": "code",
   "execution_count": 10,
   "id": "3e201ea6",
   "metadata": {},
   "outputs": [],
   "source": [
    "df = df.loc[(df[\"Hearing Result\"] != \"NONE\") & (df[\"Hearing Result\"] != \"ADJOURNED\") & (df[\"Hearing Result\"] != \"STIPULATED\")]"
   ]
  },
  {
   "cell_type": "code",
   "execution_count": 11,
   "id": "0ba9ee85",
   "metadata": {},
   "outputs": [
    {
     "data": {
      "text/plain": [
       "WRITTEN OFF     263475\n",
       "DEFAULTED       141695\n",
       "DISMISSED       109692\n",
       "IN VIOLATION     96449\n",
       "Name: Hearing Result, dtype: int64"
      ]
     },
     "execution_count": 11,
     "metadata": {},
     "output_type": "execute_result"
    }
   ],
   "source": [
    "df[\"Hearing Result\"].value_counts()"
   ]
  },
  {
   "cell_type": "code",
   "execution_count": 12,
   "id": "4bfb6cd0",
   "metadata": {},
   "outputs": [
    {
     "data": {
      "text/plain": [
       "(611311, 78)"
      ]
     },
     "execution_count": 12,
     "metadata": {},
     "output_type": "execute_result"
    }
   ],
   "source": [
    "df.shape"
   ]
  },
  {
   "cell_type": "markdown",
   "id": "78705c06",
   "metadata": {},
   "source": [
    "### EDA and Cleaning Columns\n",
    "\n",
    "only want to focus on respondents residing in New York"
   ]
  },
  {
   "cell_type": "code",
   "execution_count": 13,
   "id": "c40cc8d3",
   "metadata": {},
   "outputs": [
    {
     "data": {
      "text/plain": [
       "NEW YORK               568515\n",
       "NEW JERSEY              20209\n",
       "PENNSYLVANIA             1194\n",
       "FLORIDA                   920\n",
       "CONNECTICUT               694\n",
       "MASSACHUSETTS             537\n",
       "NORTH CAROLINA            358\n",
       "VIRGINIA                  281\n",
       "MARYLAND                  280\n",
       "CALIFORNIA                238\n",
       "GEORGIA                   178\n",
       "ILLINOIS                  177\n",
       "SOUTH CAROLINA            163\n",
       "WASHINGTON                144\n",
       "TEXAS                     138\n",
       "MISSOURI                  111\n",
       "OHIO                      108\n",
       "RHODE ISLAND              107\n",
       "MICHIGAN                  101\n",
       "OTHER                      56\n",
       "DELAWARE                   54\n",
       "TENNESSEE                  45\n",
       "OKLAHOMA                   42\n",
       "ALABAMA                    40\n",
       "LOUISIANA                  36\n",
       "DIST COLUMBIA              34\n",
       "NEBRASKA                   31\n",
       "ARIZONA                    29\n",
       "COLORADO                   28\n",
       "MAINE                      25\n",
       "OREGON                     23\n",
       "INDIANA                    21\n",
       "WISCONSIN                  20\n",
       "KENTUCKY                   20\n",
       "NEW HAMPSHIRE              19\n",
       "NEVADA                     19\n",
       "MINNESOTA                  17\n",
       "NEW MEXICO                 13\n",
       "VERMONT                    13\n",
       "MISSISSIPPI                12\n",
       "UTAH                       10\n",
       "IOWA                       10\n",
       "PUERTO RICO                10\n",
       "ALASKA                      7\n",
       "KANSAS                      6\n",
       "WEST VIRGINIA               5\n",
       "HAWAII                      5\n",
       "VIRGIN ISLANDS              4\n",
       "WYOMING                     4\n",
       "NORTH DAKOTA                3\n",
       "MONTANA                     3\n",
       "ARKANSAS                    2\n",
       "ARMED FORCES AFRICA         2\n",
       "SOUTH DAKOTA                1\n",
       "AMED FORCES PACIFIC         1\n",
       "IDAHO                       1\n",
       "Name: Respondent Address (State Name), dtype: int64"
      ]
     },
     "execution_count": 13,
     "metadata": {},
     "output_type": "execute_result"
    }
   ],
   "source": [
    "df[\"Respondent Address (State Name)\"].value_counts()"
   ]
  },
  {
   "cell_type": "code",
   "execution_count": 14,
   "id": "dcbead6a",
   "metadata": {},
   "outputs": [],
   "source": [
    "df = df.loc[(df[\"Respondent Address (State Name)\"] == \"NEW YORK\")]"
   ]
  },
  {
   "cell_type": "code",
   "execution_count": 15,
   "id": "058cd549",
   "metadata": {},
   "outputs": [
    {
     "data": {
      "text/plain": [
       "Index(['Ticket Number', 'Violation Date', 'Violation Time', 'Issuing Agency',\n",
       "       'Respondent First Name', 'Respondent Last Name', 'Balance Due',\n",
       "       'Violation Location (Borough)', 'Violation Location (Block No.)',\n",
       "       'Violation Location (Lot No.)', 'Violation Location (House #)',\n",
       "       'Violation Location (Street Name)', 'Violation Location (Floor)',\n",
       "       'Violation Location (City)', 'Violation Location (Zip Code)',\n",
       "       'Violation Location (State Name)', 'Respondent Address (Borough)',\n",
       "       'Respondent Address (House #)', 'Respondent Address (Street Name)',\n",
       "       'Respondent Address (City)', 'Respondent Address (Zip Code)',\n",
       "       'Respondent Address (State Name)', 'Hearing Status', 'Hearing Result',\n",
       "       'Scheduled Hearing Location', 'Hearing Date', 'Hearing Time',\n",
       "       'Decision Location (Borough)', 'Decision Date',\n",
       "       'Total Violation Amount', 'Violation Details', 'Date Judgment Docketed',\n",
       "       'Respondent Address or Facility Number(For FDNY and DOB Tickets)',\n",
       "       'Penalty Imposed', 'Paid Amount', 'Additional Penalties or Late Fees',\n",
       "       'Compliance Status', 'Violation Description', 'Charge #1: Code',\n",
       "       'Charge #1: Code Section', 'Charge #1: Code Description',\n",
       "       'Charge #1: Infraction Amount', 'Charge #2: Code',\n",
       "       'Charge #2: Code Section', 'Charge #2: Code Description',\n",
       "       'Charge #2: Infraction Amount', 'Charge #3: Code',\n",
       "       'Charge #3: Code Section', 'Charge #3: Code Description',\n",
       "       'Charge #3: Infraction Amount', 'Charge #4: Code',\n",
       "       'Charge #4: Code Section', 'Charge #4: Code Description',\n",
       "       'Charge #4: Infraction Amount', 'Charge #5: Code',\n",
       "       'Charge #5: Code Section', 'Charge #5: Code Description',\n",
       "       'Charge #5: Infraction Amount', 'Charge #6: Code',\n",
       "       'Charge #6: Code Section', 'Charge #6: Code Description',\n",
       "       'Charge #6: Infraction Amount', 'Charge #7: Code',\n",
       "       'Charge #7: Code Section', 'Charge #7: Code Description',\n",
       "       'Charge #7: Infraction Amount', 'Charge #8: Code',\n",
       "       'Charge #8: Code Section', 'Charge #8: Code Description',\n",
       "       'Charge #8: Infraction Amount', 'Charge #9: Code',\n",
       "       'Charge #9: Code Section', 'Charge #9: Code Description',\n",
       "       'Charge #9: Infraction Amount', 'Charge #10: Code',\n",
       "       'Charge #10: Code Section', 'Charge #10: Code Description',\n",
       "       'Charge #10: Infraction Amount'],\n",
       "      dtype='object')"
      ]
     },
     "execution_count": 15,
     "metadata": {},
     "output_type": "execute_result"
    }
   ],
   "source": [
    "df.columns"
   ]
  },
  {
   "cell_type": "code",
   "execution_count": 16,
   "id": "4336d633",
   "metadata": {},
   "outputs": [],
   "source": [
    "columns_to_drop = ['Violation Time','Respondent First Name', 'Respondent Last Name',\n",
    "       'Balance Due',\n",
    "       'Hearing Status', 'Hearing Date', 'Hearing Time', 'Decision Date',\n",
    "       'Date Judgment Docketed',\n",
    "       'Respondent Address or Facility Number(For FDNY and DOB Tickets)',\n",
    "       'Additional Penalties or Late Fees',\n",
    "       'Compliance Status']"
   ]
  },
  {
   "cell_type": "code",
   "execution_count": 17,
   "id": "e7b2d9ad",
   "metadata": {},
   "outputs": [],
   "source": [
    "df.drop(columns_to_drop, axis = 1, inplace=True)"
   ]
  },
  {
   "cell_type": "code",
   "execution_count": 18,
   "id": "e56e9ba0",
   "metadata": {},
   "outputs": [
    {
     "data": {
      "text/plain": [
       "(568515, 66)"
      ]
     },
     "execution_count": 18,
     "metadata": {},
     "output_type": "execute_result"
    }
   ],
   "source": [
    "df.shape"
   ]
  },
  {
   "cell_type": "code",
   "execution_count": 19,
   "id": "f38bcd70",
   "metadata": {},
   "outputs": [],
   "source": [
    "pd.options.display.max_colwidth = 1000000\n",
    "pd.set_option('display.max_columns', 2000000000)\n",
    "pd.set_option('display.max_rows', 1000000000)\n",
    "pd.set_option('display.expand_frame_repr', True)"
   ]
  },
  {
   "cell_type": "markdown",
   "id": "9b744f2f",
   "metadata": {},
   "source": [
    "### Feature enginnering the violation location and respondent's address column"
   ]
  },
  {
   "cell_type": "code",
   "execution_count": 2,
   "id": "9c717fc6",
   "metadata": {},
   "outputs": [
    {
     "ename": "NameError",
     "evalue": "name 'df' is not defined",
     "output_type": "error",
     "traceback": [
      "\u001b[0;31m---------------------------------------------------------------------------\u001b[0m",
      "\u001b[0;31mNameError\u001b[0m                                 Traceback (most recent call last)",
      "\u001b[0;32m<ipython-input-2-9d50cb3f9ce9>\u001b[0m in \u001b[0;36m<module>\u001b[0;34m\u001b[0m\n\u001b[1;32m     13\u001b[0m \u001b[0;34m\u001b[0m\u001b[0m\n\u001b[1;32m     14\u001b[0m \u001b[0;34m\u001b[0m\u001b[0m\n\u001b[0;32m---> 15\u001b[0;31m \u001b[0mdf\u001b[0m\u001b[0;34m[\u001b[0m\u001b[0;34m'complete violation location'\u001b[0m\u001b[0;34m]\u001b[0m \u001b[0;34m=\u001b[0m \u001b[0mdf\u001b[0m\u001b[0;34m[\u001b[0m\u001b[0mviol_cols\u001b[0m\u001b[0;34m]\u001b[0m\u001b[0;34m.\u001b[0m\u001b[0mapply\u001b[0m\u001b[0;34m(\u001b[0m\u001b[0;32mlambda\u001b[0m \u001b[0mrow\u001b[0m\u001b[0;34m:\u001b[0m \u001b[0;34m' '\u001b[0m\u001b[0;34m.\u001b[0m\u001b[0mjoin\u001b[0m\u001b[0;34m(\u001b[0m\u001b[0mrow\u001b[0m\u001b[0;34m.\u001b[0m\u001b[0mvalues\u001b[0m\u001b[0;34m.\u001b[0m\u001b[0mastype\u001b[0m\u001b[0;34m(\u001b[0m\u001b[0mstr\u001b[0m\u001b[0;34m)\u001b[0m\u001b[0;34m)\u001b[0m\u001b[0;34m,\u001b[0m \u001b[0maxis\u001b[0m\u001b[0;34m=\u001b[0m\u001b[0;36m1\u001b[0m\u001b[0;34m)\u001b[0m\u001b[0;34m\u001b[0m\u001b[0;34m\u001b[0m\u001b[0m\n\u001b[0m\u001b[1;32m     16\u001b[0m \u001b[0mdf\u001b[0m\u001b[0;34m[\u001b[0m\u001b[0;34m'complete violation location'\u001b[0m\u001b[0;34m]\u001b[0m \u001b[0;34m=\u001b[0m \u001b[0mdf\u001b[0m\u001b[0;34m[\u001b[0m\u001b[0;34m'complete violation location'\u001b[0m\u001b[0;34m]\u001b[0m\u001b[0;34m.\u001b[0m\u001b[0mmap\u001b[0m\u001b[0;34m(\u001b[0m\u001b[0;32mlambda\u001b[0m \u001b[0mx\u001b[0m\u001b[0;34m:\u001b[0m \u001b[0mx\u001b[0m\u001b[0;34m.\u001b[0m\u001b[0mreplace\u001b[0m\u001b[0;34m(\u001b[0m\u001b[0;34m\"nan\"\u001b[0m\u001b[0;34m,\u001b[0m \u001b[0;34m''\u001b[0m\u001b[0;34m)\u001b[0m\u001b[0;34m)\u001b[0m\u001b[0;34m\u001b[0m\u001b[0;34m\u001b[0m\u001b[0m\n\u001b[1;32m     17\u001b[0m \u001b[0;34m\u001b[0m\u001b[0m\n",
      "\u001b[0;31mNameError\u001b[0m: name 'df' is not defined"
     ]
    }
   ],
   "source": [
    "viol_cols = ['Violation Location (Borough)', 'Violation Location (Block No.)',\n",
    "       'Violation Location (Lot No.)', 'Violation Location (House #)',\n",
    "       'Violation Location (Street Name)', 'Violation Location (Floor)',\n",
    "       'Violation Location (City)', 'Violation Location (Zip Code)',\n",
    "       'Violation Location (State Name)']\n",
    "\n",
    "\n",
    "resp_cols = ['Respondent Address (Borough)',\n",
    "       'Respondent Address (House #)', 'Respondent Address (Street Name)',\n",
    "       'Respondent Address (City)', 'Respondent Address (Zip Code)',\n",
    "       'Respondent Address (State Name)']\n",
    "\n",
    "\n",
    "\n",
    "df['complete violation location'] = df[viol_cols].apply(lambda row: ' '.join(row.values.astype(str)), axis=1)\n",
    "df['complete violation location'] = df['complete violation location'].map(lambda x: x.replace(\"nan\", ''))\n",
    "\n",
    "\n",
    "df['complete respondent location'] = df[resp_cols].apply(lambda row: ' '.join(row.values.astype(str)), axis=1)\n",
    "df['complete respondent location'] = df['complete respondent location'].map(lambda x: x.replace(\"nan\", ''))"
   ]
  },
  {
   "cell_type": "code",
   "execution_count": null,
   "id": "aa2a0b6f",
   "metadata": {},
   "outputs": [],
   "source": [
    "df"
   ]
  },
  {
   "cell_type": "code",
   "execution_count": 28,
   "id": "07074a95",
   "metadata": {},
   "outputs": [
    {
     "data": {
      "text/plain": [
       "276180"
      ]
     },
     "execution_count": 28,
     "metadata": {},
     "output_type": "execute_result"
    }
   ],
   "source": [
    "df['Violation Location (Zip Code)'].isnull().sum()"
   ]
  },
  {
   "cell_type": "code",
   "execution_count": 27,
   "id": "0b73df85",
   "metadata": {},
   "outputs": [
    {
     "data": {
      "text/plain": [
       "24201"
      ]
     },
     "execution_count": 27,
     "metadata": {},
     "output_type": "execute_result"
    }
   ],
   "source": [
    "df[\"Respondent Address (Zip Code)\"].isnull().sum()"
   ]
  },
  {
   "cell_type": "code",
   "execution_count": 21,
   "id": "f2a033bb",
   "metadata": {},
   "outputs": [
    {
     "data": {
      "text/plain": [
       "0"
      ]
     },
     "execution_count": 21,
     "metadata": {},
     "output_type": "execute_result"
    }
   ],
   "source": [
    "\n",
    "df[\"complete violation location\"].isnull().sum()"
   ]
  },
  {
   "cell_type": "code",
   "execution_count": null,
   "id": "62c4b88a",
   "metadata": {},
   "outputs": [],
   "source": []
  },
  {
   "cell_type": "code",
   "execution_count": null,
   "id": "db76b4fe",
   "metadata": {},
   "outputs": [],
   "source": [
    "df['complete respondent location']"
   ]
  },
  {
   "cell_type": "code",
   "execution_count": null,
   "id": "ab9bf0a2",
   "metadata": {},
   "outputs": [],
   "source": [
    "df[\"Violation Date\"]"
   ]
  },
  {
   "cell_type": "code",
   "execution_count": null,
   "id": "8a414874",
   "metadata": {},
   "outputs": [],
   "source": [
    "df[\"Violation Date\"] = pd.to_datetime(df[\"Violation Date\"])"
   ]
  },
  {
   "cell_type": "code",
   "execution_count": null,
   "id": "7db2d346",
   "metadata": {},
   "outputs": [],
   "source": [
    "df[\"Violation Date\"].min()"
   ]
  },
  {
   "cell_type": "code",
   "execution_count": null,
   "id": "f655bfe5",
   "metadata": {},
   "outputs": [],
   "source": [
    "df[\"Violation Date\"].max()"
   ]
  },
  {
   "cell_type": "code",
   "execution_count": null,
   "id": "48e410c8",
   "metadata": {},
   "outputs": [],
   "source": [
    "df[\"Violation Date\"].value_counts()"
   ]
  },
  {
   "cell_type": "code",
   "execution_count": null,
   "id": "076f71a4",
   "metadata": {},
   "outputs": [],
   "source": [
    "df[\"Hearing Result\"].value_counts()"
   ]
  },
  {
   "cell_type": "code",
   "execution_count": null,
   "id": "f1c1f240",
   "metadata": {},
   "outputs": [],
   "source": [
    "df[\"Violation Date\"].min()"
   ]
  },
  {
   "cell_type": "code",
   "execution_count": null,
   "id": "2cd3f2c5",
   "metadata": {},
   "outputs": [],
   "source": [
    "df[\"Hearing Result\"].value_counts(normalize=True)"
   ]
  },
  {
   "cell_type": "code",
   "execution_count": null,
   "id": "112a7262",
   "metadata": {},
   "outputs": [],
   "source": [
    "df[\"Hearing Result\"].isnull().sum()"
   ]
  },
  {
   "cell_type": "code",
   "execution_count": null,
   "id": "88e92a0f",
   "metadata": {},
   "outputs": [],
   "source": [
    "df[\"Issuing Agency\"].value_counts()"
   ]
  },
  {
   "cell_type": "code",
   "execution_count": null,
   "id": "f66bd8e2",
   "metadata": {},
   "outputs": [],
   "source": [
    "df[\"Violation Location (State Name)\"].value_counts()"
   ]
  },
  {
   "cell_type": "code",
   "execution_count": null,
   "id": "af08e280",
   "metadata": {},
   "outputs": [],
   "source": [
    "pd.set_option('display.max_columns', 500)\n",
    "df.loc[df[\"Violation Location (State Name)\"] == \"COLORADO\"]"
   ]
  },
  {
   "cell_type": "code",
   "execution_count": null,
   "id": "7adab16f",
   "metadata": {},
   "outputs": [],
   "source": []
  },
  {
   "cell_type": "code",
   "execution_count": null,
   "id": "a30703ba",
   "metadata": {},
   "outputs": [],
   "source": []
  }
 ],
 "metadata": {
  "kernelspec": {
   "display_name": "conda_python3",
   "language": "python",
   "name": "conda_python3"
  },
  "language_info": {
   "codemirror_mode": {
    "name": "ipython",
    "version": 3
   },
   "file_extension": ".py",
   "mimetype": "text/x-python",
   "name": "python",
   "nbconvert_exporter": "python",
   "pygments_lexer": "ipython3",
   "version": "3.6.13"
  }
 },
 "nbformat": 4,
 "nbformat_minor": 5
}
