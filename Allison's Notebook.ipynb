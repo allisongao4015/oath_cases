{
 "cells": [
  {
   "cell_type": "code",
   "execution_count": 17,
   "id": "edba14aa",
   "metadata": {},
   "outputs": [],
   "source": [
    "import pandas as pd"
   ]
  },
  {
   "cell_type": "code",
   "execution_count": 43,
   "id": "e810ed6e",
   "metadata": {},
   "outputs": [],
   "source": [
    "df = pd.read_csv(\"Data/NYPD_Only.csv\", low_memory = False)"
   ]
  },
  {
   "cell_type": "code",
   "execution_count": 44,
   "id": "32b2bdc8",
   "metadata": {},
   "outputs": [
    {
     "data": {
      "text/plain": [
       "(766394, 78)"
      ]
     },
     "execution_count": 44,
     "metadata": {},
     "output_type": "execute_result"
    }
   ],
   "source": [
    "df.shape"
   ]
  },
  {
   "cell_type": "markdown",
   "id": "6777ce69",
   "metadata": {},
   "source": [
    "# Identify the target variable \"Hearing Result\" and drop nulls and relable. "
   ]
  },
  {
   "cell_type": "code",
   "execution_count": 20,
   "id": "4cb41dab",
   "metadata": {},
   "outputs": [],
   "source": [
    "df.dropna(subset=[\"Hearing Result\"], inplace=True)"
   ]
  },
  {
   "cell_type": "code",
   "execution_count": 21,
   "id": "beef0208",
   "metadata": {},
   "outputs": [
    {
     "data": {
      "text/plain": [
       "(611757, 78)"
      ]
     },
     "execution_count": 21,
     "metadata": {},
     "output_type": "execute_result"
    }
   ],
   "source": [
    "df.shape"
   ]
  },
  {
   "cell_type": "code",
   "execution_count": 22,
   "id": "48e5deb4",
   "metadata": {},
   "outputs": [
    {
     "data": {
      "text/plain": [
       "WRITTEN OFF     263475\n",
       "DEFAULTED       120361\n",
       "DISMISSED       109692\n",
       "IN VIOLATION     85387\n",
       "DEFAULT          21334\n",
       "SETTL IN-VIO     10815\n",
       "ADJOURNED          411\n",
       "POP IN-VIOL        123\n",
       "POP/IN-VIOL        117\n",
       "NONE                24\n",
       "STIPULATED          11\n",
       "COSRV INVIO          7\n",
       "Name: Hearing Result, dtype: int64"
      ]
     },
     "execution_count": 22,
     "metadata": {},
     "output_type": "execute_result"
    }
   ],
   "source": [
    "df[\"Hearing Result\"].value_counts()"
   ]
  },
  {
   "cell_type": "code",
   "execution_count": 25,
   "id": "6e507748",
   "metadata": {},
   "outputs": [],
   "source": [
    "df[\"Hearing Result\"].replace({\"POP IN-VIOL\": \"IN VIOLATION\", \n",
    "                              \"POP/IN-VIOL\": \"IN VIOLATION\", \n",
    "                              \"SETTL IN-VIO\": \"IN VIOLATION\",\n",
    "                              \"COSRV INVIO\": \"IN VIOLATION\",\n",
    "                              \"DEFAULT\": \"DEFAULTED\"}, inplace=True)"
   ]
  },
  {
   "cell_type": "code",
   "execution_count": 26,
   "id": "30cb1796",
   "metadata": {},
   "outputs": [],
   "source": [
    "df = df.loc[(df[\"Hearing Result\"] != \"NONE\") & (df[\"Hearing Result\"] != \"ADJOURNED\") & (df[\"Hearing Result\"] != \"STIPULATED\")]"
   ]
  },
  {
   "cell_type": "code",
   "execution_count": 27,
   "id": "fb06a15e",
   "metadata": {},
   "outputs": [
    {
     "data": {
      "text/plain": [
       "WRITTEN OFF     263475\n",
       "DEFAULTED       141695\n",
       "DISMISSED       109692\n",
       "IN VIOLATION     96449\n",
       "Name: Hearing Result, dtype: int64"
      ]
     },
     "execution_count": 27,
     "metadata": {},
     "output_type": "execute_result"
    }
   ],
   "source": [
    "df[\"Hearing Result\"].value_counts()"
   ]
  },
  {
   "cell_type": "code",
   "execution_count": 28,
   "id": "748e4c0a",
   "metadata": {},
   "outputs": [
    {
     "data": {
      "text/plain": [
       "(611311, 78)"
      ]
     },
     "execution_count": 28,
     "metadata": {},
     "output_type": "execute_result"
    }
   ],
   "source": [
    "df.shape"
   ]
  },
  {
   "cell_type": "markdown",
   "id": "6587d8a5",
   "metadata": {},
   "source": [
    "### EDA and Cleaning Columns\n",
    "\n",
    "only want to focus on respondents residing in New York"
   ]
  },
  {
   "cell_type": "code",
   "execution_count": 29,
   "id": "ee4d530f",
   "metadata": {},
   "outputs": [
    {
     "data": {
      "text/plain": [
       "NEW YORK               568515\n",
       "NEW JERSEY              20209\n",
       "PENNSYLVANIA             1194\n",
       "FLORIDA                   920\n",
       "CONNECTICUT               694\n",
       "MASSACHUSETTS             537\n",
       "NORTH CAROLINA            358\n",
       "VIRGINIA                  281\n",
       "MARYLAND                  280\n",
       "CALIFORNIA                238\n",
       "GEORGIA                   178\n",
       "ILLINOIS                  177\n",
       "SOUTH CAROLINA            163\n",
       "WASHINGTON                144\n",
       "TEXAS                     138\n",
       "MISSOURI                  111\n",
       "OHIO                      108\n",
       "RHODE ISLAND              107\n",
       "MICHIGAN                  101\n",
       "OTHER                      56\n",
       "DELAWARE                   54\n",
       "TENNESSEE                  45\n",
       "OKLAHOMA                   42\n",
       "ALABAMA                    40\n",
       "LOUISIANA                  36\n",
       "DIST COLUMBIA              34\n",
       "NEBRASKA                   31\n",
       "ARIZONA                    29\n",
       "COLORADO                   28\n",
       "MAINE                      25\n",
       "OREGON                     23\n",
       "INDIANA                    21\n",
       "WISCONSIN                  20\n",
       "KENTUCKY                   20\n",
       "NEW HAMPSHIRE              19\n",
       "NEVADA                     19\n",
       "MINNESOTA                  17\n",
       "VERMONT                    13\n",
       "NEW MEXICO                 13\n",
       "MISSISSIPPI                12\n",
       "IOWA                       10\n",
       "UTAH                       10\n",
       "PUERTO RICO                10\n",
       "ALASKA                      7\n",
       "KANSAS                      6\n",
       "WEST VIRGINIA               5\n",
       "HAWAII                      5\n",
       "VIRGIN ISLANDS              4\n",
       "WYOMING                     4\n",
       "NORTH DAKOTA                3\n",
       "MONTANA                     3\n",
       "ARMED FORCES AFRICA         2\n",
       "ARKANSAS                    2\n",
       "SOUTH DAKOTA                1\n",
       "IDAHO                       1\n",
       "AMED FORCES PACIFIC         1\n",
       "Name: Respondent Address (State Name), dtype: int64"
      ]
     },
     "execution_count": 29,
     "metadata": {},
     "output_type": "execute_result"
    }
   ],
   "source": [
    "df[\"Respondent Address (State Name)\"].value_counts()"
   ]
  },
  {
   "cell_type": "code",
   "execution_count": 30,
   "id": "a0c5a8c0",
   "metadata": {},
   "outputs": [],
   "source": [
    "df = df.loc[(df[\"Respondent Address (State Name)\"] == \"NEW YORK\")]"
   ]
  },
  {
   "cell_type": "code",
   "execution_count": 32,
   "id": "32c2734d",
   "metadata": {},
   "outputs": [
    {
     "data": {
      "text/plain": [
       "Index(['Ticket Number', 'Violation Date', 'Violation Time', 'Issuing Agency',\n",
       "       'Respondent First Name', 'Respondent Last Name', 'Balance Due',\n",
       "       'Violation Location (Borough)', 'Violation Location (Block No.)',\n",
       "       'Violation Location (Lot No.)', 'Violation Location (House #)',\n",
       "       'Violation Location (Street Name)', 'Violation Location (Floor)',\n",
       "       'Violation Location (City)', 'Violation Location (Zip Code)',\n",
       "       'Violation Location (State Name)', 'Respondent Address (Borough)',\n",
       "       'Respondent Address (House #)', 'Respondent Address (Street Name)',\n",
       "       'Respondent Address (City)', 'Respondent Address (Zip Code)',\n",
       "       'Respondent Address (State Name)', 'Hearing Status', 'Hearing Result',\n",
       "       'Scheduled Hearing Location', 'Hearing Date', 'Hearing Time',\n",
       "       'Decision Location (Borough)', 'Decision Date',\n",
       "       'Total Violation Amount', 'Violation Details', 'Date Judgment Docketed',\n",
       "       'Respondent Address or Facility Number(For FDNY and DOB Tickets)',\n",
       "       'Penalty Imposed', 'Paid Amount', 'Additional Penalties or Late Fees',\n",
       "       'Compliance Status', 'Violation Description', 'Charge #1: Code',\n",
       "       'Charge #1: Code Section', 'Charge #1: Code Description',\n",
       "       'Charge #1: Infraction Amount', 'Charge #2: Code',\n",
       "       'Charge #2: Code Section', 'Charge #2: Code Description',\n",
       "       'Charge #2: Infraction Amount', 'Charge #3: Code',\n",
       "       'Charge #3: Code Section', 'Charge #3: Code Description',\n",
       "       'Charge #3: Infraction Amount', 'Charge #4: Code',\n",
       "       'Charge #4: Code Section', 'Charge #4: Code Description',\n",
       "       'Charge #4: Infraction Amount', 'Charge #5: Code',\n",
       "       'Charge #5: Code Section', 'Charge #5: Code Description',\n",
       "       'Charge #5: Infraction Amount', 'Charge #6: Code',\n",
       "       'Charge #6: Code Section', 'Charge #6: Code Description',\n",
       "       'Charge #6: Infraction Amount', 'Charge #7: Code',\n",
       "       'Charge #7: Code Section', 'Charge #7: Code Description',\n",
       "       'Charge #7: Infraction Amount', 'Charge #8: Code',\n",
       "       'Charge #8: Code Section', 'Charge #8: Code Description',\n",
       "       'Charge #8: Infraction Amount', 'Charge #9: Code',\n",
       "       'Charge #9: Code Section', 'Charge #9: Code Description',\n",
       "       'Charge #9: Infraction Amount', 'Charge #10: Code',\n",
       "       'Charge #10: Code Section', 'Charge #10: Code Description',\n",
       "       'Charge #10: Infraction Amount'],\n",
       "      dtype='object')"
      ]
     },
     "execution_count": 32,
     "metadata": {},
     "output_type": "execute_result"
    }
   ],
   "source": [
    "df.columns"
   ]
  },
  {
   "cell_type": "code",
   "execution_count": 31,
   "id": "4899b276",
   "metadata": {},
   "outputs": [],
   "source": [
    "columns_to_drop = ['Violation Time','Respondent First Name', 'Respondent Last Name',\n",
    "       'Balance Due',\n",
    "       'Hearing Status', 'Hearing Date', 'Hearing Time', 'Decision Date',\n",
    "       'Date Judgment Docketed',\n",
    "       'Respondent Address or Facility Number(For FDNY and DOB Tickets)',\n",
    "       'Additional Penalties or Late Fees',\n",
    "       'Compliance Status']"
   ]
  },
  {
   "cell_type": "code",
   "execution_count": 33,
   "id": "6b16ba7c",
   "metadata": {},
   "outputs": [],
   "source": [
    "df.drop(columns_to_drop, axis = 1, inplace=True)"
   ]
  },
  {
   "cell_type": "code",
   "execution_count": 34,
   "id": "15290cdc",
   "metadata": {},
   "outputs": [
    {
     "data": {
      "text/plain": [
       "(568515, 66)"
      ]
     },
     "execution_count": 34,
     "metadata": {},
     "output_type": "execute_result"
    }
   ],
   "source": [
    "df.shape"
   ]
  },
  {
   "cell_type": "code",
   "execution_count": 19,
   "id": "249dfc02",
   "metadata": {},
   "outputs": [],
   "source": [
    "pd.options.display.max_colwidth = 1000000\n",
    "pd.set_option('display.max_columns', 2000000000)\n",
    "pd.set_option('display.max_rows', 1000000000)\n",
    "pd.set_option('display.expand_frame_repr', True)"
   ]
  },
  {
   "cell_type": "markdown",
   "id": "0f387021",
   "metadata": {},
   "source": [
    "### Feature enginnering the violation location and respondent's address column"
   ]
  },
  {
   "cell_type": "code",
   "execution_count": 35,
   "id": "d71bd36d",
   "metadata": {},
   "outputs": [],
   "source": [
    "viol_cols = ['Violation Location (Borough)', 'Violation Location (Block No.)',\n",
    "       'Violation Location (Lot No.)', 'Violation Location (House #)',\n",
    "       'Violation Location (Street Name)', 'Violation Location (Floor)',\n",
    "       'Violation Location (City)', 'Violation Location (Zip Code)',\n",
    "       'Violation Location (State Name)']\n",
    "\n",
    "\n",
    "resp_cols = ['Respondent Address (Borough)',\n",
    "       'Respondent Address (House #)', 'Respondent Address (Street Name)',\n",
    "       'Respondent Address (City)', 'Respondent Address (Zip Code)',\n",
    "       'Respondent Address (State Name)']\n",
    "\n",
    "\n",
    "\n",
    "df['complete violation location'] = df[viol_cols].apply(lambda row: ' '.join(row.values.astype(str)), axis=1)\n",
    "df['complete violation location'] = df['complete violation location'].map(lambda x: x.replace(\"nan\", ''))\n",
    "\n",
    "\n",
    "df['complete respondent location'] = df[resp_cols].apply(lambda row: ' '.join(row.values.astype(str)), axis=1)\n",
    "df['complete respondent location'] = df['complete respondent location'].map(lambda x: x.replace(\"nan\", ''))"
   ]
  },
  {
   "cell_type": "code",
   "execution_count": 37,
   "id": "5382a374",
   "metadata": {},
   "outputs": [],
   "source": [
    "df.dropna(subset=[\"Violation Location (Zip Code)\"], inplace=True)\n",
    "df.dropna(subset=[\"Respondent Address (Zip Code)\"], inplace=True)"
   ]
  },
  {
   "cell_type": "code",
   "execution_count": 38,
   "id": "9e4b0c06",
   "metadata": {},
   "outputs": [
    {
     "data": {
      "text/plain": [
       "0"
      ]
     },
     "execution_count": 38,
     "metadata": {},
     "output_type": "execute_result"
    }
   ],
   "source": [
    "df['Violation Location (Zip Code)'].isnull().sum()"
   ]
  },
  {
   "cell_type": "code",
   "execution_count": 39,
   "id": "eb6f4052",
   "metadata": {},
   "outputs": [
    {
     "data": {
      "text/plain": [
       "0"
      ]
     },
     "execution_count": 39,
     "metadata": {},
     "output_type": "execute_result"
    }
   ],
   "source": [
    "df[\"Respondent Address (Zip Code)\"].isnull().sum()"
   ]
  },
  {
   "cell_type": "code",
   "execution_count": 40,
   "id": "5e2311b8",
   "metadata": {},
   "outputs": [
    {
     "data": {
      "text/plain": [
       "(284325, 68)"
      ]
     },
     "execution_count": 40,
     "metadata": {},
     "output_type": "execute_result"
    }
   ],
   "source": [
    "df.shape"
   ]
  },
  {
   "cell_type": "code",
   "execution_count": 42,
   "id": "6a9d542b",
   "metadata": {},
   "outputs": [],
   "source": [
    "df.to_csv('cleaned_df.csv')"
   ]
  },
  {
   "cell_type": "code",
   "execution_count": 21,
   "id": "8e2a6db6",
   "metadata": {},
   "outputs": [
    {
     "data": {
      "text/plain": [
       "0"
      ]
     },
     "execution_count": 21,
     "metadata": {},
     "output_type": "execute_result"
    }
   ],
   "source": [
    "\n",
    "df[\"complete violation location\"].isnull().sum()"
   ]
  },
  {
   "cell_type": "code",
   "execution_count": null,
   "id": "4b27ea6a",
   "metadata": {},
   "outputs": [],
   "source": []
  },
  {
   "cell_type": "code",
   "execution_count": null,
   "id": "da8b44d0",
   "metadata": {},
   "outputs": [],
   "source": [
    "df['complete respondent location']"
   ]
  },
  {
   "cell_type": "code",
   "execution_count": null,
   "id": "732ba633",
   "metadata": {},
   "outputs": [],
   "source": [
    "df[\"Violation Date\"]"
   ]
  },
  {
   "cell_type": "code",
   "execution_count": null,
   "id": "c579c7b5",
   "metadata": {},
   "outputs": [],
   "source": [
    "df[\"Violation Date\"] = pd.to_datetime(df[\"Violation Date\"])"
   ]
  },
  {
   "cell_type": "code",
   "execution_count": null,
   "id": "92a3d075",
   "metadata": {},
   "outputs": [],
   "source": [
    "df[\"Violation Date\"].min()"
   ]
  },
  {
   "cell_type": "code",
   "execution_count": null,
   "id": "e2dd764c",
   "metadata": {},
   "outputs": [],
   "source": [
    "df[\"Violation Date\"].max()"
   ]
  },
  {
   "cell_type": "code",
   "execution_count": null,
   "id": "a8f67bc8",
   "metadata": {},
   "outputs": [],
   "source": [
    "df[\"Violation Date\"].value_counts()"
   ]
  },
  {
   "cell_type": "code",
   "execution_count": null,
   "id": "529a07e7",
   "metadata": {},
   "outputs": [],
   "source": [
    "df[\"Hearing Result\"].value_counts()"
   ]
  },
  {
   "cell_type": "code",
   "execution_count": null,
   "id": "5a772479",
   "metadata": {},
   "outputs": [],
   "source": [
    "df[\"Violation Date\"].min()"
   ]
  },
  {
   "cell_type": "code",
   "execution_count": null,
   "id": "83e8a8ec",
   "metadata": {},
   "outputs": [],
   "source": [
    "df[\"Hearing Result\"].value_counts(normalize=True)"
   ]
  },
  {
   "cell_type": "code",
   "execution_count": null,
   "id": "587622fd",
   "metadata": {},
   "outputs": [],
   "source": [
    "df[\"Hearing Result\"].isnull().sum()"
   ]
  },
  {
   "cell_type": "code",
   "execution_count": null,
   "id": "6a64a31d",
   "metadata": {},
   "outputs": [],
   "source": [
    "df[\"Issuing Agency\"].value_counts()"
   ]
  },
  {
   "cell_type": "code",
   "execution_count": null,
   "id": "38962d65",
   "metadata": {},
   "outputs": [],
   "source": [
    "df[\"Violation Location (State Name)\"].value_counts()"
   ]
  },
  {
   "cell_type": "code",
   "execution_count": null,
   "id": "000f772c",
   "metadata": {},
   "outputs": [],
   "source": [
    "pd.set_option('display.max_columns', 500)\n",
    "df.loc[df[\"Violation Location (State Name)\"] == \"COLORADO\"]"
   ]
  },
  {
   "cell_type": "code",
   "execution_count": null,
   "id": "7c3cd72c",
   "metadata": {},
   "outputs": [],
   "source": []
  },
  {
   "cell_type": "code",
   "execution_count": null,
   "id": "320ace51",
   "metadata": {},
   "outputs": [],
   "source": []
  }
 ],
 "metadata": {
  "kernelspec": {
   "display_name": "conda_python3",
   "language": "python",
   "name": "conda_python3"
  },
  "language_info": {
   "codemirror_mode": {
    "name": "ipython",
    "version": 3
   },
   "file_extension": ".py",
   "mimetype": "text/x-python",
   "name": "python",
   "nbconvert_exporter": "python",
   "pygments_lexer": "ipython3",
   "version": "3.6.13"
  }
 },
 "nbformat": 4,
 "nbformat_minor": 5
}
