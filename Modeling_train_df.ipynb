{
 "cells": [
  {
   "cell_type": "code",
   "execution_count": 1,
   "metadata": {},
   "outputs": [],
   "source": [
    "import pandas as pd\n",
    "import numpy as np\n",
    "import matplotlib.pyplot as plt\n",
    "import seaborn as sns\n",
    "from datetime import datetime\n",
    "\n",
    "from sklearn.pipeline import Pipeline\n",
    "from sklearn.preprocessing import OneHotEncoder , StandardScaler \n",
    "from sklearn.compose import ColumnTransformer\n",
    "\n",
    "from sklearn.dummy import DummyClassifier\n",
    "from sklearn.tree import DecisionTreeClassifier, plot_tree\n",
    "from sklearn.linear_model import LogisticRegression\n",
    "from sklearn.ensemble import RandomForestClassifier\n",
    "from xgboost import XGBClassifier\n",
    "from sklearn.model_selection import cross_validate, GridSearchCV\n",
    "from sklearn.model_selection import train_test_split\n",
    "\n",
    "\n",
    "from sklearn.metrics import plot_confusion_matrix, confusion_matrix, plot_confusion_matrix,\\\n",
    "    precision_score, recall_score, accuracy_score, f1_score, log_loss,\\\n",
    "    roc_curve, roc_auc_score, ConfusionMatrixDisplay, classification_report"
   ]
  },
  {
   "cell_type": "code",
   "execution_count": 2,
   "metadata": {},
   "outputs": [],
   "source": [
    "df = pd.read_csv(\"merged_train_df.csv\", low_memory = False)\n",
    "df.drop(\"Unnamed: 0\", inplace=True, axis=1)"
   ]
  },
  {
   "cell_type": "code",
   "execution_count": 3,
   "metadata": {},
   "outputs": [
    {
     "data": {
      "text/plain": [
       "Index(['Hearing Result', 'Issuing Agency', 'Violation Location (Borough)',\n",
       "       'Respondent Address (Borough)', 'Decision Location (Borough)',\n",
       "       'Charge #1: Code Section', 'weekend_indi', 'Season',\n",
       "       'Estimate!!Nonfamily households!!Median income (dollars)',\n",
       "       'Estimate!!Nonfamily households!!Mean income (dollars)',\n",
       "       'Estimate!!Nonfamily households!!Total!!Less than $10,000',\n",
       "       'Estimate!!Nonfamily households!!Total!!$10,000 to $14,999',\n",
       "       'Estimate!!Nonfamily households!!Total!!$15,000 to $24,999',\n",
       "       'Estimate!!Nonfamily households!!Total!!$25,000 to $34,999',\n",
       "       'Estimate!!Nonfamily households!!Total!!$35,000 to $49,999',\n",
       "       'Estimate!!Nonfamily households!!Total!!$50,000 to $74,999',\n",
       "       'Estimate!!Households!!Median income (dollars)',\n",
       "       'Estimate!!Households!!Mean income (dollars)',\n",
       "       'Estimate!!Households!!Total!!Less than $10,000',\n",
       "       'Estimate!!Households!!Total!!$10,000 to $14,999',\n",
       "       'Estimate!!Households!!Total!!$15,000 to $24,999',\n",
       "       'Estimate!!Households!!Total!!$25,000 to $34,999',\n",
       "       'Estimate!!Households!!Total!!$35,000 to $49,999',\n",
       "       'Estimate!!Households!!Total!!$50,000 to $74,999'],\n",
       "      dtype='object')"
      ]
     },
     "execution_count": 3,
     "metadata": {},
     "output_type": "execute_result"
    }
   ],
   "source": [
    "df.columns"
   ]
  },
  {
   "cell_type": "code",
   "execution_count": 4,
   "metadata": {},
   "outputs": [],
   "source": [
    "list_to_convert = ['Estimate!!Nonfamily households!!Median income (dollars)',\n",
    "       'Estimate!!Nonfamily households!!Mean income (dollars)',\n",
    "       'Estimate!!Nonfamily households!!Total!!Less than $10,000',\n",
    "       'Estimate!!Nonfamily households!!Total!!$10,000 to $14,999',\n",
    "       'Estimate!!Nonfamily households!!Total!!$15,000 to $24,999',\n",
    "       'Estimate!!Nonfamily households!!Total!!$25,000 to $34,999',\n",
    "       'Estimate!!Nonfamily households!!Total!!$35,000 to $49,999',\n",
    "       'Estimate!!Nonfamily households!!Total!!$50,000 to $74,999',\n",
    "       'Estimate!!Households!!Median income (dollars)',\n",
    "       'Estimate!!Households!!Mean income (dollars)',\n",
    "       'Estimate!!Households!!Total!!Less than $10,000',\n",
    "       'Estimate!!Households!!Total!!$10,000 to $14,999',\n",
    "       'Estimate!!Households!!Total!!$15,000 to $24,999',\n",
    "       'Estimate!!Households!!Total!!$25,000 to $34,999',\n",
    "       'Estimate!!Households!!Total!!$35,000 to $49,999',\n",
    "       'Estimate!!Households!!Total!!$50,000 to $74,999']"
   ]
  },
  {
   "cell_type": "code",
   "execution_count": 5,
   "metadata": {},
   "outputs": [],
   "source": [
    "def fill_na(column):\n",
    "    for x in column:\n",
    "        df[x].fillna(0, inplace=True)\n",
    "    \n",
    "    return df.head(2)"
   ]
  },
  {
   "cell_type": "code",
   "execution_count": 6,
   "metadata": {},
   "outputs": [
    {
     "data": {
      "text/html": [
       "<div>\n",
       "<style scoped>\n",
       "    .dataframe tbody tr th:only-of-type {\n",
       "        vertical-align: middle;\n",
       "    }\n",
       "\n",
       "    .dataframe tbody tr th {\n",
       "        vertical-align: top;\n",
       "    }\n",
       "\n",
       "    .dataframe thead th {\n",
       "        text-align: right;\n",
       "    }\n",
       "</style>\n",
       "<table border=\"1\" class=\"dataframe\">\n",
       "  <thead>\n",
       "    <tr style=\"text-align: right;\">\n",
       "      <th></th>\n",
       "      <th>Hearing Result</th>\n",
       "      <th>Issuing Agency</th>\n",
       "      <th>Violation Location (Borough)</th>\n",
       "      <th>Respondent Address (Borough)</th>\n",
       "      <th>Decision Location (Borough)</th>\n",
       "      <th>Charge #1: Code Section</th>\n",
       "      <th>weekend_indi</th>\n",
       "      <th>Season</th>\n",
       "      <th>Estimate!!Nonfamily households!!Median income (dollars)</th>\n",
       "      <th>Estimate!!Nonfamily households!!Mean income (dollars)</th>\n",
       "      <th>...</th>\n",
       "      <th>Estimate!!Nonfamily households!!Total!!$35,000 to $49,999</th>\n",
       "      <th>Estimate!!Nonfamily households!!Total!!$50,000 to $74,999</th>\n",
       "      <th>Estimate!!Households!!Median income (dollars)</th>\n",
       "      <th>Estimate!!Households!!Mean income (dollars)</th>\n",
       "      <th>Estimate!!Households!!Total!!Less than $10,000</th>\n",
       "      <th>Estimate!!Households!!Total!!$10,000 to $14,999</th>\n",
       "      <th>Estimate!!Households!!Total!!$15,000 to $24,999</th>\n",
       "      <th>Estimate!!Households!!Total!!$25,000 to $34,999</th>\n",
       "      <th>Estimate!!Households!!Total!!$35,000 to $49,999</th>\n",
       "      <th>Estimate!!Households!!Total!!$50,000 to $74,999</th>\n",
       "    </tr>\n",
       "  </thead>\n",
       "  <tbody>\n",
       "    <tr>\n",
       "      <th>0</th>\n",
       "      <td>0.0</td>\n",
       "      <td>SANITATION POLICE</td>\n",
       "      <td>QUEENS</td>\n",
       "      <td>QUEENS</td>\n",
       "      <td>In Person QUEENS</td>\n",
       "      <td>AC 16</td>\n",
       "      <td>0.0</td>\n",
       "      <td>Spring</td>\n",
       "      <td>46858.0</td>\n",
       "      <td>66984.0</td>\n",
       "      <td>...</td>\n",
       "      <td>14.5</td>\n",
       "      <td>19.3</td>\n",
       "      <td>60659.0</td>\n",
       "      <td>79621.0</td>\n",
       "      <td>4.3</td>\n",
       "      <td>4.5</td>\n",
       "      <td>10.2</td>\n",
       "      <td>9.6</td>\n",
       "      <td>14.7</td>\n",
       "      <td>19.0</td>\n",
       "    </tr>\n",
       "    <tr>\n",
       "      <th>1</th>\n",
       "      <td>0.0</td>\n",
       "      <td>POLICE DEPARTMENT</td>\n",
       "      <td>MANHATTAN</td>\n",
       "      <td>QUEENS</td>\n",
       "      <td>UNKNOWN</td>\n",
       "      <td>AC 17</td>\n",
       "      <td>1.0</td>\n",
       "      <td>Winter</td>\n",
       "      <td>46858.0</td>\n",
       "      <td>66984.0</td>\n",
       "      <td>...</td>\n",
       "      <td>14.5</td>\n",
       "      <td>19.3</td>\n",
       "      <td>60659.0</td>\n",
       "      <td>79621.0</td>\n",
       "      <td>4.3</td>\n",
       "      <td>4.5</td>\n",
       "      <td>10.2</td>\n",
       "      <td>9.6</td>\n",
       "      <td>14.7</td>\n",
       "      <td>19.0</td>\n",
       "    </tr>\n",
       "  </tbody>\n",
       "</table>\n",
       "<p>2 rows × 24 columns</p>\n",
       "</div>"
      ],
      "text/plain": [
       "   Hearing Result     Issuing Agency Violation Location (Borough)  \\\n",
       "0             0.0  SANITATION POLICE                       QUEENS   \n",
       "1             0.0  POLICE DEPARTMENT                    MANHATTAN   \n",
       "\n",
       "  Respondent Address (Borough) Decision Location (Borough)  \\\n",
       "0                       QUEENS            In Person QUEENS   \n",
       "1                       QUEENS                     UNKNOWN   \n",
       "\n",
       "  Charge #1: Code Section  weekend_indi  Season  \\\n",
       "0                   AC 16           0.0  Spring   \n",
       "1                   AC 17           1.0  Winter   \n",
       "\n",
       "   Estimate!!Nonfamily households!!Median income (dollars)  \\\n",
       "0                                            46858.0         \n",
       "1                                            46858.0         \n",
       "\n",
       "   Estimate!!Nonfamily households!!Mean income (dollars)  ...  \\\n",
       "0                                            66984.0      ...   \n",
       "1                                            66984.0      ...   \n",
       "\n",
       "   Estimate!!Nonfamily households!!Total!!$35,000 to $49,999  \\\n",
       "0                                               14.5           \n",
       "1                                               14.5           \n",
       "\n",
       "   Estimate!!Nonfamily households!!Total!!$50,000 to $74,999  \\\n",
       "0                                               19.3           \n",
       "1                                               19.3           \n",
       "\n",
       "   Estimate!!Households!!Median income (dollars)  \\\n",
       "0                                        60659.0   \n",
       "1                                        60659.0   \n",
       "\n",
       "   Estimate!!Households!!Mean income (dollars)  \\\n",
       "0                                      79621.0   \n",
       "1                                      79621.0   \n",
       "\n",
       "   Estimate!!Households!!Total!!Less than $10,000  \\\n",
       "0                                             4.3   \n",
       "1                                             4.3   \n",
       "\n",
       "   Estimate!!Households!!Total!!$10,000 to $14,999  \\\n",
       "0                                              4.5   \n",
       "1                                              4.5   \n",
       "\n",
       "   Estimate!!Households!!Total!!$15,000 to $24,999  \\\n",
       "0                                             10.2   \n",
       "1                                             10.2   \n",
       "\n",
       "   Estimate!!Households!!Total!!$25,000 to $34,999  \\\n",
       "0                                              9.6   \n",
       "1                                              9.6   \n",
       "\n",
       "   Estimate!!Households!!Total!!$35,000 to $49,999  \\\n",
       "0                                             14.7   \n",
       "1                                             14.7   \n",
       "\n",
       "   Estimate!!Households!!Total!!$50,000 to $74,999  \n",
       "0                                             19.0  \n",
       "1                                             19.0  \n",
       "\n",
       "[2 rows x 24 columns]"
      ]
     },
     "execution_count": 6,
     "metadata": {},
     "output_type": "execute_result"
    }
   ],
   "source": [
    "fill_na(list_to_convert)"
   ]
  },
  {
   "cell_type": "code",
   "execution_count": 7,
   "metadata": {},
   "outputs": [],
   "source": [
    "x_train = df.drop(\"Hearing Result\", axis=1)\n",
    "y_train = df[\"Hearing Result\"]"
   ]
  },
  {
   "cell_type": "code",
   "execution_count": 8,
   "metadata": {},
   "outputs": [
    {
     "name": "stdout",
     "output_type": "stream",
     "text": [
      "<class 'pandas.core.frame.DataFrame'>\n",
      "RangeIndex: 213243 entries, 0 to 213242\n",
      "Data columns (total 23 columns):\n",
      " #   Column                                                     Non-Null Count   Dtype  \n",
      "---  ------                                                     --------------   -----  \n",
      " 0   Issuing Agency                                             213243 non-null  object \n",
      " 1   Violation Location (Borough)                               213243 non-null  object \n",
      " 2   Respondent Address (Borough)                               213243 non-null  object \n",
      " 3   Decision Location (Borough)                                213243 non-null  object \n",
      " 4   Charge #1: Code Section                                    213243 non-null  object \n",
      " 5   weekend_indi                                               213243 non-null  float64\n",
      " 6   Season                                                     213243 non-null  object \n",
      " 7   Estimate!!Nonfamily households!!Median income (dollars)    213243 non-null  float64\n",
      " 8   Estimate!!Nonfamily households!!Mean income (dollars)      213243 non-null  float64\n",
      " 9   Estimate!!Nonfamily households!!Total!!Less than $10,000   213243 non-null  float64\n",
      " 10  Estimate!!Nonfamily households!!Total!!$10,000 to $14,999  213243 non-null  float64\n",
      " 11  Estimate!!Nonfamily households!!Total!!$15,000 to $24,999  213243 non-null  float64\n",
      " 12  Estimate!!Nonfamily households!!Total!!$25,000 to $34,999  213243 non-null  float64\n",
      " 13  Estimate!!Nonfamily households!!Total!!$35,000 to $49,999  213243 non-null  float64\n",
      " 14  Estimate!!Nonfamily households!!Total!!$50,000 to $74,999  213243 non-null  float64\n",
      " 15  Estimate!!Households!!Median income (dollars)              213243 non-null  float64\n",
      " 16  Estimate!!Households!!Mean income (dollars)                213243 non-null  float64\n",
      " 17  Estimate!!Households!!Total!!Less than $10,000             213243 non-null  float64\n",
      " 18  Estimate!!Households!!Total!!$10,000 to $14,999            213243 non-null  float64\n",
      " 19  Estimate!!Households!!Total!!$15,000 to $24,999            213243 non-null  float64\n",
      " 20  Estimate!!Households!!Total!!$25,000 to $34,999            213243 non-null  float64\n",
      " 21  Estimate!!Households!!Total!!$35,000 to $49,999            213243 non-null  float64\n",
      " 22  Estimate!!Households!!Total!!$50,000 to $74,999            213243 non-null  float64\n",
      "dtypes: float64(17), object(6)\n",
      "memory usage: 37.4+ MB\n"
     ]
    }
   ],
   "source": [
    "x_train.info()"
   ]
  },
  {
   "cell_type": "code",
   "execution_count": 10,
   "metadata": {},
   "outputs": [],
   "source": [
    "# Creating dummies\n",
    "# Create the OneHotEncoder object\n",
    "\n",
    "ohe = OneHotEncoder(drop='first')\n",
    "\n",
    "\n",
    "# Transform the data into dummies\n",
    "\n",
    "trans = ohe.fit_transform(x_train[['Issuing Agency',\n",
    "                                   \"Respondent Address (Borough)\",\n",
    "                                   \"Violation Location (Borough)\", \n",
    "                                   \"Decision Location (Borough)\",\n",
    "                                  \"Charge #1: Code Section\",\n",
    "                                  \"weekend_indi\",\n",
    "                                  \"Season\"]])\n",
    "\n",
    "\n",
    "# Store the dummies matrix and name vector\n",
    "\n",
    "data = trans.todense()\n",
    "names = ohe.get_feature_names()\n",
    "\n",
    "\n",
    "# Put the dummy variables in a dataframe\n",
    "\n",
    "dummies = pd.DataFrame(data, columns=names)\n",
    "\n",
    "\n",
    "# Join the dummies dataframe to the original\n",
    "\n",
    "x_train = df.join(dummies)"
   ]
  },
  {
   "cell_type": "code",
   "execution_count": 12,
   "metadata": {},
   "outputs": [],
   "source": [
    "x_train = x_train.drop([\"Hearing Result\", \n",
    "                        'Issuing Agency',\n",
    "                                   \"Respondent Address (Borough)\",\n",
    "                                   \"Violation Location (Borough)\", \n",
    "                                   \"Decision Location (Borough)\",\n",
    "                       \"Charge #1: Code Section\",\n",
    "                                  \"weekend_indi\",\n",
    "                                  \"Season\"], axis=1)"
   ]
  },
  {
   "cell_type": "code",
   "execution_count": 13,
   "metadata": {},
   "outputs": [
    {
     "data": {
      "text/html": [
       "<div>\n",
       "<style scoped>\n",
       "    .dataframe tbody tr th:only-of-type {\n",
       "        vertical-align: middle;\n",
       "    }\n",
       "\n",
       "    .dataframe tbody tr th {\n",
       "        vertical-align: top;\n",
       "    }\n",
       "\n",
       "    .dataframe thead th {\n",
       "        text-align: right;\n",
       "    }\n",
       "</style>\n",
       "<table border=\"1\" class=\"dataframe\">\n",
       "  <thead>\n",
       "    <tr style=\"text-align: right;\">\n",
       "      <th></th>\n",
       "      <th>Estimate!!Nonfamily households!!Median income (dollars)</th>\n",
       "      <th>Estimate!!Nonfamily households!!Mean income (dollars)</th>\n",
       "      <th>Estimate!!Nonfamily households!!Total!!Less than $10,000</th>\n",
       "      <th>Estimate!!Nonfamily households!!Total!!$10,000 to $14,999</th>\n",
       "      <th>Estimate!!Nonfamily households!!Total!!$15,000 to $24,999</th>\n",
       "      <th>Estimate!!Nonfamily households!!Total!!$25,000 to $34,999</th>\n",
       "      <th>Estimate!!Nonfamily households!!Total!!$35,000 to $49,999</th>\n",
       "      <th>Estimate!!Nonfamily households!!Total!!$50,000 to $74,999</th>\n",
       "      <th>Estimate!!Households!!Median income (dollars)</th>\n",
       "      <th>Estimate!!Households!!Mean income (dollars)</th>\n",
       "      <th>...</th>\n",
       "      <th>x4_H.C. 89</th>\n",
       "      <th>x4_HUDSON RP RLES</th>\n",
       "      <th>x4_NYS</th>\n",
       "      <th>x4_UNKNOWN</th>\n",
       "      <th>x4_VTL</th>\n",
       "      <th>x5_1.0</th>\n",
       "      <th>x6_Spring</th>\n",
       "      <th>x6_Summer</th>\n",
       "      <th>x6_UNKNOWN</th>\n",
       "      <th>x6_Winter</th>\n",
       "    </tr>\n",
       "  </thead>\n",
       "  <tbody>\n",
       "    <tr>\n",
       "      <th>140107</th>\n",
       "      <td>85785.0</td>\n",
       "      <td>134487.0</td>\n",
       "      <td>8.7</td>\n",
       "      <td>5.6</td>\n",
       "      <td>7.7</td>\n",
       "      <td>4.2</td>\n",
       "      <td>6.8</td>\n",
       "      <td>11.1</td>\n",
       "      <td>92840.0</td>\n",
       "      <td>160300.0</td>\n",
       "      <td>...</td>\n",
       "      <td>0.0</td>\n",
       "      <td>0.0</td>\n",
       "      <td>0.0</td>\n",
       "      <td>0.0</td>\n",
       "      <td>0.0</td>\n",
       "      <td>0.0</td>\n",
       "      <td>0.0</td>\n",
       "      <td>1.0</td>\n",
       "      <td>0.0</td>\n",
       "      <td>0.0</td>\n",
       "    </tr>\n",
       "    <tr>\n",
       "      <th>133235</th>\n",
       "      <td>25894.0</td>\n",
       "      <td>47405.0</td>\n",
       "      <td>18.8</td>\n",
       "      <td>14.4</td>\n",
       "      <td>15.4</td>\n",
       "      <td>10.9</td>\n",
       "      <td>9.8</td>\n",
       "      <td>9.6</td>\n",
       "      <td>42507.0</td>\n",
       "      <td>62444.0</td>\n",
       "      <td>...</td>\n",
       "      <td>0.0</td>\n",
       "      <td>0.0</td>\n",
       "      <td>0.0</td>\n",
       "      <td>0.0</td>\n",
       "      <td>0.0</td>\n",
       "      <td>0.0</td>\n",
       "      <td>0.0</td>\n",
       "      <td>1.0</td>\n",
       "      <td>0.0</td>\n",
       "      <td>0.0</td>\n",
       "    </tr>\n",
       "    <tr>\n",
       "      <th>99540</th>\n",
       "      <td>39336.0</td>\n",
       "      <td>57626.0</td>\n",
       "      <td>15.9</td>\n",
       "      <td>10.8</td>\n",
       "      <td>10.3</td>\n",
       "      <td>8.2</td>\n",
       "      <td>12.7</td>\n",
       "      <td>17.6</td>\n",
       "      <td>62052.0</td>\n",
       "      <td>90753.0</td>\n",
       "      <td>...</td>\n",
       "      <td>0.0</td>\n",
       "      <td>0.0</td>\n",
       "      <td>0.0</td>\n",
       "      <td>0.0</td>\n",
       "      <td>0.0</td>\n",
       "      <td>0.0</td>\n",
       "      <td>0.0</td>\n",
       "      <td>0.0</td>\n",
       "      <td>0.0</td>\n",
       "      <td>1.0</td>\n",
       "    </tr>\n",
       "    <tr>\n",
       "      <th>98105</th>\n",
       "      <td>39336.0</td>\n",
       "      <td>57626.0</td>\n",
       "      <td>15.9</td>\n",
       "      <td>10.8</td>\n",
       "      <td>10.3</td>\n",
       "      <td>8.2</td>\n",
       "      <td>12.7</td>\n",
       "      <td>17.6</td>\n",
       "      <td>62052.0</td>\n",
       "      <td>90753.0</td>\n",
       "      <td>...</td>\n",
       "      <td>0.0</td>\n",
       "      <td>0.0</td>\n",
       "      <td>0.0</td>\n",
       "      <td>0.0</td>\n",
       "      <td>0.0</td>\n",
       "      <td>0.0</td>\n",
       "      <td>0.0</td>\n",
       "      <td>0.0</td>\n",
       "      <td>0.0</td>\n",
       "      <td>0.0</td>\n",
       "    </tr>\n",
       "    <tr>\n",
       "      <th>57214</th>\n",
       "      <td>12857.0</td>\n",
       "      <td>28682.0</td>\n",
       "      <td>31.7</td>\n",
       "      <td>26.6</td>\n",
       "      <td>10.9</td>\n",
       "      <td>9.6</td>\n",
       "      <td>7.4</td>\n",
       "      <td>5.2</td>\n",
       "      <td>21447.0</td>\n",
       "      <td>39790.0</td>\n",
       "      <td>...</td>\n",
       "      <td>0.0</td>\n",
       "      <td>0.0</td>\n",
       "      <td>0.0</td>\n",
       "      <td>0.0</td>\n",
       "      <td>0.0</td>\n",
       "      <td>1.0</td>\n",
       "      <td>0.0</td>\n",
       "      <td>1.0</td>\n",
       "      <td>0.0</td>\n",
       "      <td>0.0</td>\n",
       "    </tr>\n",
       "  </tbody>\n",
       "</table>\n",
       "<p>5 rows × 81 columns</p>\n",
       "</div>"
      ],
      "text/plain": [
       "        Estimate!!Nonfamily households!!Median income (dollars)  \\\n",
       "140107                                            85785.0         \n",
       "133235                                            25894.0         \n",
       "99540                                             39336.0         \n",
       "98105                                             39336.0         \n",
       "57214                                             12857.0         \n",
       "\n",
       "        Estimate!!Nonfamily households!!Mean income (dollars)  \\\n",
       "140107                                           134487.0       \n",
       "133235                                            47405.0       \n",
       "99540                                             57626.0       \n",
       "98105                                             57626.0       \n",
       "57214                                             28682.0       \n",
       "\n",
       "        Estimate!!Nonfamily households!!Total!!Less than $10,000  \\\n",
       "140107                                                8.7          \n",
       "133235                                               18.8          \n",
       "99540                                                15.9          \n",
       "98105                                                15.9          \n",
       "57214                                                31.7          \n",
       "\n",
       "        Estimate!!Nonfamily households!!Total!!$10,000 to $14,999  \\\n",
       "140107                                                5.6           \n",
       "133235                                               14.4           \n",
       "99540                                                10.8           \n",
       "98105                                                10.8           \n",
       "57214                                                26.6           \n",
       "\n",
       "        Estimate!!Nonfamily households!!Total!!$15,000 to $24,999  \\\n",
       "140107                                                7.7           \n",
       "133235                                               15.4           \n",
       "99540                                                10.3           \n",
       "98105                                                10.3           \n",
       "57214                                                10.9           \n",
       "\n",
       "        Estimate!!Nonfamily households!!Total!!$25,000 to $34,999  \\\n",
       "140107                                                4.2           \n",
       "133235                                               10.9           \n",
       "99540                                                 8.2           \n",
       "98105                                                 8.2           \n",
       "57214                                                 9.6           \n",
       "\n",
       "        Estimate!!Nonfamily households!!Total!!$35,000 to $49,999  \\\n",
       "140107                                                6.8           \n",
       "133235                                                9.8           \n",
       "99540                                                12.7           \n",
       "98105                                                12.7           \n",
       "57214                                                 7.4           \n",
       "\n",
       "        Estimate!!Nonfamily households!!Total!!$50,000 to $74,999  \\\n",
       "140107                                               11.1           \n",
       "133235                                                9.6           \n",
       "99540                                                17.6           \n",
       "98105                                                17.6           \n",
       "57214                                                 5.2           \n",
       "\n",
       "        Estimate!!Households!!Median income (dollars)  \\\n",
       "140107                                        92840.0   \n",
       "133235                                        42507.0   \n",
       "99540                                         62052.0   \n",
       "98105                                         62052.0   \n",
       "57214                                         21447.0   \n",
       "\n",
       "        Estimate!!Households!!Mean income (dollars)  ...  x4_H.C. 89  \\\n",
       "140107                                     160300.0  ...         0.0   \n",
       "133235                                      62444.0  ...         0.0   \n",
       "99540                                       90753.0  ...         0.0   \n",
       "98105                                       90753.0  ...         0.0   \n",
       "57214                                       39790.0  ...         0.0   \n",
       "\n",
       "        x4_HUDSON RP RLES  x4_NYS  x4_UNKNOWN  x4_VTL  x5_1.0  x6_Spring  \\\n",
       "140107                0.0     0.0         0.0     0.0     0.0        0.0   \n",
       "133235                0.0     0.0         0.0     0.0     0.0        0.0   \n",
       "99540                 0.0     0.0         0.0     0.0     0.0        0.0   \n",
       "98105                 0.0     0.0         0.0     0.0     0.0        0.0   \n",
       "57214                 0.0     0.0         0.0     0.0     1.0        0.0   \n",
       "\n",
       "        x6_Summer  x6_UNKNOWN  x6_Winter  \n",
       "140107        1.0         0.0        0.0  \n",
       "133235        1.0         0.0        0.0  \n",
       "99540         0.0         0.0        1.0  \n",
       "98105         0.0         0.0        0.0  \n",
       "57214         1.0         0.0        0.0  \n",
       "\n",
       "[5 rows x 81 columns]"
      ]
     },
     "execution_count": 13,
     "metadata": {},
     "output_type": "execute_result"
    }
   ],
   "source": [
    "x_train.sample(5)"
   ]
  },
  {
   "cell_type": "markdown",
   "metadata": {},
   "source": [
    "categorical_columns = ['Issuing Agency', 'Violation Location (Borough)',\n",
    "       'Violation Location (City)', 'Respondent Address (Borough)',\n",
    "       'Respondent Address (City)', 'Decision Location (Borough)','Respondent Status']\n",
    "\n",
    "#'Respondent Address (Zip Code)'\n",
    "#'Violation Location (Zip Code)'\n",
    "#'Charge #1: Code Description'\n",
    "ohe_col_trans = ColumnTransformer(transformers=\n",
    "                                  [('ohe', OneHotEncoder(drop='first', sparse=True), \n",
    "                                    categorical_columns)],\n",
    "                                  remainder='passthrough')\n",
    "\n",
    "\n",
    "transform_pipeline = Pipeline(steps=[('ohe_trans', ohe_col_trans)])\n",
    "\n",
    "\n",
    "x_train_transformed = transform_pipeline.fit_transform(x_train)"
   ]
  },
  {
   "cell_type": "code",
   "execution_count": 14,
   "metadata": {},
   "outputs": [],
   "source": [
    "def print_cv_scores(pipe, X, y):\n",
    "    '''\n",
    "    Runs cross_validate on given feature and multiclass target arrays using given pipeline, \n",
    "    printing the scoring results for both training and cross_val.\n",
    "    '''\n",
    "    scoring = ['accuracy','precision_macro', 'recall_macro', 'f1_macro']\n",
    "    \n",
    "    results = cross_validate(pipe, X, \n",
    "                                   y, \n",
    "                                   return_train_score=True, scoring=scoring)\n",
    "    \n",
    "    print(results['train_accuracy'])\n",
    "    print('Training Accuracy', results['train_accuracy'].mean())\n",
    "    print('##############')\n",
    "    print(results['test_accuracy'])\n",
    "    print('Cross_Val Accuracy', results['test_accuracy'].mean())\n",
    "    print('##############')\n",
    "    print('Training Macro Precision:', results['train_precision_macro'].mean())\n",
    "    print('Cross_Val Macro Precision:', results['test_precision_macro'].mean())\n",
    "    print('##############')\n",
    "    print('Training Macro Recall:', results['train_recall_macro'].mean())\n",
    "    print('Cross_Val Macro Recall:', results['test_recall_macro'].mean())\n",
    "    print('##############')\n",
    "    print('Training Macro F1:', results['train_f1_macro'].mean())\n",
    "    print('Cross_Val Macro F1:', results['test_f1_macro'].mean())"
   ]
  },
  {
   "cell_type": "code",
   "execution_count": 24,
   "metadata": {},
   "outputs": [],
   "source": [
    "display_labels = ['No Fee Collected', \n",
    "                  'Fee Collected']\n",
    "\n",
    "def print_cm_with_labels(y_true, \n",
    "                         y_pred, \n",
    "                         display_labels):\n",
    "    \n",
    "    \n",
    "    '''\n",
    "    Takes the true values and predicted values of a classifier and \n",
    "    plots a confusion matrix (normalized by predictions) using \n",
    "    a list of given display labels.\n",
    "    '''\n",
    "    cm = confusion_matrix(y_true, y_pred, normalize = 'pred')\n",
    "    disp = ConfusionMatrixDisplay(confusion_matrix=cm,\n",
    "                                  )\n",
    "\n",
    "    fig, ax = plt.subplots(figsize=(6,6))\n",
    "    disp.plot(ax=ax)\n",
    "    ax.grid(False)\n",
    "    disp.ax_.set_xticklabels(display_labels,rotation=45);"
   ]
  },
  {
   "cell_type": "markdown",
   "metadata": {},
   "source": [
    "# FSM"
   ]
  },
  {
   "cell_type": "code",
   "execution_count": 16,
   "metadata": {},
   "outputs": [],
   "source": [
    "dummy_model = DummyClassifier(strategy=\"most_frequent\")\n",
    "dummy_model.fit(x_train, y_train)\n",
    "y_hat = dummy_model.predict(x_train)"
   ]
  },
  {
   "cell_type": "code",
   "execution_count": 17,
   "metadata": {},
   "outputs": [
    {
     "name": "stderr",
     "output_type": "stream",
     "text": [
      "/opt/anaconda3/lib/python3.8/site-packages/sklearn/metrics/_classification.py:1245: UndefinedMetricWarning: Precision is ill-defined and being set to 0.0 in labels with no predicted samples. Use `zero_division` parameter to control this behavior.\n",
      "  _warn_prf(average, modifier, msg_start, len(result))\n"
     ]
    },
    {
     "name": "stdout",
     "output_type": "stream",
     "text": [
      "Accuracy Score: 0.6040151376598528\n",
      "Macro Precision Score: 0.3020075688299264\n",
      "Micro Precision Score: 0.6040151376598528\n",
      "Macro Recall Score: 0.5\n",
      "Micro Recall Score: 0.6040151376598528\n"
     ]
    }
   ],
   "source": [
    "acc = accuracy_score(y_train,y_hat)\n",
    "macro_precision_score=precision_score(y_train, y_hat, average='macro')\n",
    "micro_precision_score=precision_score(y_train, y_hat, average='micro')\n",
    "macro_recall_score=recall_score(y_train, y_hat, average='macro')\n",
    "micro_recall_score=recall_score(y_train, y_hat, average='micro')\n",
    "\n",
    "print('Accuracy Score: {}'.format(acc))\n",
    "print('Macro Precision Score: {}'.format(macro_precision_score))\n",
    "print('Micro Precision Score: {}'.format(micro_precision_score))\n",
    "print('Macro Recall Score: {}'.format(macro_recall_score))\n",
    "print('Micro Recall Score: {}'.format(micro_recall_score))"
   ]
  },
  {
   "cell_type": "code",
   "execution_count": 18,
   "metadata": {},
   "outputs": [
    {
     "name": "stderr",
     "output_type": "stream",
     "text": [
      "/opt/anaconda3/lib/python3.8/site-packages/sklearn/metrics/_classification.py:1245: UndefinedMetricWarning: Precision is ill-defined and being set to 0.0 in labels with no predicted samples. Use `zero_division` parameter to control this behavior.\n",
      "  _warn_prf(average, modifier, msg_start, len(result))\n",
      "/opt/anaconda3/lib/python3.8/site-packages/sklearn/metrics/_classification.py:1245: UndefinedMetricWarning: Precision is ill-defined and being set to 0.0 in labels with no predicted samples. Use `zero_division` parameter to control this behavior.\n",
      "  _warn_prf(average, modifier, msg_start, len(result))\n",
      "/opt/anaconda3/lib/python3.8/site-packages/sklearn/metrics/_classification.py:1245: UndefinedMetricWarning: Precision is ill-defined and being set to 0.0 in labels with no predicted samples. Use `zero_division` parameter to control this behavior.\n",
      "  _warn_prf(average, modifier, msg_start, len(result))\n",
      "/opt/anaconda3/lib/python3.8/site-packages/sklearn/metrics/_classification.py:1245: UndefinedMetricWarning: Precision is ill-defined and being set to 0.0 in labels with no predicted samples. Use `zero_division` parameter to control this behavior.\n",
      "  _warn_prf(average, modifier, msg_start, len(result))\n",
      "/opt/anaconda3/lib/python3.8/site-packages/sklearn/metrics/_classification.py:1245: UndefinedMetricWarning: Precision is ill-defined and being set to 0.0 in labels with no predicted samples. Use `zero_division` parameter to control this behavior.\n",
      "  _warn_prf(average, modifier, msg_start, len(result))\n",
      "/opt/anaconda3/lib/python3.8/site-packages/sklearn/metrics/_classification.py:1245: UndefinedMetricWarning: Precision is ill-defined and being set to 0.0 in labels with no predicted samples. Use `zero_division` parameter to control this behavior.\n",
      "  _warn_prf(average, modifier, msg_start, len(result))\n",
      "/opt/anaconda3/lib/python3.8/site-packages/sklearn/metrics/_classification.py:1245: UndefinedMetricWarning: Precision is ill-defined and being set to 0.0 in labels with no predicted samples. Use `zero_division` parameter to control this behavior.\n",
      "  _warn_prf(average, modifier, msg_start, len(result))\n",
      "/opt/anaconda3/lib/python3.8/site-packages/sklearn/metrics/_classification.py:1245: UndefinedMetricWarning: Precision is ill-defined and being set to 0.0 in labels with no predicted samples. Use `zero_division` parameter to control this behavior.\n",
      "  _warn_prf(average, modifier, msg_start, len(result))\n",
      "/opt/anaconda3/lib/python3.8/site-packages/sklearn/metrics/_classification.py:1245: UndefinedMetricWarning: Precision is ill-defined and being set to 0.0 in labels with no predicted samples. Use `zero_division` parameter to control this behavior.\n",
      "  _warn_prf(average, modifier, msg_start, len(result))\n",
      "/opt/anaconda3/lib/python3.8/site-packages/sklearn/metrics/_classification.py:1245: UndefinedMetricWarning: Precision is ill-defined and being set to 0.0 in labels with no predicted samples. Use `zero_division` parameter to control this behavior.\n",
      "  _warn_prf(average, modifier, msg_start, len(result))\n"
     ]
    },
    {
     "name": "stdout",
     "output_type": "stream",
     "text": [
      "[0.60401304 0.60401304 0.6040189  0.60401536 0.60401536]\n",
      "Training Accuracy 0.6040151376593361\n",
      "##############\n",
      "[0.60402354 0.60402354 0.60400009 0.60401426 0.60401426]\n",
      "Cross_Val Accuracy 0.6040151376515861\n",
      "##############\n",
      "Training Macro Precision: 0.30200756882966806\n",
      "Cross_Val Macro Precision: 0.30200756882579305\n",
      "##############\n",
      "Training Macro Recall: 0.5\n",
      "Cross_Val Macro Recall: 0.5\n",
      "##############\n",
      "Training Macro F1: 0.37656448712756774\n",
      "Cross_Val Macro F1: 0.3765644871077857\n"
     ]
    }
   ],
   "source": [
    "print_cv_scores(dummy_model, x_train, y_train)"
   ]
  },
  {
   "cell_type": "markdown",
   "metadata": {},
   "source": [
    "# Logistic Regression"
   ]
  },
  {
   "cell_type": "code",
   "execution_count": 19,
   "metadata": {},
   "outputs": [
    {
     "data": {
      "text/plain": [
       "Pipeline(steps=[('ss', StandardScaler()),\n",
       "                ('lr', LogisticRegression(max_iter=100000, random_state=42))])"
      ]
     },
     "execution_count": 19,
     "metadata": {},
     "output_type": "execute_result"
    }
   ],
   "source": [
    "lr_pipe = Pipeline(steps=[\n",
    "    ('ss', StandardScaler()),\n",
    "    ('lr', LogisticRegression(random_state=42, max_iter=100000))\n",
    "])\n",
    "lr_pipe.fit(x_train, y_train)"
   ]
  },
  {
   "cell_type": "code",
   "execution_count": 20,
   "metadata": {},
   "outputs": [
    {
     "name": "stdout",
     "output_type": "stream",
     "text": [
      "[0.67444928 0.68035804 0.67902154 0.67311469 0.67166681]\n",
      "Training Accuracy 0.6757220713723812\n",
      "##############\n",
      "[0.66477526 0.64430585 0.65152759 0.66999625 0.68966892]\n",
      "Cross_Val Accuracy 0.664054771109128\n",
      "##############\n",
      "Training Macro Precision: 0.6596263942386237\n",
      "Cross_Val Macro Precision: 0.6493349153688687\n",
      "##############\n",
      "Training Macro Recall: 0.6405462599660448\n",
      "Cross_Val Macro Recall: 0.628893563259079\n",
      "##############\n",
      "Training Macro F1: 0.6429905807296015\n",
      "Cross_Val Macro F1: 0.6259099028489645\n"
     ]
    }
   ],
   "source": [
    "print_cv_scores(lr_pipe, x_train, y_train)"
   ]
  },
  {
   "cell_type": "code",
   "execution_count": null,
   "metadata": {},
   "outputs": [],
   "source": [
    "display_labels=display_labels"
   ]
  },
  {
   "cell_type": "code",
   "execution_count": 27,
   "metadata": {},
   "outputs": [
    {
     "data": {
      "image/png": "[encoded data removed]",
      "text/plain": [
       "<Figure size 432x288 with 2 Axes>"
      ]
     },
     "metadata": {
      "needs_background": "light"
     },
     "output_type": "display_data"
    }
   ],
   "source": [
    "plot_confusion_matrix(lr_pipe, x_train, y_train, \n",
    "                      display_labels= ['Fee Collected', 'Fee Not Collected'], normalize=\"pred\");"
   ]
  },
  {
   "cell_type": "code",
   "execution_count": 330,
   "metadata": {},
   "outputs": [
    {
     "ename": "NameError",
     "evalue": "name 'lr' is not defined",
     "output_type": "error",
     "traceback": [
      "\u001b[0;31m---------------------------------------------------------------------------\u001b[0m",
      "\u001b[0;31mNameError\u001b[0m                                 Traceback (most recent call last)",
      "\u001b[0;32m<ipython-input-330-7c645cf02ef2>\u001b[0m in \u001b[0;36m<module>\u001b[0;34m\u001b[0m\n\u001b[0;32m----> 1\u001b[0;31m \u001b[0mimportance\u001b[0m \u001b[0;34m=\u001b[0m \u001b[0mlr\u001b[0m\u001b[0;34m.\u001b[0m\u001b[0mcoef_\u001b[0m\u001b[0;34m[\u001b[0m\u001b[0;36m0\u001b[0m\u001b[0;34m]\u001b[0m\u001b[0;34m\u001b[0m\u001b[0;34m\u001b[0m\u001b[0m\n\u001b[0m\u001b[1;32m      2\u001b[0m \u001b[0;31m# summarize feature importance\u001b[0m\u001b[0;34m\u001b[0m\u001b[0;34m\u001b[0m\u001b[0;34m\u001b[0m\u001b[0m\n\u001b[1;32m      3\u001b[0m \u001b[0;32mfor\u001b[0m \u001b[0mi\u001b[0m\u001b[0;34m,\u001b[0m\u001b[0mv\u001b[0m \u001b[0;32min\u001b[0m \u001b[0menumerate\u001b[0m\u001b[0;34m(\u001b[0m\u001b[0mimportance\u001b[0m\u001b[0;34m)\u001b[0m\u001b[0;34m:\u001b[0m\u001b[0;34m\u001b[0m\u001b[0;34m\u001b[0m\u001b[0m\n\u001b[1;32m      4\u001b[0m     \u001b[0mprint\u001b[0m\u001b[0;34m(\u001b[0m\u001b[0;34m'Feature: %0d, Score: %.5f'\u001b[0m \u001b[0;34m%\u001b[0m \u001b[0;34m(\u001b[0m\u001b[0mi\u001b[0m\u001b[0;34m,\u001b[0m\u001b[0mv\u001b[0m\u001b[0;34m)\u001b[0m\u001b[0;34m)\u001b[0m\u001b[0;34m\u001b[0m\u001b[0;34m\u001b[0m\u001b[0m\n\u001b[1;32m      5\u001b[0m \u001b[0;31m# plot feature importance\u001b[0m\u001b[0;34m\u001b[0m\u001b[0;34m\u001b[0m\u001b[0;34m\u001b[0m\u001b[0m\n",
      "\u001b[0;31mNameError\u001b[0m: name 'lr' is not defined"
     ]
    }
   ],
   "source": [
    "importance = lr.coef_[0]\n",
    "# summarize feature importance\n",
    "for i,v in enumerate(importance):\n",
    "    print('Feature: %0d, Score: %.5f' % (i,v))\n",
    "# plot feature importance\n",
    "    plt.bar([x for x in range(len(importance))], importance)\n",
    "    plt.show()"
   ]
  },
  {
   "cell_type": "markdown",
   "metadata": {},
   "source": [
    "# Decision Tree"
   ]
  },
  {
   "cell_type": "code",
   "execution_count": 28,
   "metadata": {},
   "outputs": [
    {
     "data": {
      "text/plain": [
       "Pipeline(steps=[('ss', StandardScaler()), ('lr', DecisionTreeClassifier())])"
      ]
     },
     "execution_count": 28,
     "metadata": {},
     "output_type": "execute_result"
    }
   ],
   "source": [
    "dt_pipe = Pipeline(steps=[\n",
    "    ('ss', StandardScaler()),\n",
    "    ('lr', DecisionTreeClassifier())\n",
    "])\n",
    "dt_pipe.fit(x_train, y_train)"
   ]
  },
  {
   "cell_type": "code",
   "execution_count": 29,
   "metadata": {},
   "outputs": [
    {
     "name": "stdout",
     "output_type": "stream",
     "text": [
      "[0.75555998 0.761246   0.75461036 0.74632902 0.73985756]\n",
      "Training Accuracy 0.7515205854993935\n",
      "##############\n",
      "[0.62022556 0.59902929 0.60700134 0.58696774 0.63939692]\n",
      "Cross_Val Accuracy 0.6105241687479637\n",
      "##############\n",
      "Training Macro Precision: 0.7444522120881694\n",
      "Cross_Val Macro Precision: 0.5937025878629254\n",
      "##############\n",
      "Training Macro Recall: 0.7258568909836611\n",
      "Cross_Val Macro Recall: 0.5909239766457136\n",
      "##############\n",
      "Training Macro F1: 0.7312431448984886\n",
      "Cross_Val Macro F1: 0.5892919634984991\n"
     ]
    }
   ],
   "source": [
    "print_cv_scores(dt_pipe, x_train, y_train)"
   ]
  },
  {
   "cell_type": "code",
   "execution_count": 32,
   "metadata": {},
   "outputs": [
    {
     "data": {
      "image/png": "[encoded data removed]",
      "text/plain": [
       "<Figure size 432x288 with 2 Axes>"
      ]
     },
     "metadata": {
      "needs_background": "light"
     },
     "output_type": "display_data"
    }
   ],
   "source": [
    "plot_confusion_matrix(dt_pipe, x_train, y_train, \n",
    "                      display_labels= ['Fee Collected', 'Fee Not Collected'], normalize=\"pred\");"
   ]
  },
  {
   "cell_type": "code",
   "execution_count": 33,
   "metadata": {},
   "outputs": [],
   "source": [
    "testing = pd.DataFrame(dt_pipe.steps[1][1].feature_importances_)"
   ]
  },
  {
   "cell_type": "code",
   "execution_count": 35,
   "metadata": {},
   "outputs": [
    {
     "data": {
      "text/html": [
       "<div>\n",
       "<style scoped>\n",
       "    .dataframe tbody tr th:only-of-type {\n",
       "        vertical-align: middle;\n",
       "    }\n",
       "\n",
       "    .dataframe tbody tr th {\n",
       "        vertical-align: top;\n",
       "    }\n",
       "\n",
       "    .dataframe thead th {\n",
       "        text-align: right;\n",
       "    }\n",
       "</style>\n",
       "<table border=\"1\" class=\"dataframe\">\n",
       "  <thead>\n",
       "    <tr style=\"text-align: right;\">\n",
       "      <th></th>\n",
       "      <th>0</th>\n",
       "    </tr>\n",
       "  </thead>\n",
       "  <tbody>\n",
       "    <tr>\n",
       "      <th>16</th>\n",
       "      <td>0.165944</td>\n",
       "    </tr>\n",
       "    <tr>\n",
       "      <th>49</th>\n",
       "      <td>0.130219</td>\n",
       "    </tr>\n",
       "    <tr>\n",
       "      <th>10</th>\n",
       "      <td>0.058766</td>\n",
       "    </tr>\n",
       "    <tr>\n",
       "      <th>76</th>\n",
       "      <td>0.037998</td>\n",
       "    </tr>\n",
       "    <tr>\n",
       "      <th>37</th>\n",
       "      <td>0.037195</td>\n",
       "    </tr>\n",
       "    <tr>\n",
       "      <th>...</th>\n",
       "      <td>...</td>\n",
       "    </tr>\n",
       "    <tr>\n",
       "      <th>65</th>\n",
       "      <td>0.000000</td>\n",
       "    </tr>\n",
       "    <tr>\n",
       "      <th>55</th>\n",
       "      <td>0.000000</td>\n",
       "    </tr>\n",
       "    <tr>\n",
       "      <th>31</th>\n",
       "      <td>0.000000</td>\n",
       "    </tr>\n",
       "    <tr>\n",
       "      <th>47</th>\n",
       "      <td>0.000000</td>\n",
       "    </tr>\n",
       "    <tr>\n",
       "      <th>41</th>\n",
       "      <td>0.000000</td>\n",
       "    </tr>\n",
       "  </tbody>\n",
       "</table>\n",
       "<p>81 rows × 1 columns</p>\n",
       "</div>"
      ],
      "text/plain": [
       "           0\n",
       "16  0.165944\n",
       "49  0.130219\n",
       "10  0.058766\n",
       "76  0.037998\n",
       "37  0.037195\n",
       "..       ...\n",
       "65  0.000000\n",
       "55  0.000000\n",
       "31  0.000000\n",
       "47  0.000000\n",
       "41  0.000000\n",
       "\n",
       "[81 rows x 1 columns]"
      ]
     },
     "execution_count": 35,
     "metadata": {},
     "output_type": "execute_result"
    }
   ],
   "source": [
    "testing.sort_values(by = 0, ascending = False)"
   ]
  },
  {
   "cell_type": "code",
   "execution_count": null,
   "metadata": {},
   "outputs": [],
   "source": []
  },
  {
   "cell_type": "code",
   "execution_count": null,
   "metadata": {},
   "outputs": [],
   "source": [
    "tree_clf = DecisionTreeClassifier(max_depth=2) \n",
    "\n",
    "tree_clf.fit(x_train_transformed, y_train)\n",
    "\n",
    "y_hat = tree_clf.predict(x_train_transformed)\n",
    "\n",
    "acc = accuracy_score(y_train,y_hat)\n",
    "macro_precision_score=precision_score(y_train, y_hat, average='macro')\n",
    "micro_precision_score=precision_score(y_train, y_hat, average='micro')\n",
    "macro_recall_score=recall_score(y_train, y_hat, average='macro')\n",
    "micro_recall_score=recall_score(y_train, y_hat, average='micro')\n",
    "\n",
    "\n",
    "print('Accuracy Score: {}'.format(acc))\n",
    "print('Macro Precision Score: {}'.format(macro_precision_score))\n",
    "print('Micro Precision Score: {}'.format(micro_precision_score))\n",
    "print('Macro Recall Score: {}'.format(macro_recall_score))\n",
    "print('Micro Recall Score: {}'.format(micro_recall_score))"
   ]
  },
  {
   "cell_type": "code",
   "execution_count": null,
   "metadata": {},
   "outputs": [],
   "source": [
    "print_cv_scores(tree_clf, x_train_transformed, y_train)"
   ]
  },
  {
   "cell_type": "code",
   "execution_count": null,
   "metadata": {},
   "outputs": [],
   "source": [
    "print_cm_with_labels(x_train_transformed, y_hat, display_labels)"
   ]
  },
  {
   "cell_type": "markdown",
   "metadata": {},
   "source": [
    "# Random Forest"
   ]
  },
  {
   "cell_type": "code",
   "execution_count": 36,
   "metadata": {},
   "outputs": [
    {
     "data": {
      "text/plain": [
       "Pipeline(steps=[('ss', StandardScaler()),\n",
       "                ('rf', RandomForestClassifier(class_weight='balanced'))])"
      ]
     },
     "execution_count": 36,
     "metadata": {},
     "output_type": "execute_result"
    }
   ],
   "source": [
    "rf_pipe = Pipeline(steps=[\n",
    "    ('ss', StandardScaler()),\n",
    "    ('rf', RandomForestClassifier(class_weight=\"balanced\"))\n",
    "])\n",
    "rf_pipe.fit(x_train, y_train)"
   ]
  },
  {
   "cell_type": "code",
   "execution_count": 37,
   "metadata": {},
   "outputs": [
    {
     "name": "stdout",
     "output_type": "stream",
     "text": [
      "[0.73815609 0.74795714 0.73861918 0.72803423 0.72227205]\n",
      "Training Accuracy 0.7350077373104786\n",
      "##############\n",
      "[0.65781144 0.60001407 0.63895988 0.63114331 0.66446258]\n",
      "Cross_Val Accuracy 0.6384782555553006\n",
      "##############\n",
      "Training Macro Precision: 0.7357681940756551\n",
      "Cross_Val Macro Precision: 0.6385333776798673\n",
      "##############\n",
      "Training Macro Recall: 0.7463618488406211\n",
      "Cross_Val Macro Recall: 0.6411739008475108\n",
      "##############\n",
      "Training Macro F1: 0.7322875979909637\n",
      "Cross_Val Macro F1: 0.6308416129050016\n"
     ]
    }
   ],
   "source": [
    "print_cv_scores(rf_pipe, x_train, y_train)"
   ]
  },
  {
   "cell_type": "code",
   "execution_count": 38,
   "metadata": {},
   "outputs": [
    {
     "data": {
      "image/png": "[encoded data removed]",
      "text/plain": [
       "<Figure size 432x288 with 2 Axes>"
      ]
     },
     "metadata": {
      "needs_background": "light"
     },
     "output_type": "display_data"
    }
   ],
   "source": [
    "plot_confusion_matrix(rf_pipe, x_train, y_train, \n",
    "                      display_labels= ['Fee Collected', 'Fee Not Collected'], normalize=\"pred\");"
   ]
  },
  {
   "cell_type": "code",
   "execution_count": 39,
   "metadata": {},
   "outputs": [],
   "source": [
    "testing = pd.DataFrame(rf_pipe.steps[1][1].feature_importances_)"
   ]
  },
  {
   "cell_type": "code",
   "execution_count": 41,
   "metadata": {},
   "outputs": [
    {
     "data": {
      "text/html": [
       "<div>\n",
       "<style scoped>\n",
       "    .dataframe tbody tr th:only-of-type {\n",
       "        vertical-align: middle;\n",
       "    }\n",
       "\n",
       "    .dataframe tbody tr th {\n",
       "        vertical-align: top;\n",
       "    }\n",
       "\n",
       "    .dataframe thead th {\n",
       "        text-align: right;\n",
       "    }\n",
       "</style>\n",
       "<table border=\"1\" class=\"dataframe\">\n",
       "  <thead>\n",
       "    <tr style=\"text-align: right;\">\n",
       "      <th></th>\n",
       "      <th>0</th>\n",
       "    </tr>\n",
       "  </thead>\n",
       "  <tbody>\n",
       "    <tr>\n",
       "      <th>16</th>\n",
       "      <td>9.514003e-02</td>\n",
       "    </tr>\n",
       "    <tr>\n",
       "      <th>49</th>\n",
       "      <td>6.486801e-02</td>\n",
       "    </tr>\n",
       "    <tr>\n",
       "      <th>76</th>\n",
       "      <td>5.673050e-02</td>\n",
       "    </tr>\n",
       "    <tr>\n",
       "      <th>37</th>\n",
       "      <td>4.976768e-02</td>\n",
       "    </tr>\n",
       "    <tr>\n",
       "      <th>78</th>\n",
       "      <td>4.462031e-02</td>\n",
       "    </tr>\n",
       "    <tr>\n",
       "      <th>...</th>\n",
       "      <td>...</td>\n",
       "    </tr>\n",
       "    <tr>\n",
       "      <th>54</th>\n",
       "      <td>8.760887e-06</td>\n",
       "    </tr>\n",
       "    <tr>\n",
       "      <th>55</th>\n",
       "      <td>8.052249e-06</td>\n",
       "    </tr>\n",
       "    <tr>\n",
       "      <th>47</th>\n",
       "      <td>7.998614e-06</td>\n",
       "    </tr>\n",
       "    <tr>\n",
       "      <th>65</th>\n",
       "      <td>6.389696e-06</td>\n",
       "    </tr>\n",
       "    <tr>\n",
       "      <th>41</th>\n",
       "      <td>1.234262e-07</td>\n",
       "    </tr>\n",
       "  </tbody>\n",
       "</table>\n",
       "<p>81 rows × 1 columns</p>\n",
       "</div>"
      ],
      "text/plain": [
       "               0\n",
       "16  9.514003e-02\n",
       "49  6.486801e-02\n",
       "76  5.673050e-02\n",
       "37  4.976768e-02\n",
       "78  4.462031e-02\n",
       "..           ...\n",
       "54  8.760887e-06\n",
       "55  8.052249e-06\n",
       "47  7.998614e-06\n",
       "65  6.389696e-06\n",
       "41  1.234262e-07\n",
       "\n",
       "[81 rows x 1 columns]"
      ]
     },
     "execution_count": 41,
     "metadata": {},
     "output_type": "execute_result"
    }
   ],
   "source": [
    "testing.sort_values(by = 0, ascending = False)"
   ]
  },
  {
   "cell_type": "code",
   "execution_count": 43,
   "metadata": {},
   "outputs": [
    {
     "name": "stdout",
     "output_type": "stream",
     "text": [
      "<class 'pandas.core.frame.DataFrame'>\n",
      "RangeIndex: 213243 entries, 0 to 213242\n",
      "Data columns (total 81 columns):\n",
      " #   Column                                                     Non-Null Count   Dtype  \n",
      "---  ------                                                     --------------   -----  \n",
      " 0   Estimate!!Nonfamily households!!Median income (dollars)    213243 non-null  float64\n",
      " 1   Estimate!!Nonfamily households!!Mean income (dollars)      213243 non-null  float64\n",
      " 2   Estimate!!Nonfamily households!!Total!!Less than $10,000   213243 non-null  float64\n",
      " 3   Estimate!!Nonfamily households!!Total!!$10,000 to $14,999  213243 non-null  float64\n",
      " 4   Estimate!!Nonfamily households!!Total!!$15,000 to $24,999  213243 non-null  float64\n",
      " 5   Estimate!!Nonfamily households!!Total!!$25,000 to $34,999  213243 non-null  float64\n",
      " 6   Estimate!!Nonfamily households!!Total!!$35,000 to $49,999  213243 non-null  float64\n",
      " 7   Estimate!!Nonfamily households!!Total!!$50,000 to $74,999  213243 non-null  float64\n",
      " 8   Estimate!!Households!!Median income (dollars)              213243 non-null  float64\n",
      " 9   Estimate!!Households!!Mean income (dollars)                213243 non-null  float64\n",
      " 10  Estimate!!Households!!Total!!Less than $10,000             213243 non-null  float64\n",
      " 11  Estimate!!Households!!Total!!$10,000 to $14,999            213243 non-null  float64\n",
      " 12  Estimate!!Households!!Total!!$15,000 to $24,999            213243 non-null  float64\n",
      " 13  Estimate!!Households!!Total!!$25,000 to $34,999            213243 non-null  float64\n",
      " 14  Estimate!!Households!!Total!!$35,000 to $49,999            213243 non-null  float64\n",
      " 15  Estimate!!Households!!Total!!$50,000 to $74,999            213243 non-null  float64\n",
      " 16  x0_POLICE DEPARTMENT                                       213243 non-null  float64\n",
      " 17  x0_SANITATION POLICE                                       213243 non-null  float64\n",
      " 18  x0_SEAGATE POLICE                                          213243 non-null  float64\n",
      " 19  x0_UNKNOWN                                                 213243 non-null  float64\n",
      " 20  x1_BROOKLYN                                                213243 non-null  float64\n",
      " 21  x1_MANHATTAN                                               213243 non-null  float64\n",
      " 22  x1_NOT NYC                                                 213243 non-null  float64\n",
      " 23  x1_QUEENS                                                  213243 non-null  float64\n",
      " 24  x1_STATEN IS                                               213243 non-null  float64\n",
      " 25  x1_UNKNOWN                                                 213243 non-null  float64\n",
      " 26  x2_BROOKLYN                                                213243 non-null  float64\n",
      " 27  x2_MANHATTAN                                               213243 non-null  float64\n",
      " 28  x2_NOT NYC                                                 213243 non-null  float64\n",
      " 29  x2_QUEENS                                                  213243 non-null  float64\n",
      " 30  x2_STATEN IS                                               213243 non-null  float64\n",
      " 31  x2_UNKNOWN                                                 213243 non-null  float64\n",
      " 32  x3_In Person BROOKLYN                                      213243 non-null  float64\n",
      " 33  x3_In Person MANHATTAN                                     213243 non-null  float64\n",
      " 34  x3_In Person QUEENS                                        213243 non-null  float64\n",
      " 35  x3_In Person STATEN IS                                     213243 non-null  float64\n",
      " 36  x3_Remote                                                  213243 non-null  float64\n",
      " 37  x3_UNKNOWN                                                 213243 non-null  float64\n",
      " 38  x4_15 RCNY 20                                              213243 non-null  float64\n",
      " 39  x4_15 RCNY 21                                              213243 non-null  float64\n",
      " 40  x4_16 RCNY                                                 213243 non-null  float64\n",
      " 41  x4_17 RCNY                                                 213243 non-null  float64\n",
      " 42  x4_24 RCNY                                                 213243 non-null  float64\n",
      " 43  x4_34 RCNY                                                 213243 non-null  float64\n",
      " 44  x4_56 RCNY                                                 213243 non-null  float64\n",
      " 45  x4_6 RCNY                                                  213243 non-null  float64\n",
      " 46  x4_66 RCNY                                                 213243 non-null  float64\n",
      " 47  x4_67 RCNY                                                 213243 non-null  float64\n",
      " 48  x4_AC 1                                                    213243 non-null  float64\n",
      " 49  x4_AC 10                                                   213243 non-null  float64\n",
      " 50  x4_AC 16                                                   213243 non-null  float64\n",
      " 51  x4_AC 17                                                   213243 non-null  float64\n",
      " 52  x4_AC 19                                                   213243 non-null  float64\n",
      " 53  x4_AC 20                                                   213243 non-null  float64\n",
      " 54  x4_AC 22                                                   213243 non-null  float64\n",
      " 55  x4_AC 23                                                   213243 non-null  float64\n",
      " 56  x4_AC 24                                                   213243 non-null  float64\n",
      " 57  x4_AC 27                                                   213243 non-null  float64\n",
      " 58  x4_AC 29                                                   213243 non-null  float64\n",
      " 59  x4_AC 89                                                   213243 non-null  float64\n",
      " 60  x4_ECL 27                                                  213243 non-null  float64\n",
      " 61  x4_H.C. 131                                                213243 non-null  float64\n",
      " 62  x4_H.C. 139                                                213243 non-null  float64\n",
      " 63  x4_H.C. 151                                                213243 non-null  float64\n",
      " 64  x4_H.C. 153                                                213243 non-null  float64\n",
      " 65  x4_H.C. 157                                                213243 non-null  float64\n",
      " 66  x4_H.C. 161                                                213243 non-null  float64\n",
      " 67  x4_H.C. 173                                                213243 non-null  float64\n",
      " 68  x4_H.C. 181                                                213243 non-null  float64\n",
      " 69  x4_H.C. 3                                                  213243 non-null  float64\n",
      " 70  x4_H.C. 81                                                 213243 non-null  float64\n",
      " 71  x4_H.C. 89                                                 213243 non-null  float64\n",
      " 72  x4_HUDSON RP RLES                                          213243 non-null  float64\n",
      " 73  x4_NYS                                                     213243 non-null  float64\n",
      " 74  x4_UNKNOWN                                                 213243 non-null  float64\n",
      " 75  x4_VTL                                                     213243 non-null  float64\n",
      " 76  x5_1.0                                                     213243 non-null  float64\n",
      " 77  x6_Spring                                                  213243 non-null  float64\n",
      " 78  x6_Summer                                                  213243 non-null  float64\n",
      " 79  x6_UNKNOWN                                                 213243 non-null  float64\n",
      " 80  x6_Winter                                                  213243 non-null  float64\n",
      "dtypes: float64(81)\n",
      "memory usage: 131.8 MB\n"
     ]
    }
   ],
   "source": [
    "x_train.info()"
   ]
  },
  {
   "cell_type": "code",
   "execution_count": null,
   "metadata": {},
   "outputs": [],
   "source": [
    "Estimate!!Nonfamily households!!Total!!$15,000 to $24,999"
   ]
  },
  {
   "cell_type": "code",
   "execution_count": null,
   "metadata": {},
   "outputs": [],
   "source": []
  },
  {
   "cell_type": "code",
   "execution_count": null,
   "metadata": {},
   "outputs": [],
   "source": []
  },
  {
   "cell_type": "code",
   "execution_count": null,
   "metadata": {},
   "outputs": [],
   "source": []
  },
  {
   "cell_type": "code",
   "execution_count": null,
   "metadata": {},
   "outputs": [],
   "source": []
  },
  {
   "cell_type": "code",
   "execution_count": null,
   "metadata": {},
   "outputs": [],
   "source": []
  },
  {
   "cell_type": "code",
   "execution_count": 349,
   "metadata": {},
   "outputs": [
    {
     "data": {
      "text/plain": [
       "0         0.0\n",
       "1         0.0\n",
       "2         0.0\n",
       "3         0.0\n",
       "4         0.0\n",
       "         ... \n",
       "213238    0.0\n",
       "213239    0.0\n",
       "213240    0.0\n",
       "213241    0.0\n",
       "213242    0.0\n",
       "Name: x0_NYPD TRANSPORT INTELLIGENCE DI, Length: 213243, dtype: float64"
      ]
     },
     "execution_count": 349,
     "metadata": {},
     "output_type": "execute_result"
    }
   ],
   "source": [
    "x_train.iloc[:,17]"
   ]
  },
  {
   "cell_type": "code",
   "execution_count": 24,
   "metadata": {},
   "outputs": [
    {
     "ename": "ValueError",
     "evalue": "Input contains NaN, infinity or a value too large for dtype('float32').",
     "output_type": "error",
     "traceback": [
      "\u001b[0;31m---------------------------------------------------------------------------\u001b[0m",
      "\u001b[0;31mValueError\u001b[0m                                Traceback (most recent call last)",
      "\u001b[0;32m<ipython-input-24-2ae14f2d2ac9>\u001b[0m in \u001b[0;36m<module>\u001b[0;34m\u001b[0m\n\u001b[1;32m      1\u001b[0m \u001b[0mmodel_RF\u001b[0m \u001b[0;34m=\u001b[0m \u001b[0mRandomForestClassifier\u001b[0m\u001b[0;34m(\u001b[0m\u001b[0;34m)\u001b[0m\u001b[0;34m\u001b[0m\u001b[0;34m\u001b[0m\u001b[0m\n\u001b[0;32m----> 2\u001b[0;31m \u001b[0mmodel_RF\u001b[0m\u001b[0;34m.\u001b[0m\u001b[0mfit\u001b[0m\u001b[0;34m(\u001b[0m\u001b[0mx_train\u001b[0m\u001b[0;34m,\u001b[0m \u001b[0my_train\u001b[0m\u001b[0;34m)\u001b[0m\u001b[0;34m\u001b[0m\u001b[0;34m\u001b[0m\u001b[0m\n\u001b[0m\u001b[1;32m      3\u001b[0m \u001b[0my_hat\u001b[0m \u001b[0;34m=\u001b[0m \u001b[0mmodel_RF\u001b[0m\u001b[0;34m.\u001b[0m\u001b[0mpredict\u001b[0m\u001b[0;34m(\u001b[0m\u001b[0my_train\u001b[0m\u001b[0;34m)\u001b[0m\u001b[0;34m\u001b[0m\u001b[0;34m\u001b[0m\u001b[0m\n\u001b[1;32m      4\u001b[0m \u001b[0;34m\u001b[0m\u001b[0m\n\u001b[1;32m      5\u001b[0m \u001b[0macc\u001b[0m \u001b[0;34m=\u001b[0m \u001b[0maccuracy_score\u001b[0m\u001b[0;34m(\u001b[0m\u001b[0my_train\u001b[0m\u001b[0;34m,\u001b[0m\u001b[0my_hat\u001b[0m\u001b[0;34m)\u001b[0m\u001b[0;34m\u001b[0m\u001b[0;34m\u001b[0m\u001b[0m\n",
      "\u001b[0;32m/opt/anaconda3/lib/python3.8/site-packages/sklearn/ensemble/_forest.py\u001b[0m in \u001b[0;36mfit\u001b[0;34m(self, X, y, sample_weight)\u001b[0m\n\u001b[1;32m    302\u001b[0m                 \u001b[0;34m\"sparse multilabel-indicator for y is not supported.\"\u001b[0m\u001b[0;34m\u001b[0m\u001b[0;34m\u001b[0m\u001b[0m\n\u001b[1;32m    303\u001b[0m             )\n\u001b[0;32m--> 304\u001b[0;31m         X, y = self._validate_data(X, y, multi_output=True,\n\u001b[0m\u001b[1;32m    305\u001b[0m                                    accept_sparse=\"csc\", dtype=DTYPE)\n\u001b[1;32m    306\u001b[0m         \u001b[0;32mif\u001b[0m \u001b[0msample_weight\u001b[0m \u001b[0;32mis\u001b[0m \u001b[0;32mnot\u001b[0m \u001b[0;32mNone\u001b[0m\u001b[0;34m:\u001b[0m\u001b[0;34m\u001b[0m\u001b[0;34m\u001b[0m\u001b[0m\n",
      "\u001b[0;32m/opt/anaconda3/lib/python3.8/site-packages/sklearn/base.py\u001b[0m in \u001b[0;36m_validate_data\u001b[0;34m(self, X, y, reset, validate_separately, **check_params)\u001b[0m\n\u001b[1;32m    431\u001b[0m                 \u001b[0my\u001b[0m \u001b[0;34m=\u001b[0m \u001b[0mcheck_array\u001b[0m\u001b[0;34m(\u001b[0m\u001b[0my\u001b[0m\u001b[0;34m,\u001b[0m \u001b[0;34m**\u001b[0m\u001b[0mcheck_y_params\u001b[0m\u001b[0;34m)\u001b[0m\u001b[0;34m\u001b[0m\u001b[0;34m\u001b[0m\u001b[0m\n\u001b[1;32m    432\u001b[0m             \u001b[0;32melse\u001b[0m\u001b[0;34m:\u001b[0m\u001b[0;34m\u001b[0m\u001b[0;34m\u001b[0m\u001b[0m\n\u001b[0;32m--> 433\u001b[0;31m                 \u001b[0mX\u001b[0m\u001b[0;34m,\u001b[0m \u001b[0my\u001b[0m \u001b[0;34m=\u001b[0m \u001b[0mcheck_X_y\u001b[0m\u001b[0;34m(\u001b[0m\u001b[0mX\u001b[0m\u001b[0;34m,\u001b[0m \u001b[0my\u001b[0m\u001b[0;34m,\u001b[0m \u001b[0;34m**\u001b[0m\u001b[0mcheck_params\u001b[0m\u001b[0;34m)\u001b[0m\u001b[0;34m\u001b[0m\u001b[0;34m\u001b[0m\u001b[0m\n\u001b[0m\u001b[1;32m    434\u001b[0m             \u001b[0mout\u001b[0m \u001b[0;34m=\u001b[0m \u001b[0mX\u001b[0m\u001b[0;34m,\u001b[0m \u001b[0my\u001b[0m\u001b[0;34m\u001b[0m\u001b[0;34m\u001b[0m\u001b[0m\n\u001b[1;32m    435\u001b[0m \u001b[0;34m\u001b[0m\u001b[0m\n",
      "\u001b[0;32m/opt/anaconda3/lib/python3.8/site-packages/sklearn/utils/validation.py\u001b[0m in \u001b[0;36minner_f\u001b[0;34m(*args, **kwargs)\u001b[0m\n\u001b[1;32m     61\u001b[0m             \u001b[0mextra_args\u001b[0m \u001b[0;34m=\u001b[0m \u001b[0mlen\u001b[0m\u001b[0;34m(\u001b[0m\u001b[0margs\u001b[0m\u001b[0;34m)\u001b[0m \u001b[0;34m-\u001b[0m \u001b[0mlen\u001b[0m\u001b[0;34m(\u001b[0m\u001b[0mall_args\u001b[0m\u001b[0;34m)\u001b[0m\u001b[0;34m\u001b[0m\u001b[0;34m\u001b[0m\u001b[0m\n\u001b[1;32m     62\u001b[0m             \u001b[0;32mif\u001b[0m \u001b[0mextra_args\u001b[0m \u001b[0;34m<=\u001b[0m \u001b[0;36m0\u001b[0m\u001b[0;34m:\u001b[0m\u001b[0;34m\u001b[0m\u001b[0;34m\u001b[0m\u001b[0m\n\u001b[0;32m---> 63\u001b[0;31m                 \u001b[0;32mreturn\u001b[0m \u001b[0mf\u001b[0m\u001b[0;34m(\u001b[0m\u001b[0;34m*\u001b[0m\u001b[0margs\u001b[0m\u001b[0;34m,\u001b[0m \u001b[0;34m**\u001b[0m\u001b[0mkwargs\u001b[0m\u001b[0;34m)\u001b[0m\u001b[0;34m\u001b[0m\u001b[0;34m\u001b[0m\u001b[0m\n\u001b[0m\u001b[1;32m     64\u001b[0m \u001b[0;34m\u001b[0m\u001b[0m\n\u001b[1;32m     65\u001b[0m             \u001b[0;31m# extra_args > 0\u001b[0m\u001b[0;34m\u001b[0m\u001b[0;34m\u001b[0m\u001b[0;34m\u001b[0m\u001b[0m\n",
      "\u001b[0;32m/opt/anaconda3/lib/python3.8/site-packages/sklearn/utils/validation.py\u001b[0m in \u001b[0;36mcheck_X_y\u001b[0;34m(X, y, accept_sparse, accept_large_sparse, dtype, order, copy, force_all_finite, ensure_2d, allow_nd, multi_output, ensure_min_samples, ensure_min_features, y_numeric, estimator)\u001b[0m\n\u001b[1;32m    812\u001b[0m         \u001b[0;32mraise\u001b[0m \u001b[0mValueError\u001b[0m\u001b[0;34m(\u001b[0m\u001b[0;34m\"y cannot be None\"\u001b[0m\u001b[0;34m)\u001b[0m\u001b[0;34m\u001b[0m\u001b[0;34m\u001b[0m\u001b[0m\n\u001b[1;32m    813\u001b[0m \u001b[0;34m\u001b[0m\u001b[0m\n\u001b[0;32m--> 814\u001b[0;31m     X = check_array(X, accept_sparse=accept_sparse,\n\u001b[0m\u001b[1;32m    815\u001b[0m                     \u001b[0maccept_large_sparse\u001b[0m\u001b[0;34m=\u001b[0m\u001b[0maccept_large_sparse\u001b[0m\u001b[0;34m,\u001b[0m\u001b[0;34m\u001b[0m\u001b[0;34m\u001b[0m\u001b[0m\n\u001b[1;32m    816\u001b[0m                     \u001b[0mdtype\u001b[0m\u001b[0;34m=\u001b[0m\u001b[0mdtype\u001b[0m\u001b[0;34m,\u001b[0m \u001b[0morder\u001b[0m\u001b[0;34m=\u001b[0m\u001b[0morder\u001b[0m\u001b[0;34m,\u001b[0m \u001b[0mcopy\u001b[0m\u001b[0;34m=\u001b[0m\u001b[0mcopy\u001b[0m\u001b[0;34m,\u001b[0m\u001b[0;34m\u001b[0m\u001b[0;34m\u001b[0m\u001b[0m\n",
      "\u001b[0;32m/opt/anaconda3/lib/python3.8/site-packages/sklearn/utils/validation.py\u001b[0m in \u001b[0;36minner_f\u001b[0;34m(*args, **kwargs)\u001b[0m\n\u001b[1;32m     61\u001b[0m             \u001b[0mextra_args\u001b[0m \u001b[0;34m=\u001b[0m \u001b[0mlen\u001b[0m\u001b[0;34m(\u001b[0m\u001b[0margs\u001b[0m\u001b[0;34m)\u001b[0m \u001b[0;34m-\u001b[0m \u001b[0mlen\u001b[0m\u001b[0;34m(\u001b[0m\u001b[0mall_args\u001b[0m\u001b[0;34m)\u001b[0m\u001b[0;34m\u001b[0m\u001b[0;34m\u001b[0m\u001b[0m\n\u001b[1;32m     62\u001b[0m             \u001b[0;32mif\u001b[0m \u001b[0mextra_args\u001b[0m \u001b[0;34m<=\u001b[0m \u001b[0;36m0\u001b[0m\u001b[0;34m:\u001b[0m\u001b[0;34m\u001b[0m\u001b[0;34m\u001b[0m\u001b[0m\n\u001b[0;32m---> 63\u001b[0;31m                 \u001b[0;32mreturn\u001b[0m \u001b[0mf\u001b[0m\u001b[0;34m(\u001b[0m\u001b[0;34m*\u001b[0m\u001b[0margs\u001b[0m\u001b[0;34m,\u001b[0m \u001b[0;34m**\u001b[0m\u001b[0mkwargs\u001b[0m\u001b[0;34m)\u001b[0m\u001b[0;34m\u001b[0m\u001b[0;34m\u001b[0m\u001b[0m\n\u001b[0m\u001b[1;32m     64\u001b[0m \u001b[0;34m\u001b[0m\u001b[0m\n\u001b[1;32m     65\u001b[0m             \u001b[0;31m# extra_args > 0\u001b[0m\u001b[0;34m\u001b[0m\u001b[0;34m\u001b[0m\u001b[0;34m\u001b[0m\u001b[0m\n",
      "\u001b[0;32m/opt/anaconda3/lib/python3.8/site-packages/sklearn/utils/validation.py\u001b[0m in \u001b[0;36mcheck_array\u001b[0;34m(array, accept_sparse, accept_large_sparse, dtype, order, copy, force_all_finite, ensure_2d, allow_nd, ensure_min_samples, ensure_min_features, estimator)\u001b[0m\n\u001b[1;32m    661\u001b[0m \u001b[0;34m\u001b[0m\u001b[0m\n\u001b[1;32m    662\u001b[0m         \u001b[0;32mif\u001b[0m \u001b[0mforce_all_finite\u001b[0m\u001b[0;34m:\u001b[0m\u001b[0;34m\u001b[0m\u001b[0;34m\u001b[0m\u001b[0m\n\u001b[0;32m--> 663\u001b[0;31m             _assert_all_finite(array,\n\u001b[0m\u001b[1;32m    664\u001b[0m                                allow_nan=force_all_finite == 'allow-nan')\n\u001b[1;32m    665\u001b[0m \u001b[0;34m\u001b[0m\u001b[0m\n",
      "\u001b[0;32m/opt/anaconda3/lib/python3.8/site-packages/sklearn/utils/validation.py\u001b[0m in \u001b[0;36m_assert_all_finite\u001b[0;34m(X, allow_nan, msg_dtype)\u001b[0m\n\u001b[1;32m    101\u001b[0m                 not allow_nan and not np.isfinite(X).all()):\n\u001b[1;32m    102\u001b[0m             \u001b[0mtype_err\u001b[0m \u001b[0;34m=\u001b[0m \u001b[0;34m'infinity'\u001b[0m \u001b[0;32mif\u001b[0m \u001b[0mallow_nan\u001b[0m \u001b[0;32melse\u001b[0m \u001b[0;34m'NaN, infinity'\u001b[0m\u001b[0;34m\u001b[0m\u001b[0;34m\u001b[0m\u001b[0m\n\u001b[0;32m--> 103\u001b[0;31m             raise ValueError(\n\u001b[0m\u001b[1;32m    104\u001b[0m                     \u001b[0mmsg_err\u001b[0m\u001b[0;34m.\u001b[0m\u001b[0mformat\u001b[0m\u001b[0;34m\u001b[0m\u001b[0;34m\u001b[0m\u001b[0m\n\u001b[1;32m    105\u001b[0m                     (type_err,\n",
      "\u001b[0;31mValueError\u001b[0m: Input contains NaN, infinity or a value too large for dtype('float32')."
     ]
    }
   ],
   "source": [
    "model_RF = RandomForestClassifier()\n",
    "model_RF.fit(x_train, y_train)\n",
    "y_hat = model_RF.predict(y_train)\n",
    "\n",
    "acc = accuracy_score(y_train,y_hat)\n",
    "macro_precision_score=precision_score(y_train, y_hat, average='macro')\n",
    "micro_precision_score=precision_score(y_train, y_hat, average='micro')\n",
    "macro_recall_score=recall_score(y_train, y_hat, average='macro')\n",
    "micro_recall_score=recall_score(y_train, y_hat, average='micro')"
   ]
  },
  {
   "cell_type": "code",
   "execution_count": null,
   "metadata": {},
   "outputs": [],
   "source": []
  },
  {
   "cell_type": "code",
   "execution_count": null,
   "metadata": {},
   "outputs": [],
   "source": []
  },
  {
   "cell_type": "code",
   "execution_count": null,
   "metadata": {},
   "outputs": [],
   "source": []
  },
  {
   "cell_type": "markdown",
   "metadata": {},
   "source": [
    "# XGBoost"
   ]
  },
  {
   "cell_type": "code",
   "execution_count": 44,
   "metadata": {},
   "outputs": [
    {
     "name": "stderr",
     "output_type": "stream",
     "text": [
      "/opt/anaconda3/lib/python3.8/site-packages/xgboost/sklearn.py:888: UserWarning: The use of label encoder in XGBClassifier is deprecated and will be removed in a future release. To remove this warning, do the following: 1) Pass option use_label_encoder=False when constructing XGBClassifier object; and 2) Encode your labels (y) as integers starting with 0, i.e. 0, 1, 2, ..., [num_class - 1].\n",
      "  warnings.warn(label_encoder_deprecation_msg, UserWarning)\n"
     ]
    },
    {
     "name": "stdout",
     "output_type": "stream",
     "text": [
      "[00:40:28] WARNING: /opt/concourse/worker/volumes/live/7a2b9f41-3287-451b-6691-43e9a6c0910f/volume/xgboost-split_1619728204606/work/src/learner.cc:1061: Starting in XGBoost 1.3.0, the default evaluation metric used with the objective 'binary:logistic' was changed from 'error' to 'logloss'. Explicitly set eval_metric if you'd like to restore the old behavior.\n"
     ]
    },
    {
     "data": {
      "text/plain": [
       "Pipeline(steps=[('ss', StandardScaler()),\n",
       "                ('rf',\n",
       "                 XGBClassifier(base_score=0.5, booster='gbtree',\n",
       "                               colsample_bylevel=1, colsample_bynode=1,\n",
       "                               colsample_bytree=1, gamma=0, gpu_id=-1,\n",
       "                               importance_type='gain',\n",
       "                               interaction_constraints='',\n",
       "                               learning_rate=0.300000012, max_delta_step=0,\n",
       "                               max_depth=6, min_child_weight=1, missing=nan,\n",
       "                               monotone_constraints='()', n_estimators=100,\n",
       "                               n_jobs=8, num_parallel_tree=1, random_state=0,\n",
       "                               reg_alpha=0, reg_lambda=1, scale_pos_weight=1,\n",
       "                               subsample=1, tree_method='exact',\n",
       "                               validate_parameters=1, verbosity=None))])"
      ]
     },
     "execution_count": 44,
     "metadata": {},
     "output_type": "execute_result"
    }
   ],
   "source": [
    "xgb_pipe = Pipeline(steps=[\n",
    "    ('ss', StandardScaler()),\n",
    "    ('rf', XGBClassifier())\n",
    "])\n",
    "xgb_pipe.fit(x_train, y_train)"
   ]
  },
  {
   "cell_type": "code",
   "execution_count": 45,
   "metadata": {},
   "outputs": [
    {
     "name": "stderr",
     "output_type": "stream",
     "text": [
      "/opt/anaconda3/lib/python3.8/site-packages/xgboost/sklearn.py:888: UserWarning: The use of label encoder in XGBClassifier is deprecated and will be removed in a future release. To remove this warning, do the following: 1) Pass option use_label_encoder=False when constructing XGBClassifier object; and 2) Encode your labels (y) as integers starting with 0, i.e. 0, 1, 2, ..., [num_class - 1].\n",
      "  warnings.warn(label_encoder_deprecation_msg, UserWarning)\n"
     ]
    },
    {
     "name": "stdout",
     "output_type": "stream",
     "text": [
      "[00:41:04] WARNING: /opt/concourse/worker/volumes/live/7a2b9f41-3287-451b-6691-43e9a6c0910f/volume/xgboost-split_1619728204606/work/src/learner.cc:1061: Starting in XGBoost 1.3.0, the default evaluation metric used with the objective 'binary:logistic' was changed from 'error' to 'logloss'. Explicitly set eval_metric if you'd like to restore the old behavior.\n"
     ]
    },
    {
     "name": "stderr",
     "output_type": "stream",
     "text": [
      "/opt/anaconda3/lib/python3.8/site-packages/xgboost/sklearn.py:888: UserWarning: The use of label encoder in XGBClassifier is deprecated and will be removed in a future release. To remove this warning, do the following: 1) Pass option use_label_encoder=False when constructing XGBClassifier object; and 2) Encode your labels (y) as integers starting with 0, i.e. 0, 1, 2, ..., [num_class - 1].\n",
      "  warnings.warn(label_encoder_deprecation_msg, UserWarning)\n"
     ]
    },
    {
     "name": "stdout",
     "output_type": "stream",
     "text": [
      "[00:41:49] WARNING: /opt/concourse/worker/volumes/live/7a2b9f41-3287-451b-6691-43e9a6c0910f/volume/xgboost-split_1619728204606/work/src/learner.cc:1061: Starting in XGBoost 1.3.0, the default evaluation metric used with the objective 'binary:logistic' was changed from 'error' to 'logloss'. Explicitly set eval_metric if you'd like to restore the old behavior.\n"
     ]
    },
    {
     "name": "stderr",
     "output_type": "stream",
     "text": [
      "/opt/anaconda3/lib/python3.8/site-packages/xgboost/sklearn.py:888: UserWarning: The use of label encoder in XGBClassifier is deprecated and will be removed in a future release. To remove this warning, do the following: 1) Pass option use_label_encoder=False when constructing XGBClassifier object; and 2) Encode your labels (y) as integers starting with 0, i.e. 0, 1, 2, ..., [num_class - 1].\n",
      "  warnings.warn(label_encoder_deprecation_msg, UserWarning)\n"
     ]
    },
    {
     "name": "stdout",
     "output_type": "stream",
     "text": [
      "[00:42:40] WARNING: /opt/concourse/worker/volumes/live/7a2b9f41-3287-451b-6691-43e9a6c0910f/volume/xgboost-split_1619728204606/work/src/learner.cc:1061: Starting in XGBoost 1.3.0, the default evaluation metric used with the objective 'binary:logistic' was changed from 'error' to 'logloss'. Explicitly set eval_metric if you'd like to restore the old behavior.\n"
     ]
    },
    {
     "name": "stderr",
     "output_type": "stream",
     "text": [
      "/opt/anaconda3/lib/python3.8/site-packages/xgboost/sklearn.py:888: UserWarning: The use of label encoder in XGBClassifier is deprecated and will be removed in a future release. To remove this warning, do the following: 1) Pass option use_label_encoder=False when constructing XGBClassifier object; and 2) Encode your labels (y) as integers starting with 0, i.e. 0, 1, 2, ..., [num_class - 1].\n",
      "  warnings.warn(label_encoder_deprecation_msg, UserWarning)\n"
     ]
    },
    {
     "name": "stdout",
     "output_type": "stream",
     "text": [
      "[00:43:31] WARNING: /opt/concourse/worker/volumes/live/7a2b9f41-3287-451b-6691-43e9a6c0910f/volume/xgboost-split_1619728204606/work/src/learner.cc:1061: Starting in XGBoost 1.3.0, the default evaluation metric used with the objective 'binary:logistic' was changed from 'error' to 'logloss'. Explicitly set eval_metric if you'd like to restore the old behavior.\n"
     ]
    },
    {
     "name": "stderr",
     "output_type": "stream",
     "text": [
      "/opt/anaconda3/lib/python3.8/site-packages/xgboost/sklearn.py:888: UserWarning: The use of label encoder in XGBClassifier is deprecated and will be removed in a future release. To remove this warning, do the following: 1) Pass option use_label_encoder=False when constructing XGBClassifier object; and 2) Encode your labels (y) as integers starting with 0, i.e. 0, 1, 2, ..., [num_class - 1].\n",
      "  warnings.warn(label_encoder_deprecation_msg, UserWarning)\n"
     ]
    },
    {
     "name": "stdout",
     "output_type": "stream",
     "text": [
      "[00:44:27] WARNING: /opt/concourse/worker/volumes/live/7a2b9f41-3287-451b-6691-43e9a6c0910f/volume/xgboost-split_1619728204606/work/src/learner.cc:1061: Starting in XGBoost 1.3.0, the default evaluation metric used with the objective 'binary:logistic' was changed from 'error' to 'logloss'. Explicitly set eval_metric if you'd like to restore the old behavior.\n",
      "[0.71746955 0.72338418 0.71545306 0.70980978 0.71010874]\n",
      "Training Accuracy 0.7152450614693125\n",
      "##############\n",
      "[0.66601796 0.6413515  0.65150414 0.63686457 0.67034796]\n",
      "Cross_Val Accuracy 0.6532172253160942\n",
      "##############\n",
      "Training Macro Precision: 0.7040610386171222\n",
      "Cross_Val Macro Precision: 0.6422411184001837\n",
      "##############\n",
      "Training Macro Recall: 0.686343636423462\n",
      "Cross_Val Macro Recall: 0.625461979403772\n",
      "##############\n",
      "Training Macro F1: 0.6906508973396228\n",
      "Cross_Val Macro F1: 0.6208919635626482\n"
     ]
    }
   ],
   "source": [
    "print_cv_scores(xgb_pipe, x_train, y_train)"
   ]
  },
  {
   "cell_type": "code",
   "execution_count": 353,
   "metadata": {},
   "outputs": [],
   "source": [
    "display_labels = ['Written Off', \n",
    "                  'Defaulted', \n",
    "                  'Dismissed',\n",
    "                  'In Violation']\n",
    "\n",
    "def print_cm_with_labels(y_true, \n",
    "                         y_pred, \n",
    "                         display_labels):\n",
    "    \n",
    "    \n",
    "    '''\n",
    "    Takes the true values and predicted values of a classifier and \n",
    "    plots a confusion matrix (normalized by predictions) using \n",
    "    a list of given display labels.\n",
    "    '''\n",
    "    cm = confusion_matrix(y_true, y_pred, normalize = 'pred')\n",
    "    disp = ConfusionMatrixDisplay(confusion_matrix=cm,\n",
    "                                  display_labels=display_labels)\n",
    "\n",
    "    fig, ax = plt.subplots(figsize=(6,6))\n",
    "    disp.plot(ax=ax)\n",
    "    ax.grid(False)\n",
    "    disp.ax_.set_xticklabels(display_labels,rotation=45);"
   ]
  },
  {
   "cell_type": "code",
   "execution_count": 46,
   "metadata": {},
   "outputs": [
    {
     "data": {
      "image/png": "[encoded data removed]",
      "text/plain": [
       "<Figure size 432x288 with 2 Axes>"
      ]
     },
     "metadata": {
      "needs_background": "light"
     },
     "output_type": "display_data"
    }
   ],
   "source": [
    "plot_confusion_matrix(xgb_pipe, x_train, y_train, \n",
    "                      display_labels= ['Fee Collected', 'Fee Not Collected'], normalize=\"pred\");"
   ]
  },
  {
   "cell_type": "code",
   "execution_count": 357,
   "metadata": {},
   "outputs": [
    {
     "data": {
      "text/plain": [
       "XGBClassifier(base_score=0.5, booster='gbtree', colsample_bylevel=1,\n",
       "              colsample_bynode=1, colsample_bytree=1, gamma=0, gpu_id=-1,\n",
       "              importance_type='gain', interaction_constraints='',\n",
       "              learning_rate=0.300000012, max_delta_step=0, max_depth=6,\n",
       "              min_child_weight=1, missing=nan, monotone_constraints='()',\n",
       "              n_estimators=100, n_jobs=8, num_parallel_tree=1,\n",
       "              objective='multi:softprob', random_state=0, reg_alpha=0,\n",
       "              reg_lambda=1, scale_pos_weight=None, subsample=1,\n",
       "              tree_method='exact', validate_parameters=1, verbosity=None)"
      ]
     },
     "execution_count": 357,
     "metadata": {},
     "output_type": "execute_result"
    }
   ],
   "source": [
    "xgb_pipe[1]"
   ]
  },
  {
   "cell_type": "code",
   "execution_count": 360,
   "metadata": {},
   "outputs": [
    {
     "data": {
      "text/plain": [
       "<sklearn.metrics._plot.confusion_matrix.ConfusionMatrixDisplay at 0x7fe5dbc12df0>"
      ]
     },
     "execution_count": 360,
     "metadata": {},
     "output_type": "execute_result"
    },
    {
     "data": {
      "image/png": "[encoded data removed]",
      "text/plain": [
       "<Figure size 432x288 with 2 Axes>"
      ]
     },
     "metadata": {
      "needs_background": "light"
     },
     "output_type": "display_data"
    }
   ],
   "source": [
    "plot_confusion_matrix(xgb_pipe, x_train, y_train, \n",
    "                      display_labels= ['Written Off', 'Defaulted','Dimissed','In Violation'],\n",
    "                      normalize =\"pred\") "
   ]
  },
  {
   "cell_type": "code",
   "execution_count": null,
   "metadata": {},
   "outputs": [],
   "source": [
    "display_labels = ['Written Off', \n",
    "                  'Defaulted', \n",
    "                  'Dismissed',\n",
    "                  'In Violation']\n",
    "\n",
    "def print_cm_with_labels(y_true, \n",
    "                         y_pred, \n",
    "                         display_labels):\n",
    "    \n",
    "    \n",
    "    '''\n",
    "    Takes the true values and predicted values of a classifier and \n",
    "    plots a confusion matrix (normalized by predictions) using \n",
    "    a list of given display labels.\n",
    "    '''\n",
    "    "
   ]
  },
  {
   "cell_type": "code",
   "execution_count": 324,
   "metadata": {},
   "outputs": [
    {
     "ename": "ValueError",
     "evalue": "Classification metrics can't handle a mix of continuous-multioutput and multiclass targets",
     "output_type": "error",
     "traceback": [
      "\u001b[0;31m---------------------------------------------------------------------------\u001b[0m",
      "\u001b[0;31mValueError\u001b[0m                                Traceback (most recent call last)",
      "\u001b[0;32m<ipython-input-324-592e4e0fd1d1>\u001b[0m in \u001b[0;36m<module>\u001b[0;34m\u001b[0m\n\u001b[0;32m----> 1\u001b[0;31m cm = confusion_matrix(x_train, \n\u001b[0m\u001b[1;32m      2\u001b[0m                       \u001b[0my_train\u001b[0m\u001b[0;34m,\u001b[0m\u001b[0;34m\u001b[0m\u001b[0;34m\u001b[0m\u001b[0m\n\u001b[1;32m      3\u001b[0m                       normalize = 'pred')\n\u001b[1;32m      4\u001b[0m \u001b[0;34m\u001b[0m\u001b[0m\n\u001b[1;32m      5\u001b[0m \u001b[0mdisp\u001b[0m \u001b[0;34m=\u001b[0m \u001b[0mConfusionMatrixDisplay\u001b[0m\u001b[0;34m(\u001b[0m\u001b[0mconfusion_matrix\u001b[0m\u001b[0;34m=\u001b[0m\u001b[0mcm\u001b[0m\u001b[0;34m)\u001b[0m\u001b[0;34m\u001b[0m\u001b[0;34m\u001b[0m\u001b[0m\n",
      "\u001b[0;32m/opt/anaconda3/lib/python3.8/site-packages/sklearn/utils/validation.py\u001b[0m in \u001b[0;36minner_f\u001b[0;34m(*args, **kwargs)\u001b[0m\n\u001b[1;32m     61\u001b[0m             \u001b[0mextra_args\u001b[0m \u001b[0;34m=\u001b[0m \u001b[0mlen\u001b[0m\u001b[0;34m(\u001b[0m\u001b[0margs\u001b[0m\u001b[0;34m)\u001b[0m \u001b[0;34m-\u001b[0m \u001b[0mlen\u001b[0m\u001b[0;34m(\u001b[0m\u001b[0mall_args\u001b[0m\u001b[0;34m)\u001b[0m\u001b[0;34m\u001b[0m\u001b[0;34m\u001b[0m\u001b[0m\n\u001b[1;32m     62\u001b[0m             \u001b[0;32mif\u001b[0m \u001b[0mextra_args\u001b[0m \u001b[0;34m<=\u001b[0m \u001b[0;36m0\u001b[0m\u001b[0;34m:\u001b[0m\u001b[0;34m\u001b[0m\u001b[0;34m\u001b[0m\u001b[0m\n\u001b[0;32m---> 63\u001b[0;31m                 \u001b[0;32mreturn\u001b[0m \u001b[0mf\u001b[0m\u001b[0;34m(\u001b[0m\u001b[0;34m*\u001b[0m\u001b[0margs\u001b[0m\u001b[0;34m,\u001b[0m \u001b[0;34m**\u001b[0m\u001b[0mkwargs\u001b[0m\u001b[0;34m)\u001b[0m\u001b[0;34m\u001b[0m\u001b[0;34m\u001b[0m\u001b[0m\n\u001b[0m\u001b[1;32m     64\u001b[0m \u001b[0;34m\u001b[0m\u001b[0m\n\u001b[1;32m     65\u001b[0m             \u001b[0;31m# extra_args > 0\u001b[0m\u001b[0;34m\u001b[0m\u001b[0;34m\u001b[0m\u001b[0;34m\u001b[0m\u001b[0m\n",
      "\u001b[0;32m/opt/anaconda3/lib/python3.8/site-packages/sklearn/metrics/_classification.py\u001b[0m in \u001b[0;36mconfusion_matrix\u001b[0;34m(y_true, y_pred, labels, sample_weight, normalize)\u001b[0m\n\u001b[1;32m    294\u001b[0m \u001b[0;34m\u001b[0m\u001b[0m\n\u001b[1;32m    295\u001b[0m     \"\"\"\n\u001b[0;32m--> 296\u001b[0;31m     \u001b[0my_type\u001b[0m\u001b[0;34m,\u001b[0m \u001b[0my_true\u001b[0m\u001b[0;34m,\u001b[0m \u001b[0my_pred\u001b[0m \u001b[0;34m=\u001b[0m \u001b[0m_check_targets\u001b[0m\u001b[0;34m(\u001b[0m\u001b[0my_true\u001b[0m\u001b[0;34m,\u001b[0m \u001b[0my_pred\u001b[0m\u001b[0;34m)\u001b[0m\u001b[0;34m\u001b[0m\u001b[0;34m\u001b[0m\u001b[0m\n\u001b[0m\u001b[1;32m    297\u001b[0m     \u001b[0;32mif\u001b[0m \u001b[0my_type\u001b[0m \u001b[0;32mnot\u001b[0m \u001b[0;32min\u001b[0m \u001b[0;34m(\u001b[0m\u001b[0;34m\"binary\"\u001b[0m\u001b[0;34m,\u001b[0m \u001b[0;34m\"multiclass\"\u001b[0m\u001b[0;34m)\u001b[0m\u001b[0;34m:\u001b[0m\u001b[0;34m\u001b[0m\u001b[0;34m\u001b[0m\u001b[0m\n\u001b[1;32m    298\u001b[0m         \u001b[0;32mraise\u001b[0m \u001b[0mValueError\u001b[0m\u001b[0;34m(\u001b[0m\u001b[0;34m\"%s is not supported\"\u001b[0m \u001b[0;34m%\u001b[0m \u001b[0my_type\u001b[0m\u001b[0;34m)\u001b[0m\u001b[0;34m\u001b[0m\u001b[0;34m\u001b[0m\u001b[0m\n",
      "\u001b[0;32m/opt/anaconda3/lib/python3.8/site-packages/sklearn/metrics/_classification.py\u001b[0m in \u001b[0;36m_check_targets\u001b[0;34m(y_true, y_pred)\u001b[0m\n\u001b[1;32m     90\u001b[0m \u001b[0;34m\u001b[0m\u001b[0m\n\u001b[1;32m     91\u001b[0m     \u001b[0;32mif\u001b[0m \u001b[0mlen\u001b[0m\u001b[0;34m(\u001b[0m\u001b[0my_type\u001b[0m\u001b[0;34m)\u001b[0m \u001b[0;34m>\u001b[0m \u001b[0;36m1\u001b[0m\u001b[0;34m:\u001b[0m\u001b[0;34m\u001b[0m\u001b[0;34m\u001b[0m\u001b[0m\n\u001b[0;32m---> 92\u001b[0;31m         raise ValueError(\"Classification metrics can't handle a mix of {0} \"\n\u001b[0m\u001b[1;32m     93\u001b[0m                          \"and {1} targets\".format(type_true, type_pred))\n\u001b[1;32m     94\u001b[0m \u001b[0;34m\u001b[0m\u001b[0m\n",
      "\u001b[0;31mValueError\u001b[0m: Classification metrics can't handle a mix of continuous-multioutput and multiclass targets"
     ]
    }
   ],
   "source": [
    "cm = confusion_matrix(x_train, \n",
    "                      y_train, \n",
    "                      normalize = 'pred')\n",
    "\n",
    "disp = ConfusionMatrixDisplay(confusion_matrix=cm)\n",
    "\n",
    "fig, ax = plt.subplots(figsize=(6,6))\n",
    "disp.plot(ax=ax)\n",
    "ax.grid(False)\n",
    "disp.ax_.set_xticklabels(display_labels,rotation=45);"
   ]
  },
  {
   "cell_type": "code",
   "execution_count": null,
   "metadata": {},
   "outputs": [],
   "source": []
  },
  {
   "cell_type": "code",
   "execution_count": null,
   "metadata": {},
   "outputs": [],
   "source": []
  },
  {
   "cell_type": "code",
   "execution_count": null,
   "metadata": {},
   "outputs": [],
   "source": []
  },
  {
   "cell_type": "code",
   "execution_count": null,
   "metadata": {},
   "outputs": [],
   "source": [
    "boost_model = XGBClassifier(objective='ternary:logistic',\n",
    "    max_depth = 20,\n",
    "    min_child_weight = 0.5,\n",
    "    reg_alpha = 0)\n",
    "\n",
    "\n",
    "boost_model.fit(train_df, merged_train_df[\"Hearing Result\"])\n",
    "# print(\"fit model\")\n",
    "    \n",
    "y_hat = boost_model.predict(merged_train_df[\"Hearing Result\"])\n",
    "# print(\"predicted on model\")"
   ]
  },
  {
   "cell_type": "code",
   "execution_count": null,
   "metadata": {},
   "outputs": [],
   "source": []
  },
  {
   "cell_type": "code",
   "execution_count": null,
   "metadata": {},
   "outputs": [],
   "source": []
  }
 ],
 "metadata": {
  "kernelspec": {
   "display_name": "Python (learn-env)",
   "language": "python",
   "name": "learn-env"
  },
  "language_info": {
   "codemirror_mode": {
    "name": "ipython",
    "version": 3
   },
   "file_extension": ".py",
   "mimetype": "text/x-python",
   "name": "python",
   "nbconvert_exporter": "python",
   "pygments_lexer": "ipython3",
   "version": "3.8.8"
  }
 },
 "nbformat": 4,
 "nbformat_minor": 4
}
