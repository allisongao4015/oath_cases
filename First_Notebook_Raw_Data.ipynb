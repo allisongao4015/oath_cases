{
 "cells": [
  {
   "cell_type": "code",
   "execution_count": 1,
   "id": "3807fd3a",
   "metadata": {},
   "outputs": [],
   "source": [
    "import pandas as pd"
   ]
  },
  {
   "cell_type": "code",
   "execution_count": 2,
   "id": "0a6a25e9",
   "metadata": {},
   "outputs": [],
   "source": [
    "df = pd.read_csv(\"Data/NYPD_Only.csv\", low_memory = False)"
   ]
  },
  {
   "cell_type": "code",
   "execution_count": 3,
   "id": "c046d4e7",
   "metadata": {},
   "outputs": [
    {
     "data": {
      "text/html": [
       "<div>\n",
       "<style scoped>\n",
       "    .dataframe tbody tr th:only-of-type {\n",
       "        vertical-align: middle;\n",
       "    }\n",
       "\n",
       "    .dataframe tbody tr th {\n",
       "        vertical-align: top;\n",
       "    }\n",
       "\n",
       "    .dataframe thead th {\n",
       "        text-align: right;\n",
       "    }\n",
       "</style>\n",
       "<table border=\"1\" class=\"dataframe\">\n",
       "  <thead>\n",
       "    <tr style=\"text-align: right;\">\n",
       "      <th></th>\n",
       "      <th>Ticket Number</th>\n",
       "      <th>Violation Date</th>\n",
       "      <th>Violation Time</th>\n",
       "      <th>Issuing Agency</th>\n",
       "      <th>Respondent First Name</th>\n",
       "      <th>Respondent Last Name</th>\n",
       "      <th>Balance Due</th>\n",
       "      <th>Violation Location (Borough)</th>\n",
       "      <th>Violation Location (Block No.)</th>\n",
       "      <th>Violation Location (Lot No.)</th>\n",
       "      <th>...</th>\n",
       "      <th>Charge #8: Code Description</th>\n",
       "      <th>Charge #8: Infraction Amount</th>\n",
       "      <th>Charge #9: Code</th>\n",
       "      <th>Charge #9: Code Section</th>\n",
       "      <th>Charge #9: Code Description</th>\n",
       "      <th>Charge #9: Infraction Amount</th>\n",
       "      <th>Charge #10: Code</th>\n",
       "      <th>Charge #10: Code Section</th>\n",
       "      <th>Charge #10: Code Description</th>\n",
       "      <th>Charge #10: Infraction Amount</th>\n",
       "    </tr>\n",
       "  </thead>\n",
       "  <tbody>\n",
       "    <tr>\n",
       "      <th>0</th>\n",
       "      <td>0198948842</td>\n",
       "      <td>02/13/2020</td>\n",
       "      <td>03:15:00</td>\n",
       "      <td>POLICE DEPARTMENT</td>\n",
       "      <td>JUAN</td>\n",
       "      <td>FLORES</td>\n",
       "      <td>112.0</td>\n",
       "      <td>QUEENS</td>\n",
       "      <td>1769.0</td>\n",
       "      <td>55.0</td>\n",
       "      <td>...</td>\n",
       "      <td>NaN</td>\n",
       "      <td>NaN</td>\n",
       "      <td>NaN</td>\n",
       "      <td>NaN</td>\n",
       "      <td>NaN</td>\n",
       "      <td>NaN</td>\n",
       "      <td>NaN</td>\n",
       "      <td>NaN</td>\n",
       "      <td>NaN</td>\n",
       "      <td>NaN</td>\n",
       "    </tr>\n",
       "    <tr>\n",
       "      <th>1</th>\n",
       "      <td>0198984253</td>\n",
       "      <td>02/12/2020</td>\n",
       "      <td>22:45:00</td>\n",
       "      <td>POLICE DEPARTMENT</td>\n",
       "      <td>ERIC A</td>\n",
       "      <td>NICASIO</td>\n",
       "      <td>112.0</td>\n",
       "      <td>QUEENS</td>\n",
       "      <td>NaN</td>\n",
       "      <td>NaN</td>\n",
       "      <td>...</td>\n",
       "      <td>NaN</td>\n",
       "      <td>NaN</td>\n",
       "      <td>NaN</td>\n",
       "      <td>NaN</td>\n",
       "      <td>NaN</td>\n",
       "      <td>NaN</td>\n",
       "      <td>NaN</td>\n",
       "      <td>NaN</td>\n",
       "      <td>NaN</td>\n",
       "      <td>NaN</td>\n",
       "    </tr>\n",
       "    <tr>\n",
       "      <th>2</th>\n",
       "      <td>0199274121</td>\n",
       "      <td>02/10/2020</td>\n",
       "      <td>23:15:00</td>\n",
       "      <td>POLICE DEPARTMENT</td>\n",
       "      <td>ELIAS</td>\n",
       "      <td>SULUSA</td>\n",
       "      <td>25.0</td>\n",
       "      <td>QUEENS</td>\n",
       "      <td>1482.0</td>\n",
       "      <td>11.0</td>\n",
       "      <td>...</td>\n",
       "      <td>NaN</td>\n",
       "      <td>NaN</td>\n",
       "      <td>NaN</td>\n",
       "      <td>NaN</td>\n",
       "      <td>NaN</td>\n",
       "      <td>NaN</td>\n",
       "      <td>NaN</td>\n",
       "      <td>NaN</td>\n",
       "      <td>NaN</td>\n",
       "      <td>NaN</td>\n",
       "    </tr>\n",
       "    <tr>\n",
       "      <th>3</th>\n",
       "      <td>0199009773</td>\n",
       "      <td>02/11/2020</td>\n",
       "      <td>19:33:00</td>\n",
       "      <td>POLICE DEPARTMENT</td>\n",
       "      <td>YOON S</td>\n",
       "      <td>CHO</td>\n",
       "      <td>0.0</td>\n",
       "      <td>QUEENS</td>\n",
       "      <td>NaN</td>\n",
       "      <td>NaN</td>\n",
       "      <td>...</td>\n",
       "      <td>NaN</td>\n",
       "      <td>NaN</td>\n",
       "      <td>NaN</td>\n",
       "      <td>NaN</td>\n",
       "      <td>NaN</td>\n",
       "      <td>NaN</td>\n",
       "      <td>NaN</td>\n",
       "      <td>NaN</td>\n",
       "      <td>NaN</td>\n",
       "      <td>NaN</td>\n",
       "    </tr>\n",
       "    <tr>\n",
       "      <th>4</th>\n",
       "      <td>0199417525</td>\n",
       "      <td>12/30/2019</td>\n",
       "      <td>17:25:00</td>\n",
       "      <td>POLICE DEPARTMENT</td>\n",
       "      <td>STAVROULA</td>\n",
       "      <td>KOKKOROS</td>\n",
       "      <td>0.0</td>\n",
       "      <td>QUEENS</td>\n",
       "      <td>NaN</td>\n",
       "      <td>NaN</td>\n",
       "      <td>...</td>\n",
       "      <td>NaN</td>\n",
       "      <td>NaN</td>\n",
       "      <td>NaN</td>\n",
       "      <td>NaN</td>\n",
       "      <td>NaN</td>\n",
       "      <td>NaN</td>\n",
       "      <td>NaN</td>\n",
       "      <td>NaN</td>\n",
       "      <td>NaN</td>\n",
       "      <td>NaN</td>\n",
       "    </tr>\n",
       "  </tbody>\n",
       "</table>\n",
       "<p>5 rows × 78 columns</p>\n",
       "</div>"
      ],
      "text/plain": [
       "  Ticket Number Violation Date Violation Time     Issuing Agency  \\\n",
       "0    0198948842     02/13/2020       03:15:00  POLICE DEPARTMENT   \n",
       "1    0198984253     02/12/2020       22:45:00  POLICE DEPARTMENT   \n",
       "2    0199274121     02/10/2020       23:15:00  POLICE DEPARTMENT   \n",
       "3    0199009773     02/11/2020       19:33:00  POLICE DEPARTMENT   \n",
       "4    0199417525     12/30/2019       17:25:00  POLICE DEPARTMENT   \n",
       "\n",
       "  Respondent First Name Respondent Last Name  Balance Due  \\\n",
       "0                  JUAN               FLORES        112.0   \n",
       "1                ERIC A              NICASIO        112.0   \n",
       "2                 ELIAS               SULUSA         25.0   \n",
       "3                YOON S                  CHO          0.0   \n",
       "4             STAVROULA             KOKKOROS          0.0   \n",
       "\n",
       "  Violation Location (Borough)  Violation Location (Block No.)  \\\n",
       "0                       QUEENS                          1769.0   \n",
       "1                       QUEENS                             NaN   \n",
       "2                       QUEENS                          1482.0   \n",
       "3                       QUEENS                             NaN   \n",
       "4                       QUEENS                             NaN   \n",
       "\n",
       "   Violation Location (Lot No.)  ... Charge #8: Code Description  \\\n",
       "0                          55.0  ...                         NaN   \n",
       "1                           NaN  ...                         NaN   \n",
       "2                          11.0  ...                         NaN   \n",
       "3                           NaN  ...                         NaN   \n",
       "4                           NaN  ...                         NaN   \n",
       "\n",
       "  Charge #8: Infraction Amount  Charge #9: Code Charge #9: Code Section  \\\n",
       "0                          NaN              NaN                     NaN   \n",
       "1                          NaN              NaN                     NaN   \n",
       "2                          NaN              NaN                     NaN   \n",
       "3                          NaN              NaN                     NaN   \n",
       "4                          NaN              NaN                     NaN   \n",
       "\n",
       "  Charge #9: Code Description Charge #9: Infraction Amount Charge #10: Code  \\\n",
       "0                         NaN                          NaN              NaN   \n",
       "1                         NaN                          NaN              NaN   \n",
       "2                         NaN                          NaN              NaN   \n",
       "3                         NaN                          NaN              NaN   \n",
       "4                         NaN                          NaN              NaN   \n",
       "\n",
       "  Charge #10: Code Section Charge #10: Code Description  \\\n",
       "0                      NaN                          NaN   \n",
       "1                      NaN                          NaN   \n",
       "2                      NaN                          NaN   \n",
       "3                      NaN                          NaN   \n",
       "4                      NaN                          NaN   \n",
       "\n",
       "  Charge #10: Infraction Amount  \n",
       "0                           NaN  \n",
       "1                           NaN  \n",
       "2                           NaN  \n",
       "3                           NaN  \n",
       "4                           NaN  \n",
       "\n",
       "[5 rows x 78 columns]"
      ]
     },
     "execution_count": 3,
     "metadata": {},
     "output_type": "execute_result"
    }
   ],
   "source": [
    "df.head(5)"
   ]
  },
  {
   "cell_type": "code",
   "execution_count": 4,
   "id": "419243b8",
   "metadata": {},
   "outputs": [
    {
     "data": {
      "text/plain": [
       "(766394, 78)"
      ]
     },
     "execution_count": 4,
     "metadata": {},
     "output_type": "execute_result"
    }
   ],
   "source": [
    "df.shape"
   ]
  },
  {
   "cell_type": "code",
   "execution_count": 5,
   "id": "a126699a",
   "metadata": {
    "scrolled": true
   },
   "outputs": [
    {
     "name": "stdout",
     "output_type": "stream",
     "text": [
      "<class 'pandas.core.frame.DataFrame'>\n",
      "RangeIndex: 766394 entries, 0 to 766393\n",
      "Data columns (total 78 columns):\n",
      " #   Column                                                           Non-Null Count   Dtype  \n",
      "---  ------                                                           --------------   -----  \n",
      " 0   Ticket Number                                                    766394 non-null  object \n",
      " 1   Violation Date                                                   763596 non-null  object \n",
      " 2   Violation Time                                                   764415 non-null  object \n",
      " 3   Issuing Agency                                                   766394 non-null  object \n",
      " 4   Respondent First Name                                            498874 non-null  object \n",
      " 5   Respondent Last Name                                             762112 non-null  object \n",
      " 6   Balance Due                                                      313916 non-null  float64\n",
      " 7   Violation Location (Borough)                                     765579 non-null  object \n",
      " 8   Violation Location (Block No.)                                   377615 non-null  float64\n",
      " 9   Violation Location (Lot No.)                                     377629 non-null  float64\n",
      " 10  Violation Location (House #)                                     457559 non-null  object \n",
      " 11  Violation Location (Street Name)                                 753845 non-null  object \n",
      " 12  Violation Location (Floor)                                       0 non-null       float64\n",
      " 13  Violation Location (City)                                        723377 non-null  object \n",
      " 14  Violation Location (Zip Code)                                    414736 non-null  object \n",
      " 15  Violation Location (State Name)                                  752034 non-null  object \n",
      " 16  Respondent Address (Borough)                                     753927 non-null  object \n",
      " 17  Respondent Address (House #)                                     750456 non-null  object \n",
      " 18  Respondent Address (Street Name)                                 760184 non-null  object \n",
      " 19  Respondent Address (City)                                        747993 non-null  object \n",
      " 20  Respondent Address (Zip Code)                                    717269 non-null  object \n",
      " 21  Respondent Address (State Name)                                  746124 non-null  object \n",
      " 22  Hearing Status                                                   764423 non-null  object \n",
      " 23  Hearing Result                                                   611757 non-null  object \n",
      " 24  Scheduled Hearing Location                                       727262 non-null  object \n",
      " 25  Hearing Date                                                     764957 non-null  object \n",
      " 26  Hearing Time                                                     764425 non-null  object \n",
      " 27  Decision Location (Borough)                                      222247 non-null  object \n",
      " 28  Decision Date                                                    672801 non-null  object \n",
      " 29  Total Violation Amount                                           764943 non-null  float64\n",
      " 30  Violation Details                                                719924 non-null  object \n",
      " 31  Date Judgment Docketed                                           148289 non-null  object \n",
      " 32  Respondent Address or Facility Number(For FDNY and DOB Tickets)  151678 non-null  object \n",
      " 33  Penalty Imposed                                                  695603 non-null  float64\n",
      " 34  Paid Amount                                                      485961 non-null  float64\n",
      " 35  Additional Penalties or Late Fees                                328183 non-null  float64\n",
      " 36  Compliance Status                                                626928 non-null  object \n",
      " 37  Violation Description                                            0 non-null       float64\n",
      " 38  Charge #1: Code                                                  757002 non-null  object \n",
      " 39  Charge #1: Code Section                                          756602 non-null  object \n",
      " 40  Charge #1: Code Description                                      754850 non-null  object \n",
      " 41  Charge #1: Infraction Amount                                     763689 non-null  float64\n",
      " 42  Charge #2: Code                                                  8258 non-null    object \n",
      " 43  Charge #2: Code Section                                          8240 non-null    object \n",
      " 44  Charge #2: Code Description                                      7925 non-null    object \n",
      " 45  Charge #2: Infraction Amount                                     19994 non-null   float64\n",
      " 46  Charge #3: Code                                                  358 non-null     object \n",
      " 47  Charge #3: Code Section                                          356 non-null     object \n",
      " 48  Charge #3: Code Description                                      65 non-null      object \n",
      " 49  Charge #3: Infraction Amount                                     403 non-null     float64\n",
      " 50  Charge #4: Code                                                  246 non-null     object \n",
      " 51  Charge #4: Code Section                                          246 non-null     object \n",
      " 52  Charge #4: Code Description                                      0 non-null       float64\n",
      " 53  Charge #4: Infraction Amount                                     246 non-null     float64\n",
      " 54  Charge #5: Code                                                  190 non-null     object \n",
      " 55  Charge #5: Code Section                                          190 non-null     object \n",
      " 56  Charge #5: Code Description                                      0 non-null       float64\n",
      " 57  Charge #5: Infraction Amount                                     190 non-null     float64\n",
      " 58  Charge #6: Code                                                  162 non-null     object \n",
      " 59  Charge #6: Code Section                                          162 non-null     object \n",
      " 60  Charge #6: Code Description                                      0 non-null       float64\n",
      " 61  Charge #6: Infraction Amount                                     162 non-null     float64\n",
      " 62  Charge #7: Code                                                  138 non-null     object \n",
      " 63  Charge #7: Code Section                                          138 non-null     object \n",
      " 64  Charge #7: Code Description                                      0 non-null       float64\n",
      " 65  Charge #7: Infraction Amount                                     138 non-null     float64\n",
      " 66  Charge #8: Code                                                  109 non-null     object \n",
      " 67  Charge #8: Code Section                                          109 non-null     object \n",
      " 68  Charge #8: Code Description                                      0 non-null       float64\n",
      " 69  Charge #8: Infraction Amount                                     109 non-null     float64\n",
      " 70  Charge #9: Code                                                  99 non-null      object \n",
      " 71  Charge #9: Code Section                                          99 non-null      object \n",
      " 72  Charge #9: Code Description                                      0 non-null       float64\n",
      " 73  Charge #9: Infraction Amount                                     99 non-null      float64\n",
      " 74  Charge #10: Code                                                 71 non-null      object \n",
      " 75  Charge #10: Code Section                                         71 non-null      object \n",
      " 76  Charge #10: Code Description                                     0 non-null       float64\n",
      " 77  Charge #10: Infraction Amount                                    71 non-null      float64\n",
      "dtypes: float64(26), object(52)\n",
      "memory usage: 456.1+ MB\n"
     ]
    }
   ],
   "source": [
    "df.info()"
   ]
  },
  {
   "cell_type": "code",
   "execution_count": 62,
   "id": "1e8b8d49",
   "metadata": {},
   "outputs": [
    {
     "name": "stdout",
     "output_type": "stream",
     "text": [
      "Oldest ticket from the dataset is on 1963-02-09 00:00:00\n",
      "Latest ticket from the dataset is on 2021-09-11 00:00:00\n"
     ]
    }
   ],
   "source": [
    "# set it to datetime to check for min and max \n",
    "df[\"Violation Date\"] = pd.to_datetime(df[\"Violation Date\"])\n",
    "\n",
    "print(\"Oldest ticket from the dataset is on {}\".format(df[\"Violation Date\"].min()))\n",
    "print(\"Latest ticket from the dataset is on {}\".format(df[\"Violation Date\"].max()))"
   ]
  },
  {
   "cell_type": "markdown",
   "id": "3693e827",
   "metadata": {},
   "source": [
    "# Identify the target variable \"Hearing Result\" and drop nulls and relable. "
   ]
  },
  {
   "cell_type": "code",
   "execution_count": 6,
   "id": "b05f691d",
   "metadata": {},
   "outputs": [],
   "source": [
    "df.dropna(subset=[\"Hearing Result\"], inplace=True)"
   ]
  },
  {
   "cell_type": "code",
   "execution_count": 7,
   "id": "9d04e984",
   "metadata": {},
   "outputs": [
    {
     "data": {
      "text/plain": [
       "(611757, 78)"
      ]
     },
     "execution_count": 7,
     "metadata": {},
     "output_type": "execute_result"
    }
   ],
   "source": [
    "df.shape"
   ]
  },
  {
   "cell_type": "code",
   "execution_count": 8,
   "id": "9a12206f",
   "metadata": {},
   "outputs": [
    {
     "data": {
      "text/plain": [
       "WRITTEN OFF     263475\n",
       "DEFAULTED       120361\n",
       "DISMISSED       109692\n",
       "IN VIOLATION     85387\n",
       "DEFAULT          21334\n",
       "SETTL IN-VIO     10815\n",
       "ADJOURNED          411\n",
       "POP IN-VIOL        123\n",
       "POP/IN-VIOL        117\n",
       "NONE                24\n",
       "STIPULATED          11\n",
       "COSRV INVIO          7\n",
       "Name: Hearing Result, dtype: int64"
      ]
     },
     "execution_count": 8,
     "metadata": {},
     "output_type": "execute_result"
    }
   ],
   "source": [
    "df[\"Hearing Result\"].value_counts()"
   ]
  },
  {
   "cell_type": "code",
   "execution_count": 9,
   "id": "ec5ab95d",
   "metadata": {},
   "outputs": [],
   "source": [
    "df[\"Hearing Result\"].replace({\"POP IN-VIOL\": \"IN VIOLATION\", \n",
    "                              \"POP/IN-VIOL\": \"IN VIOLATION\", \n",
    "                              \"SETTL IN-VIO\": \"IN VIOLATION\",\n",
    "                              \"COSRV INVIO\": \"IN VIOLATION\",\n",
    "                              \"DEFAULT\": \"DEFAULTED\"}, inplace=True)"
   ]
  },
  {
   "cell_type": "code",
   "execution_count": 10,
   "id": "03f4bb7d",
   "metadata": {},
   "outputs": [],
   "source": [
    "df = df.loc[(df[\"Hearing Result\"] != \"NONE\") & (df[\"Hearing Result\"] != \"ADJOURNED\") & (df[\"Hearing Result\"] != \"STIPULATED\")]"
   ]
  },
  {
   "cell_type": "code",
   "execution_count": 11,
   "id": "417602f5",
   "metadata": {},
   "outputs": [
    {
     "data": {
      "text/plain": [
       "WRITTEN OFF     263475\n",
       "DEFAULTED       141695\n",
       "DISMISSED       109692\n",
       "IN VIOLATION     96449\n",
       "Name: Hearing Result, dtype: int64"
      ]
     },
     "execution_count": 11,
     "metadata": {},
     "output_type": "execute_result"
    }
   ],
   "source": [
    "df[\"Hearing Result\"].value_counts()"
   ]
  },
  {
   "cell_type": "code",
   "execution_count": 12,
   "id": "3738ca50",
   "metadata": {},
   "outputs": [],
   "source": [
    "df['Hearing Result'] = df['Hearing Result'].map({'WRITTEN OFF': 0,\n",
    "                                     'DEFAULTED': 1,\n",
    "                                     'DISMISSED': 2,\n",
    "                                     'IN VIOLATION': 3,})"
   ]
  },
  {
   "cell_type": "code",
   "execution_count": 13,
   "id": "ccff8fca",
   "metadata": {},
   "outputs": [
    {
     "data": {
      "text/plain": [
       "(611311, 78)"
      ]
     },
     "execution_count": 13,
     "metadata": {},
     "output_type": "execute_result"
    }
   ],
   "source": [
    "df.shape"
   ]
  },
  {
   "cell_type": "markdown",
   "id": "19c6dcdd",
   "metadata": {},
   "source": [
    "## EDA and Cleaning Columns\n",
    "\n",
    "only want to focus on respondents whose address is in New York because I will merge this dataframe with neighborhood data later on."
   ]
  },
  {
   "cell_type": "code",
   "execution_count": 14,
   "id": "79fcf544",
   "metadata": {
    "scrolled": true
   },
   "outputs": [
    {
     "data": {
      "text/plain": [
       "NEW YORK               568515\n",
       "NEW JERSEY              20209\n",
       "PENNSYLVANIA             1194\n",
       "FLORIDA                   920\n",
       "CONNECTICUT               694\n",
       "MASSACHUSETTS             537\n",
       "NORTH CAROLINA            358\n",
       "VIRGINIA                  281\n",
       "MARYLAND                  280\n",
       "CALIFORNIA                238\n",
       "GEORGIA                   178\n",
       "ILLINOIS                  177\n",
       "SOUTH CAROLINA            163\n",
       "WASHINGTON                144\n",
       "TEXAS                     138\n",
       "MISSOURI                  111\n",
       "OHIO                      108\n",
       "RHODE ISLAND              107\n",
       "MICHIGAN                  101\n",
       "OTHER                      56\n",
       "DELAWARE                   54\n",
       "TENNESSEE                  45\n",
       "OKLAHOMA                   42\n",
       "ALABAMA                    40\n",
       "LOUISIANA                  36\n",
       "DIST COLUMBIA              34\n",
       "NEBRASKA                   31\n",
       "ARIZONA                    29\n",
       "COLORADO                   28\n",
       "MAINE                      25\n",
       "OREGON                     23\n",
       "INDIANA                    21\n",
       "KENTUCKY                   20\n",
       "WISCONSIN                  20\n",
       "NEVADA                     19\n",
       "NEW HAMPSHIRE              19\n",
       "MINNESOTA                  17\n",
       "NEW MEXICO                 13\n",
       "VERMONT                    13\n",
       "MISSISSIPPI                12\n",
       "UTAH                       10\n",
       "IOWA                       10\n",
       "PUERTO RICO                10\n",
       "ALASKA                      7\n",
       "KANSAS                      6\n",
       "WEST VIRGINIA               5\n",
       "HAWAII                      5\n",
       "WYOMING                     4\n",
       "VIRGIN ISLANDS              4\n",
       "MONTANA                     3\n",
       "NORTH DAKOTA                3\n",
       "ARMED FORCES AFRICA         2\n",
       "ARKANSAS                    2\n",
       "AMED FORCES PACIFIC         1\n",
       "IDAHO                       1\n",
       "SOUTH DAKOTA                1\n",
       "Name: Respondent Address (State Name), dtype: int64"
      ]
     },
     "execution_count": 14,
     "metadata": {},
     "output_type": "execute_result"
    }
   ],
   "source": [
    "df[\"Respondent Address (State Name)\"].value_counts()"
   ]
  },
  {
   "cell_type": "code",
   "execution_count": 15,
   "id": "0feecd99",
   "metadata": {},
   "outputs": [],
   "source": [
    "df = df.loc[(df[\"Respondent Address (State Name)\"] == \"NEW YORK\")]"
   ]
  },
  {
   "cell_type": "markdown",
   "id": "63b2282c",
   "metadata": {},
   "source": [
    "## drop columns that contain all null values"
   ]
  },
  {
   "cell_type": "code",
   "execution_count": 29,
   "id": "ad322835",
   "metadata": {},
   "outputs": [],
   "source": [
    "column_list = list(df.columns)"
   ]
  },
  {
   "cell_type": "code",
   "execution_count": 30,
   "id": "c9a2e7ce",
   "metadata": {},
   "outputs": [],
   "source": [
    "empty_columns = []\n",
    "\n",
    "for x in column_list:\n",
    "\n",
    "    if df[x].isnull().all() == True:\n",
    "        empty_columns.append(x)\n",
    "\n",
    "df.drop(empty_columns, axis = 1, inplace=True)"
   ]
  },
  {
   "cell_type": "code",
   "execution_count": 31,
   "id": "c2f20aac",
   "metadata": {},
   "outputs": [
    {
     "data": {
      "text/plain": [
       "(568515, 48)"
      ]
     },
     "execution_count": 31,
     "metadata": {},
     "output_type": "execute_result"
    }
   ],
   "source": [
    "df.shape"
   ]
  },
  {
   "cell_type": "code",
   "execution_count": 32,
   "id": "ee19be28",
   "metadata": {},
   "outputs": [
    {
     "data": {
      "text/plain": [
       "Index(['Ticket Number', 'Violation Date', 'Violation Time', 'Issuing Agency',\n",
       "       'Respondent First Name', 'Respondent Last Name', 'Balance Due',\n",
       "       'Violation Location (Borough)', 'Violation Location (Block No.)',\n",
       "       'Violation Location (Lot No.)', 'Violation Location (House #)',\n",
       "       'Violation Location (Street Name)', 'Violation Location (City)',\n",
       "       'Violation Location (Zip Code)', 'Violation Location (State Name)',\n",
       "       'Respondent Address (Borough)', 'Respondent Address (House #)',\n",
       "       'Respondent Address (Street Name)', 'Respondent Address (City)',\n",
       "       'Respondent Address (Zip Code)', 'Respondent Address (State Name)',\n",
       "       'Hearing Status', 'Hearing Result', 'Scheduled Hearing Location',\n",
       "       'Hearing Date', 'Hearing Time', 'Decision Location (Borough)',\n",
       "       'Decision Date', 'Total Violation Amount', 'Violation Details',\n",
       "       'Date Judgment Docketed',\n",
       "       'Respondent Address or Facility Number(For FDNY and DOB Tickets)',\n",
       "       'Penalty Imposed', 'Paid Amount', 'Additional Penalties or Late Fees',\n",
       "       'Compliance Status', 'Charge #1: Code', 'Charge #1: Code Section',\n",
       "       'Charge #1: Code Description', 'Charge #1: Infraction Amount',\n",
       "       'Charge #2: Code', 'Charge #2: Code Section',\n",
       "       'Charge #2: Code Description', 'Charge #2: Infraction Amount',\n",
       "       'Charge #3: Code', 'Charge #3: Code Section',\n",
       "       'Charge #3: Code Description', 'Charge #3: Infraction Amount'],\n",
       "      dtype='object')"
      ]
     },
     "execution_count": 32,
     "metadata": {},
     "output_type": "execute_result"
    }
   ],
   "source": [
    "df.columns"
   ]
  },
  {
   "cell_type": "code",
   "execution_count": 37,
   "id": "72a742e9",
   "metadata": {},
   "outputs": [
    {
     "data": {
      "text/plain": [
       "(568515, 35)"
      ]
     },
     "execution_count": 37,
     "metadata": {},
     "output_type": "execute_result"
    }
   ],
   "source": [
    "columns_to_drop = ['Violation Time','Balance Due',\n",
    "       'Hearing Status','Scheduled Hearing Location',\n",
    "       'Hearing Date', 'Hearing Time',\n",
    "       'Decision Date', 'Total Violation Amount', 'Violation Details',\n",
    "       'Date Judgment Docketed',\n",
    "       'Respondent Address or Facility Number(For FDNY and DOB Tickets)',\n",
    "        'Additional Penalties or Late Fees',\n",
    "       'Compliance Status']\n",
    "\n",
    "df.drop(columns_to_drop, axis = 1, inplace=True)\n",
    "df.shape"
   ]
  },
  {
   "cell_type": "code",
   "execution_count": 19,
   "id": "d0cf3144",
   "metadata": {},
   "outputs": [],
   "source": [
    "# pd.options.display.max_colwidth = 1000000\n",
    "# pd.set_option('display.max_columns', 2000000000)\n",
    "# pd.set_option('display.max_rows', 1000000000)\n",
    "# pd.set_option('display.expand_frame_repr', True)"
   ]
  },
  {
   "cell_type": "markdown",
   "id": "9252b68a",
   "metadata": {},
   "source": [
    "### Feature enginnering the violation location and respondent's address column"
   ]
  },
  {
   "cell_type": "code",
   "execution_count": 43,
   "id": "008f2b5a",
   "metadata": {},
   "outputs": [],
   "source": [
    "df.dropna(subset=[\"Violation Location (Zip Code)\"], inplace=True)\n",
    "df.dropna(subset=[\"Respondent Address (Zip Code)\"], inplace=True)"
   ]
  },
  {
   "cell_type": "code",
   "execution_count": 45,
   "id": "11024d66",
   "metadata": {},
   "outputs": [],
   "source": [
    "viol_cols = ['Violation Location (Borough)', 'Violation Location (Block No.)',\n",
    "       'Violation Location (Lot No.)', 'Violation Location (House #)',\n",
    "       'Violation Location (Street Name)',\n",
    "       'Violation Location (City)', 'Violation Location (Zip Code)',\n",
    "       'Violation Location (State Name)']\n",
    "\n",
    "\n",
    "resp_cols = ['Respondent Address (Borough)',\n",
    "       'Respondent Address (House #)', 'Respondent Address (Street Name)',\n",
    "       'Respondent Address (City)', 'Respondent Address (Zip Code)',\n",
    "       'Respondent Address (State Name)']\n",
    "\n",
    "\n",
    "\n",
    "df['complete violation location'] = df[viol_cols].apply(lambda row: ' '.join(row.values.astype(str)), axis=1)\n",
    "df['complete violation location'] = df['complete violation location'].map(lambda x: x.replace(\"nan\", ''))\n",
    "\n",
    "\n",
    "df['complete respondent location'] = df[resp_cols].apply(lambda row: ' '.join(row.values.astype(str)), axis=1)\n",
    "df['complete respondent location'] = df['complete respondent location'].map(lambda x: x.replace(\"nan\", ''))"
   ]
  },
  {
   "cell_type": "code",
   "execution_count": 51,
   "id": "980e879a",
   "metadata": {},
   "outputs": [
    {
     "name": "stdout",
     "output_type": "stream",
     "text": [
      "Violation Location (Zip Code) has 0 nulls\n",
      "Respondent Address (Zip Code) has 0 nulls\n"
     ]
    }
   ],
   "source": [
    "print(\"Violation Location (Zip Code) has {} nulls\".format(df['Violation Location (Zip Code)'].isnull().sum()))\n",
    "print(\"Respondent Address (Zip Code) has {} nulls\".format(df['Respondent Address (Zip Code)'].isnull().sum()))"
   ]
  },
  {
   "cell_type": "code",
   "execution_count": 52,
   "id": "8b1fba1a",
   "metadata": {},
   "outputs": [
    {
     "data": {
      "text/plain": [
       "(284325, 37)"
      ]
     },
     "execution_count": 52,
     "metadata": {},
     "output_type": "execute_result"
    }
   ],
   "source": [
    "df.shape"
   ]
  },
  {
   "cell_type": "code",
   "execution_count": 57,
   "id": "2e6ab8f5",
   "metadata": {},
   "outputs": [
    {
     "data": {
      "text/plain": [
       "0"
      ]
     },
     "execution_count": 57,
     "metadata": {},
     "output_type": "execute_result"
    }
   ],
   "source": [
    "\n",
    "df[\"complete violation location\"].isnull().sum()"
   ]
  },
  {
   "cell_type": "markdown",
   "id": "67318d8f",
   "metadata": {},
   "source": [
    "# now that the dataframe is cut down, I will save it as a new dataframe to do more work for faster analysis"
   ]
  },
  {
   "cell_type": "code",
   "execution_count": 55,
   "id": "59eebb8b",
   "metadata": {},
   "outputs": [],
   "source": [
    "df.to_csv('cleaned_dataframe.csv')"
   ]
  },
  {
   "cell_type": "code",
   "execution_count": null,
   "id": "f483568d",
   "metadata": {},
   "outputs": [],
   "source": []
  }
 ],
 "metadata": {
  "kernelspec": {
   "display_name": "conda_python3",
   "language": "python",
   "name": "conda_python3"
  },
  "language_info": {
   "codemirror_mode": {
    "name": "ipython",
    "version": 3
   },
   "file_extension": ".py",
   "mimetype": "text/x-python",
   "name": "python",
   "nbconvert_exporter": "python",
   "pygments_lexer": "ipython3",
   "version": "3.6.13"
  }
 },
 "nbformat": 4,
 "nbformat_minor": 5
}
