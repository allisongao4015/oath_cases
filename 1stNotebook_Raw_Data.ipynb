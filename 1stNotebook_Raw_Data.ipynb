{
 "cells": [
  {
   "cell_type": "code",
   "execution_count": 21,
   "metadata": {},
   "outputs": [],
   "source": [
    "import pandas as pd\n",
    "from sklearn.model_selection import train_test_split"
   ]
  },
  {
   "cell_type": "code",
   "execution_count": 22,
   "metadata": {},
   "outputs": [],
   "source": [
    "df = pd.read_csv(\"pol_only.csv\", low_memory = False)\n"
   ]
  },
  {
   "cell_type": "code",
   "execution_count": 23,
   "metadata": {},
   "outputs": [
    {
     "data": {
      "text/html": [
       "<div>\n",
       "<style scoped>\n",
       "    .dataframe tbody tr th:only-of-type {\n",
       "        vertical-align: middle;\n",
       "    }\n",
       "\n",
       "    .dataframe tbody tr th {\n",
       "        vertical-align: top;\n",
       "    }\n",
       "\n",
       "    .dataframe thead th {\n",
       "        text-align: right;\n",
       "    }\n",
       "</style>\n",
       "<table border=\"1\" class=\"dataframe\">\n",
       "  <thead>\n",
       "    <tr style=\"text-align: right;\">\n",
       "      <th></th>\n",
       "      <th>Ticket Number</th>\n",
       "      <th>Violation Date</th>\n",
       "      <th>Violation Time</th>\n",
       "      <th>Issuing Agency</th>\n",
       "      <th>Respondent First Name</th>\n",
       "      <th>Respondent Last Name</th>\n",
       "      <th>Balance Due</th>\n",
       "      <th>Violation Location (Borough)</th>\n",
       "      <th>Violation Location (Block No.)</th>\n",
       "      <th>Violation Location (Lot No.)</th>\n",
       "      <th>...</th>\n",
       "      <th>Charge #8: Code Description</th>\n",
       "      <th>Charge #8: Infraction Amount</th>\n",
       "      <th>Charge #9: Code</th>\n",
       "      <th>Charge #9: Code Section</th>\n",
       "      <th>Charge #9: Code Description</th>\n",
       "      <th>Charge #9: Infraction Amount</th>\n",
       "      <th>Charge #10: Code</th>\n",
       "      <th>Charge #10: Code Section</th>\n",
       "      <th>Charge #10: Code Description</th>\n",
       "      <th>Charge #10: Infraction Amount</th>\n",
       "    </tr>\n",
       "  </thead>\n",
       "  <tbody>\n",
       "    <tr>\n",
       "      <th>0</th>\n",
       "      <td>0198948842</td>\n",
       "      <td>02/13/2020</td>\n",
       "      <td>03:15:00</td>\n",
       "      <td>POLICE DEPARTMENT</td>\n",
       "      <td>JUAN</td>\n",
       "      <td>FLORES</td>\n",
       "      <td>112.0</td>\n",
       "      <td>QUEENS</td>\n",
       "      <td>1769.0</td>\n",
       "      <td>55.0</td>\n",
       "      <td>...</td>\n",
       "      <td>NaN</td>\n",
       "      <td>NaN</td>\n",
       "      <td>NaN</td>\n",
       "      <td>NaN</td>\n",
       "      <td>NaN</td>\n",
       "      <td>NaN</td>\n",
       "      <td>NaN</td>\n",
       "      <td>NaN</td>\n",
       "      <td>NaN</td>\n",
       "      <td>NaN</td>\n",
       "    </tr>\n",
       "    <tr>\n",
       "      <th>1</th>\n",
       "      <td>0198984253</td>\n",
       "      <td>02/12/2020</td>\n",
       "      <td>22:45:00</td>\n",
       "      <td>POLICE DEPARTMENT</td>\n",
       "      <td>ERIC A</td>\n",
       "      <td>NICASIO</td>\n",
       "      <td>112.0</td>\n",
       "      <td>QUEENS</td>\n",
       "      <td>NaN</td>\n",
       "      <td>NaN</td>\n",
       "      <td>...</td>\n",
       "      <td>NaN</td>\n",
       "      <td>NaN</td>\n",
       "      <td>NaN</td>\n",
       "      <td>NaN</td>\n",
       "      <td>NaN</td>\n",
       "      <td>NaN</td>\n",
       "      <td>NaN</td>\n",
       "      <td>NaN</td>\n",
       "      <td>NaN</td>\n",
       "      <td>NaN</td>\n",
       "    </tr>\n",
       "    <tr>\n",
       "      <th>2</th>\n",
       "      <td>0199274121</td>\n",
       "      <td>02/10/2020</td>\n",
       "      <td>23:15:00</td>\n",
       "      <td>POLICE DEPARTMENT</td>\n",
       "      <td>ELIAS</td>\n",
       "      <td>SULUSA</td>\n",
       "      <td>25.0</td>\n",
       "      <td>QUEENS</td>\n",
       "      <td>1482.0</td>\n",
       "      <td>11.0</td>\n",
       "      <td>...</td>\n",
       "      <td>NaN</td>\n",
       "      <td>NaN</td>\n",
       "      <td>NaN</td>\n",
       "      <td>NaN</td>\n",
       "      <td>NaN</td>\n",
       "      <td>NaN</td>\n",
       "      <td>NaN</td>\n",
       "      <td>NaN</td>\n",
       "      <td>NaN</td>\n",
       "      <td>NaN</td>\n",
       "    </tr>\n",
       "    <tr>\n",
       "      <th>3</th>\n",
       "      <td>0199009773</td>\n",
       "      <td>02/11/2020</td>\n",
       "      <td>19:33:00</td>\n",
       "      <td>POLICE DEPARTMENT</td>\n",
       "      <td>YOON S</td>\n",
       "      <td>CHO</td>\n",
       "      <td>0.0</td>\n",
       "      <td>QUEENS</td>\n",
       "      <td>NaN</td>\n",
       "      <td>NaN</td>\n",
       "      <td>...</td>\n",
       "      <td>NaN</td>\n",
       "      <td>NaN</td>\n",
       "      <td>NaN</td>\n",
       "      <td>NaN</td>\n",
       "      <td>NaN</td>\n",
       "      <td>NaN</td>\n",
       "      <td>NaN</td>\n",
       "      <td>NaN</td>\n",
       "      <td>NaN</td>\n",
       "      <td>NaN</td>\n",
       "    </tr>\n",
       "    <tr>\n",
       "      <th>4</th>\n",
       "      <td>0199417525</td>\n",
       "      <td>12/30/2019</td>\n",
       "      <td>17:25:00</td>\n",
       "      <td>POLICE DEPARTMENT</td>\n",
       "      <td>STAVROULA</td>\n",
       "      <td>KOKKOROS</td>\n",
       "      <td>0.0</td>\n",
       "      <td>QUEENS</td>\n",
       "      <td>NaN</td>\n",
       "      <td>NaN</td>\n",
       "      <td>...</td>\n",
       "      <td>NaN</td>\n",
       "      <td>NaN</td>\n",
       "      <td>NaN</td>\n",
       "      <td>NaN</td>\n",
       "      <td>NaN</td>\n",
       "      <td>NaN</td>\n",
       "      <td>NaN</td>\n",
       "      <td>NaN</td>\n",
       "      <td>NaN</td>\n",
       "      <td>NaN</td>\n",
       "    </tr>\n",
       "  </tbody>\n",
       "</table>\n",
       "<p>5 rows × 78 columns</p>\n",
       "</div>"
      ],
      "text/plain": [
       "  Ticket Number Violation Date Violation Time     Issuing Agency  \\\n",
       "0    0198948842     02/13/2020       03:15:00  POLICE DEPARTMENT   \n",
       "1    0198984253     02/12/2020       22:45:00  POLICE DEPARTMENT   \n",
       "2    0199274121     02/10/2020       23:15:00  POLICE DEPARTMENT   \n",
       "3    0199009773     02/11/2020       19:33:00  POLICE DEPARTMENT   \n",
       "4    0199417525     12/30/2019       17:25:00  POLICE DEPARTMENT   \n",
       "\n",
       "  Respondent First Name Respondent Last Name  Balance Due  \\\n",
       "0                  JUAN               FLORES        112.0   \n",
       "1                ERIC A              NICASIO        112.0   \n",
       "2                 ELIAS               SULUSA         25.0   \n",
       "3                YOON S                  CHO          0.0   \n",
       "4             STAVROULA             KOKKOROS          0.0   \n",
       "\n",
       "  Violation Location (Borough)  Violation Location (Block No.)  \\\n",
       "0                       QUEENS                          1769.0   \n",
       "1                       QUEENS                             NaN   \n",
       "2                       QUEENS                          1482.0   \n",
       "3                       QUEENS                             NaN   \n",
       "4                       QUEENS                             NaN   \n",
       "\n",
       "   Violation Location (Lot No.)  ... Charge #8: Code Description  \\\n",
       "0                          55.0  ...                         NaN   \n",
       "1                           NaN  ...                         NaN   \n",
       "2                          11.0  ...                         NaN   \n",
       "3                           NaN  ...                         NaN   \n",
       "4                           NaN  ...                         NaN   \n",
       "\n",
       "  Charge #8: Infraction Amount  Charge #9: Code Charge #9: Code Section  \\\n",
       "0                          NaN              NaN                     NaN   \n",
       "1                          NaN              NaN                     NaN   \n",
       "2                          NaN              NaN                     NaN   \n",
       "3                          NaN              NaN                     NaN   \n",
       "4                          NaN              NaN                     NaN   \n",
       "\n",
       "  Charge #9: Code Description Charge #9: Infraction Amount Charge #10: Code  \\\n",
       "0                         NaN                          NaN              NaN   \n",
       "1                         NaN                          NaN              NaN   \n",
       "2                         NaN                          NaN              NaN   \n",
       "3                         NaN                          NaN              NaN   \n",
       "4                         NaN                          NaN              NaN   \n",
       "\n",
       "  Charge #10: Code Section Charge #10: Code Description  \\\n",
       "0                      NaN                          NaN   \n",
       "1                      NaN                          NaN   \n",
       "2                      NaN                          NaN   \n",
       "3                      NaN                          NaN   \n",
       "4                      NaN                          NaN   \n",
       "\n",
       "  Charge #10: Infraction Amount  \n",
       "0                           NaN  \n",
       "1                           NaN  \n",
       "2                           NaN  \n",
       "3                           NaN  \n",
       "4                           NaN  \n",
       "\n",
       "[5 rows x 78 columns]"
      ]
     },
     "execution_count": 23,
     "metadata": {},
     "output_type": "execute_result"
    }
   ],
   "source": [
    "df.head(5)"
   ]
  },
  {
   "cell_type": "code",
   "execution_count": 24,
   "metadata": {},
   "outputs": [
    {
     "data": {
      "text/plain": [
       "(766394, 78)"
      ]
     },
     "execution_count": 24,
     "metadata": {},
     "output_type": "execute_result"
    }
   ],
   "source": [
    "df.shape"
   ]
  },
  {
   "cell_type": "code",
   "execution_count": 25,
   "metadata": {
    "scrolled": true
   },
   "outputs": [
    {
     "name": "stdout",
     "output_type": "stream",
     "text": [
      "<class 'pandas.core.frame.DataFrame'>\n",
      "RangeIndex: 766394 entries, 0 to 766393\n",
      "Data columns (total 78 columns):\n",
      " #   Column                                                           Non-Null Count   Dtype  \n",
      "---  ------                                                           --------------   -----  \n",
      " 0   Ticket Number                                                    766394 non-null  object \n",
      " 1   Violation Date                                                   763596 non-null  object \n",
      " 2   Violation Time                                                   764415 non-null  object \n",
      " 3   Issuing Agency                                                   766394 non-null  object \n",
      " 4   Respondent First Name                                            498874 non-null  object \n",
      " 5   Respondent Last Name                                             762112 non-null  object \n",
      " 6   Balance Due                                                      313916 non-null  float64\n",
      " 7   Violation Location (Borough)                                     765579 non-null  object \n",
      " 8   Violation Location (Block No.)                                   377615 non-null  float64\n",
      " 9   Violation Location (Lot No.)                                     377629 non-null  float64\n",
      " 10  Violation Location (House #)                                     457559 non-null  object \n",
      " 11  Violation Location (Street Name)                                 753845 non-null  object \n",
      " 12  Violation Location (Floor)                                       0 non-null       float64\n",
      " 13  Violation Location (City)                                        723377 non-null  object \n",
      " 14  Violation Location (Zip Code)                                    414736 non-null  object \n",
      " 15  Violation Location (State Name)                                  752034 non-null  object \n",
      " 16  Respondent Address (Borough)                                     753927 non-null  object \n",
      " 17  Respondent Address (House #)                                     750456 non-null  object \n",
      " 18  Respondent Address (Street Name)                                 760184 non-null  object \n",
      " 19  Respondent Address (City)                                        747993 non-null  object \n",
      " 20  Respondent Address (Zip Code)                                    717269 non-null  object \n",
      " 21  Respondent Address (State Name)                                  746124 non-null  object \n",
      " 22  Hearing Status                                                   764423 non-null  object \n",
      " 23  Hearing Result                                                   611757 non-null  object \n",
      " 24  Scheduled Hearing Location                                       727262 non-null  object \n",
      " 25  Hearing Date                                                     764957 non-null  object \n",
      " 26  Hearing Time                                                     764425 non-null  object \n",
      " 27  Decision Location (Borough)                                      222247 non-null  object \n",
      " 28  Decision Date                                                    672801 non-null  object \n",
      " 29  Total Violation Amount                                           764943 non-null  float64\n",
      " 30  Violation Details                                                719924 non-null  object \n",
      " 31  Date Judgment Docketed                                           148289 non-null  object \n",
      " 32  Respondent Address or Facility Number(For FDNY and DOB Tickets)  151678 non-null  object \n",
      " 33  Penalty Imposed                                                  695603 non-null  float64\n",
      " 34  Paid Amount                                                      485961 non-null  float64\n",
      " 35  Additional Penalties or Late Fees                                328183 non-null  float64\n",
      " 36  Compliance Status                                                626928 non-null  object \n",
      " 37  Violation Description                                            0 non-null       float64\n",
      " 38  Charge #1: Code                                                  757002 non-null  object \n",
      " 39  Charge #1: Code Section                                          756602 non-null  object \n",
      " 40  Charge #1: Code Description                                      754850 non-null  object \n",
      " 41  Charge #1: Infraction Amount                                     763689 non-null  float64\n",
      " 42  Charge #2: Code                                                  8258 non-null    object \n",
      " 43  Charge #2: Code Section                                          8240 non-null    object \n",
      " 44  Charge #2: Code Description                                      7925 non-null    object \n",
      " 45  Charge #2: Infraction Amount                                     19994 non-null   float64\n",
      " 46  Charge #3: Code                                                  358 non-null     object \n",
      " 47  Charge #3: Code Section                                          356 non-null     object \n",
      " 48  Charge #3: Code Description                                      65 non-null      object \n",
      " 49  Charge #3: Infraction Amount                                     403 non-null     float64\n",
      " 50  Charge #4: Code                                                  246 non-null     object \n",
      " 51  Charge #4: Code Section                                          246 non-null     object \n",
      " 52  Charge #4: Code Description                                      0 non-null       float64\n",
      " 53  Charge #4: Infraction Amount                                     246 non-null     float64\n",
      " 54  Charge #5: Code                                                  190 non-null     object \n",
      " 55  Charge #5: Code Section                                          190 non-null     object \n",
      " 56  Charge #5: Code Description                                      0 non-null       float64\n",
      " 57  Charge #5: Infraction Amount                                     190 non-null     float64\n",
      " 58  Charge #6: Code                                                  162 non-null     object \n",
      " 59  Charge #6: Code Section                                          162 non-null     object \n",
      " 60  Charge #6: Code Description                                      0 non-null       float64\n",
      " 61  Charge #6: Infraction Amount                                     162 non-null     float64\n",
      " 62  Charge #7: Code                                                  138 non-null     object \n",
      " 63  Charge #7: Code Section                                          138 non-null     object \n",
      " 64  Charge #7: Code Description                                      0 non-null       float64\n",
      " 65  Charge #7: Infraction Amount                                     138 non-null     float64\n",
      " 66  Charge #8: Code                                                  109 non-null     object \n",
      " 67  Charge #8: Code Section                                          109 non-null     object \n",
      " 68  Charge #8: Code Description                                      0 non-null       float64\n",
      " 69  Charge #8: Infraction Amount                                     109 non-null     float64\n",
      " 70  Charge #9: Code                                                  99 non-null      object \n",
      " 71  Charge #9: Code Section                                          99 non-null      object \n",
      " 72  Charge #9: Code Description                                      0 non-null       float64\n",
      " 73  Charge #9: Infraction Amount                                     99 non-null      float64\n",
      " 74  Charge #10: Code                                                 71 non-null      object \n",
      " 75  Charge #10: Code Section                                         71 non-null      object \n",
      " 76  Charge #10: Code Description                                     0 non-null       float64\n",
      " 77  Charge #10: Infraction Amount                                    71 non-null      float64\n",
      "dtypes: float64(26), object(52)\n",
      "memory usage: 456.1+ MB\n"
     ]
    }
   ],
   "source": [
    "df.info()"
   ]
  },
  {
   "cell_type": "code",
   "execution_count": 26,
   "metadata": {},
   "outputs": [
    {
     "name": "stdout",
     "output_type": "stream",
     "text": [
      "Oldest ticket from the dataset is on 1900-01-01 00:00:00\n",
      "Latest ticket from the dataset is on 2021-11-12 00:00:00\n"
     ]
    }
   ],
   "source": [
    "# set it to datetime to check for min and max \n",
    "df[\"Violation Date\"] = pd.to_datetime(df[\"Violation Date\"])\n",
    "\n",
    "print(\"Oldest ticket from the dataset is on {}\".format(df[\"Violation Date\"].min()))\n",
    "print(\"Latest ticket from the dataset is on {}\".format(df[\"Violation Date\"].max()))"
   ]
  },
  {
   "cell_type": "markdown",
   "metadata": {},
   "source": [
    "# Identify the target variable \"Hearing Result\" and drop nulls and relable. "
   ]
  },
  {
   "cell_type": "code",
   "execution_count": 27,
   "metadata": {},
   "outputs": [],
   "source": [
    "df.dropna(subset=[\"Hearing Result\"], inplace=True)"
   ]
  },
  {
   "cell_type": "code",
   "execution_count": 28,
   "metadata": {},
   "outputs": [
    {
     "data": {
      "text/plain": [
       "(611757, 78)"
      ]
     },
     "execution_count": 28,
     "metadata": {},
     "output_type": "execute_result"
    }
   ],
   "source": [
    "df.shape"
   ]
  },
  {
   "cell_type": "code",
   "execution_count": 29,
   "metadata": {},
   "outputs": [
    {
     "data": {
      "text/plain": [
       "WRITTEN OFF     263475\n",
       "DEFAULTED       120361\n",
       "DISMISSED       109692\n",
       "IN VIOLATION     85387\n",
       "DEFAULT          21334\n",
       "SETTL IN-VIO     10815\n",
       "ADJOURNED          411\n",
       "POP IN-VIOL        123\n",
       "POP/IN-VIOL        117\n",
       "NONE                24\n",
       "STIPULATED          11\n",
       "COSRV INVIO          7\n",
       "Name: Hearing Result, dtype: int64"
      ]
     },
     "execution_count": 29,
     "metadata": {},
     "output_type": "execute_result"
    }
   ],
   "source": [
    "df[\"Hearing Result\"].value_counts()"
   ]
  },
  {
   "cell_type": "code",
   "execution_count": 30,
   "metadata": {},
   "outputs": [
    {
     "data": {
      "text/plain": [
       "POLICE DEPARTMENT                 289601\n",
       "SANITATION POLICE                 184021\n",
       "NYPD TRANSPORT INTELLIGENCE DI    102721\n",
       "POLICE DEPT                        32283\n",
       "SANITATION ENVIRON. POLICE          1429\n",
       "DEP. POLICE                          858\n",
       "SEAGATE POLICE                       844\n",
       "Name: Issuing Agency, dtype: int64"
      ]
     },
     "execution_count": 30,
     "metadata": {},
     "output_type": "execute_result"
    }
   ],
   "source": [
    "df[\"Issuing Agency\"].value_counts()"
   ]
  },
  {
   "cell_type": "markdown",
   "metadata": {},
   "source": [
    "# regroup the target variable into fee collected and fee not collected"
   ]
  },
  {
   "cell_type": "code",
   "execution_count": 31,
   "metadata": {},
   "outputs": [
    {
     "ename": "SyntaxError",
     "evalue": "invalid syntax (<ipython-input-31-87f9e985c01a>, line 1)",
     "output_type": "error",
     "traceback": [
      "\u001b[0;36m  File \u001b[0;32m\"<ipython-input-31-87f9e985c01a>\"\u001b[0;36m, line \u001b[0;32m1\u001b[0m\n\u001b[0;31m    WRITTEN OFF     263475\u001b[0m\n\u001b[0m            ^\u001b[0m\n\u001b[0;31mSyntaxError\u001b[0m\u001b[0;31m:\u001b[0m invalid syntax\n"
     ]
    }
   ],
   "source": [
    "WRITTEN OFF     263475\n",
    "DEFAULTED       120361\n",
    "DISMISSED       109692\n",
    "IN VIOLATION     85387\n",
    "DEFAULT          21334\n",
    "SETTL IN-VIO     10815\n",
    "ADJOURNED          411\n",
    "POP IN-VIOL        123\n",
    "POP/IN-VIOL        117\n",
    "NONE                24\n",
    "STIPULATED          11\n",
    "COSRV INVIO          7"
   ]
  },
  {
   "cell_type": "code",
   "execution_count": 32,
   "metadata": {},
   "outputs": [],
   "source": [
    "df = df.loc[(df[\"Hearing Result\"] != \"NONE\") & (df[\"Hearing Result\"] != \"ADJOURNED\") & (df[\"Hearing Result\"] != \"STIPULATED\")]"
   ]
  },
  {
   "cell_type": "code",
   "execution_count": 33,
   "metadata": {},
   "outputs": [],
   "source": [
    "df[\"Hearing Result\"].replace({ \"WRITTEN OFF\": \"NO FEE COLLECTED\",\n",
    "                               \"DEFAULTED\": \"FEE COLLECTED\",\n",
    "                               \"DISMISSED\": \"NO FEE COLLECTED\",\n",
    "                               \"IN VIOLATION\": \"FEE COLLECTED\",\n",
    "                               \"DEFAULT\": \"FEE COLLECTED\",\n",
    "                               \"SETTL IN-VIO\": \"NO FEE COLLECTED\",\n",
    "                               \"COSRV INVIO\": \"NO FEE COLLECTED\",\n",
    "                               \"POP IN-VIOL\": \"NO FEE COLLECTED\",\n",
    "                               \"POP/IN-VIOL\": \"NO FEE COLLECTED\"\n",
    "                             \n",
    "                             \n",
    "                             }, inplace=True)"
   ]
  },
  {
   "cell_type": "code",
   "execution_count": 34,
   "metadata": {},
   "outputs": [
    {
     "data": {
      "text/plain": [
       "NO FEE COLLECTED    0.628533\n",
       "FEE COLLECTED       0.371467\n",
       "Name: Hearing Result, dtype: float64"
      ]
     },
     "execution_count": 34,
     "metadata": {},
     "output_type": "execute_result"
    }
   ],
   "source": [
    "df[\"Hearing Result\"].value_counts(normalize=True)"
   ]
  },
  {
   "cell_type": "code",
   "execution_count": 35,
   "metadata": {},
   "outputs": [],
   "source": [
    "df['Hearing Result'] = df['Hearing Result'].map({'NO FEE COLLECTED': 0,\n",
    "                                     'FEE COLLECTED': 1})"
   ]
  },
  {
   "cell_type": "code",
   "execution_count": 37,
   "metadata": {},
   "outputs": [
    {
     "data": {
      "text/plain": [
       "0    0.628533\n",
       "1    0.371467\n",
       "Name: Hearing Result, dtype: float64"
      ]
     },
     "execution_count": 37,
     "metadata": {},
     "output_type": "execute_result"
    }
   ],
   "source": [
    "df[\"Hearing Result\"].value_counts(normalize=True)"
   ]
  },
  {
   "cell_type": "code",
   "execution_count": 36,
   "metadata": {},
   "outputs": [
    {
     "data": {
      "text/plain": [
       "(611311, 78)"
      ]
     },
     "execution_count": 36,
     "metadata": {},
     "output_type": "execute_result"
    }
   ],
   "source": [
    "df.shape"
   ]
  },
  {
   "cell_type": "markdown",
   "metadata": {},
   "source": [
    "## EDA and Cleaning Columns\n",
    "\n",
    "only want to focus on respondents whose address is in New York because I will merge this dataframe with neighborhood data later on."
   ]
  },
  {
   "cell_type": "code",
   "execution_count": 49,
   "metadata": {
    "scrolled": true
   },
   "outputs": [
    {
     "data": {
      "text/plain": [
       "NEW YORK               568515\n",
       "NEW JERSEY              20209\n",
       "PENNSYLVANIA             1194\n",
       "FLORIDA                   920\n",
       "CONNECTICUT               694\n",
       "MASSACHUSETTS             537\n",
       "NORTH CAROLINA            358\n",
       "VIRGINIA                  281\n",
       "MARYLAND                  280\n",
       "CALIFORNIA                238\n",
       "GEORGIA                   178\n",
       "ILLINOIS                  177\n",
       "SOUTH CAROLINA            163\n",
       "WASHINGTON                144\n",
       "TEXAS                     138\n",
       "MISSOURI                  111\n",
       "OHIO                      108\n",
       "RHODE ISLAND              107\n",
       "MICHIGAN                  101\n",
       "OTHER                      56\n",
       "DELAWARE                   54\n",
       "TENNESSEE                  45\n",
       "OKLAHOMA                   42\n",
       "ALABAMA                    40\n",
       "LOUISIANA                  36\n",
       "DIST COLUMBIA              34\n",
       "NEBRASKA                   31\n",
       "ARIZONA                    29\n",
       "COLORADO                   28\n",
       "MAINE                      25\n",
       "OREGON                     23\n",
       "INDIANA                    21\n",
       "WISCONSIN                  20\n",
       "KENTUCKY                   20\n",
       "NEVADA                     19\n",
       "NEW HAMPSHIRE              19\n",
       "MINNESOTA                  17\n",
       "VERMONT                    13\n",
       "NEW MEXICO                 13\n",
       "MISSISSIPPI                12\n",
       "IOWA                       10\n",
       "PUERTO RICO                10\n",
       "UTAH                       10\n",
       "ALASKA                      7\n",
       "KANSAS                      6\n",
       "HAWAII                      5\n",
       "WEST VIRGINIA               5\n",
       "VIRGIN ISLANDS              4\n",
       "WYOMING                     4\n",
       "NORTH DAKOTA                3\n",
       "MONTANA                     3\n",
       "ARMED FORCES AFRICA         2\n",
       "ARKANSAS                    2\n",
       "AMED FORCES PACIFIC         1\n",
       "SOUTH DAKOTA                1\n",
       "IDAHO                       1\n",
       "Name: Respondent Address (State Name), dtype: int64"
      ]
     },
     "execution_count": 49,
     "metadata": {},
     "output_type": "execute_result"
    }
   ],
   "source": [
    "df[\"Respondent Address (State Name)\"].value_counts()"
   ]
  },
  {
   "cell_type": "code",
   "execution_count": 50,
   "metadata": {},
   "outputs": [],
   "source": [
    "df = df.loc[(df[\"Respondent Address (State Name)\"] == \"NEW YORK\")]"
   ]
  },
  {
   "cell_type": "markdown",
   "metadata": {},
   "source": [
    "## drop columns that contain all null values"
   ]
  },
  {
   "cell_type": "code",
   "execution_count": 51,
   "metadata": {},
   "outputs": [],
   "source": [
    "column_list = list(df.columns)"
   ]
  },
  {
   "cell_type": "code",
   "execution_count": 52,
   "metadata": {},
   "outputs": [],
   "source": [
    "empty_columns = []\n",
    "\n",
    "for x in column_list:\n",
    "\n",
    "    if df[x].isnull().all() == True:\n",
    "        empty_columns.append(x)\n",
    "\n",
    "df.drop(empty_columns, axis = 1, inplace=True)"
   ]
  },
  {
   "cell_type": "code",
   "execution_count": 53,
   "metadata": {},
   "outputs": [
    {
     "data": {
      "text/plain": [
       "(568515, 48)"
      ]
     },
     "execution_count": 53,
     "metadata": {},
     "output_type": "execute_result"
    }
   ],
   "source": [
    "df.shape"
   ]
  },
  {
   "cell_type": "code",
   "execution_count": 54,
   "metadata": {},
   "outputs": [
    {
     "data": {
      "text/plain": [
       "Index(['Ticket Number', 'Violation Date', 'Violation Time', 'Issuing Agency',\n",
       "       'Respondent First Name', 'Respondent Last Name', 'Balance Due',\n",
       "       'Violation Location (Borough)', 'Violation Location (Block No.)',\n",
       "       'Violation Location (Lot No.)', 'Violation Location (House #)',\n",
       "       'Violation Location (Street Name)', 'Violation Location (City)',\n",
       "       'Violation Location (Zip Code)', 'Violation Location (State Name)',\n",
       "       'Respondent Address (Borough)', 'Respondent Address (House #)',\n",
       "       'Respondent Address (Street Name)', 'Respondent Address (City)',\n",
       "       'Respondent Address (Zip Code)', 'Respondent Address (State Name)',\n",
       "       'Hearing Status', 'Hearing Result', 'Scheduled Hearing Location',\n",
       "       'Hearing Date', 'Hearing Time', 'Decision Location (Borough)',\n",
       "       'Decision Date', 'Total Violation Amount', 'Violation Details',\n",
       "       'Date Judgment Docketed',\n",
       "       'Respondent Address or Facility Number(For FDNY and DOB Tickets)',\n",
       "       'Penalty Imposed', 'Paid Amount', 'Additional Penalties or Late Fees',\n",
       "       'Compliance Status', 'Charge #1: Code', 'Charge #1: Code Section',\n",
       "       'Charge #1: Code Description', 'Charge #1: Infraction Amount',\n",
       "       'Charge #2: Code', 'Charge #2: Code Section',\n",
       "       'Charge #2: Code Description', 'Charge #2: Infraction Amount',\n",
       "       'Charge #3: Code', 'Charge #3: Code Section',\n",
       "       'Charge #3: Code Description', 'Charge #3: Infraction Amount'],\n",
       "      dtype='object')"
      ]
     },
     "execution_count": 54,
     "metadata": {},
     "output_type": "execute_result"
    }
   ],
   "source": [
    "df.columns"
   ]
  },
  {
   "cell_type": "code",
   "execution_count": 55,
   "metadata": {},
   "outputs": [
    {
     "data": {
      "text/plain": [
       "(568515, 35)"
      ]
     },
     "execution_count": 55,
     "metadata": {},
     "output_type": "execute_result"
    }
   ],
   "source": [
    "columns_to_drop = ['Violation Time','Balance Due',\n",
    "       'Hearing Status','Scheduled Hearing Location',\n",
    "       'Hearing Date', 'Hearing Time',\n",
    "       'Decision Date', 'Total Violation Amount', 'Violation Details',\n",
    "       'Date Judgment Docketed',\n",
    "       'Respondent Address or Facility Number(For FDNY and DOB Tickets)',\n",
    "        'Additional Penalties or Late Fees',\n",
    "       'Compliance Status']\n",
    "\n",
    "df.drop(columns_to_drop, axis = 1, inplace=True)\n",
    "df.shape"
   ]
  },
  {
   "cell_type": "code",
   "execution_count": 56,
   "metadata": {},
   "outputs": [],
   "source": [
    "# pd.options.display.max_colwidth = 1000000\n",
    "# pd.set_option('display.max_columns', 2000000000)\n",
    "# pd.set_option('display.max_rows', 1000000000)\n",
    "# pd.set_option('display.expand_frame_repr', True)"
   ]
  },
  {
   "cell_type": "markdown",
   "metadata": {},
   "source": [
    "### Feature enginnering the violation location and respondent's address column"
   ]
  },
  {
   "cell_type": "code",
   "execution_count": 57,
   "metadata": {},
   "outputs": [],
   "source": [
    "df.dropna(subset=[\"Violation Location (Zip Code)\"], inplace=True)\n",
    "df.dropna(subset=[\"Respondent Address (Zip Code)\"], inplace=True)"
   ]
  },
  {
   "cell_type": "code",
   "execution_count": 58,
   "metadata": {},
   "outputs": [],
   "source": [
    "viol_cols = ['Violation Location (Borough)', 'Violation Location (Block No.)',\n",
    "       'Violation Location (Lot No.)', 'Violation Location (House #)',\n",
    "       'Violation Location (Street Name)',\n",
    "       'Violation Location (City)', 'Violation Location (Zip Code)',\n",
    "       'Violation Location (State Name)']\n",
    "\n",
    "\n",
    "resp_cols = ['Respondent Address (Borough)',\n",
    "       'Respondent Address (House #)', 'Respondent Address (Street Name)',\n",
    "       'Respondent Address (City)', 'Respondent Address (Zip Code)',\n",
    "       'Respondent Address (State Name)']\n",
    "\n",
    "\n",
    "\n",
    "df['complete violation location'] = df[viol_cols].apply(lambda row: ' '.join(row.values.astype(str)), axis=1)\n",
    "df['complete violation location'] = df['complete violation location'].map(lambda x: x.replace(\"nan\", ''))\n",
    "\n",
    "\n",
    "df['complete respondent location'] = df[resp_cols].apply(lambda row: ' '.join(row.values.astype(str)), axis=1)\n",
    "df['complete respondent location'] = df['complete respondent location'].map(lambda x: x.replace(\"nan\", ''))"
   ]
  },
  {
   "cell_type": "code",
   "execution_count": 59,
   "metadata": {},
   "outputs": [
    {
     "name": "stdout",
     "output_type": "stream",
     "text": [
      "Violation Location (Zip Code) has 0 nulls\n",
      "Respondent Address (Zip Code) has 0 nulls\n"
     ]
    }
   ],
   "source": [
    "print(\"Violation Location (Zip Code) has {} nulls\".format(df['Violation Location (Zip Code)'].isnull().sum()))\n",
    "print(\"Respondent Address (Zip Code) has {} nulls\".format(df['Respondent Address (Zip Code)'].isnull().sum()))"
   ]
  },
  {
   "cell_type": "code",
   "execution_count": 60,
   "metadata": {},
   "outputs": [
    {
     "data": {
      "text/plain": [
       "(284325, 37)"
      ]
     },
     "execution_count": 60,
     "metadata": {},
     "output_type": "execute_result"
    }
   ],
   "source": [
    "df.shape"
   ]
  },
  {
   "cell_type": "code",
   "execution_count": 61,
   "metadata": {},
   "outputs": [
    {
     "data": {
      "text/plain": [
       "0"
      ]
     },
     "execution_count": 61,
     "metadata": {},
     "output_type": "execute_result"
    }
   ],
   "source": [
    "\n",
    "df[\"complete violation location\"].isnull().sum()"
   ]
  },
  {
   "cell_type": "code",
   "execution_count": 62,
   "metadata": {},
   "outputs": [
    {
     "data": {
      "text/plain": [
       "(284325, 37)"
      ]
     },
     "execution_count": 62,
     "metadata": {},
     "output_type": "execute_result"
    }
   ],
   "source": [
    "df.shape"
   ]
  },
  {
   "cell_type": "markdown",
   "metadata": {},
   "source": [
    "# now that the dataframe is cut down, let's split the dataset into train and test. I will save them into separate dataframe, csv files, and not touch the testing until it it ready."
   ]
  },
  {
   "cell_type": "code",
   "execution_count": 63,
   "metadata": {},
   "outputs": [],
   "source": [
    "X = df.drop('Hearing Result', axis=1)\n",
    "y = df[\"Hearing Result\"]\n",
    "X_train, X_test, y_train, y_test = train_test_split(X,\n",
    "                                                    y, \n",
    "                                                    random_state=42,\n",
    "                                                    stratify=y)"
   ]
  },
  {
   "cell_type": "code",
   "execution_count": 64,
   "metadata": {},
   "outputs": [
    {
     "data": {
      "text/plain": [
       "0    0.429200\n",
       "1    0.273505\n",
       "3    0.150786\n",
       "2    0.146509\n",
       "Name: Hearing Result, dtype: float64"
      ]
     },
     "execution_count": 64,
     "metadata": {},
     "output_type": "execute_result"
    }
   ],
   "source": [
    "y_train.value_counts(normalize=True)"
   ]
  },
  {
   "cell_type": "code",
   "execution_count": 65,
   "metadata": {},
   "outputs": [],
   "source": [
    "df_train=pd.concat([X_train, y_train], axis=1)\n",
    "df_test=pd.concat([X_test, y_test], axis=1)"
   ]
  },
  {
   "cell_type": "code",
   "execution_count": 66,
   "metadata": {},
   "outputs": [
    {
     "data": {
      "text/html": [
       "<div>\n",
       "<style scoped>\n",
       "    .dataframe tbody tr th:only-of-type {\n",
       "        vertical-align: middle;\n",
       "    }\n",
       "\n",
       "    .dataframe tbody tr th {\n",
       "        vertical-align: top;\n",
       "    }\n",
       "\n",
       "    .dataframe thead th {\n",
       "        text-align: right;\n",
       "    }\n",
       "</style>\n",
       "<table border=\"1\" class=\"dataframe\">\n",
       "  <thead>\n",
       "    <tr style=\"text-align: right;\">\n",
       "      <th></th>\n",
       "      <th>Ticket Number</th>\n",
       "      <th>Violation Date</th>\n",
       "      <th>Issuing Agency</th>\n",
       "      <th>Respondent First Name</th>\n",
       "      <th>Respondent Last Name</th>\n",
       "      <th>Violation Location (Borough)</th>\n",
       "      <th>Violation Location (Block No.)</th>\n",
       "      <th>Violation Location (Lot No.)</th>\n",
       "      <th>Violation Location (House #)</th>\n",
       "      <th>Violation Location (Street Name)</th>\n",
       "      <th>...</th>\n",
       "      <th>Charge #2: Code Section</th>\n",
       "      <th>Charge #2: Code Description</th>\n",
       "      <th>Charge #2: Infraction Amount</th>\n",
       "      <th>Charge #3: Code</th>\n",
       "      <th>Charge #3: Code Section</th>\n",
       "      <th>Charge #3: Code Description</th>\n",
       "      <th>Charge #3: Infraction Amount</th>\n",
       "      <th>complete violation location</th>\n",
       "      <th>complete respondent location</th>\n",
       "      <th>Hearing Result</th>\n",
       "    </tr>\n",
       "  </thead>\n",
       "  <tbody>\n",
       "    <tr>\n",
       "      <th>545274</th>\n",
       "      <td>0162420262</td>\n",
       "      <td>2012-08-30</td>\n",
       "      <td>POLICE DEPARTMENT</td>\n",
       "      <td>RONALD</td>\n",
       "      <td>BARONE</td>\n",
       "      <td>BROOKLYN</td>\n",
       "      <td>NaN</td>\n",
       "      <td>NaN</td>\n",
       "      <td>1711</td>\n",
       "      <td>EAST 33 STREET</td>\n",
       "      <td>...</td>\n",
       "      <td>A.C. 24-238 A</td>\n",
       "      <td>IMPROPER AUDIBLE BURGLAR ALARM WITH NO AUTOMAT...</td>\n",
       "      <td>280.0</td>\n",
       "      <td>NaN</td>\n",
       "      <td>NaN</td>\n",
       "      <td>NaN</td>\n",
       "      <td>NaN</td>\n",
       "      <td>BROOKLYN   1711 EAST 33 STREET BROOKLYN 11234 ...</td>\n",
       "      <td>BROOKLYN 21 SEBA AVENUE BROOKLYN 11229 NEW YORK</td>\n",
       "      <td>2</td>\n",
       "    </tr>\n",
       "  </tbody>\n",
       "</table>\n",
       "<p>1 rows × 37 columns</p>\n",
       "</div>"
      ],
      "text/plain": [
       "       Ticket Number Violation Date     Issuing Agency Respondent First Name  \\\n",
       "545274    0162420262     2012-08-30  POLICE DEPARTMENT                RONALD   \n",
       "\n",
       "       Respondent Last Name Violation Location (Borough)  \\\n",
       "545274               BARONE                     BROOKLYN   \n",
       "\n",
       "        Violation Location (Block No.)  Violation Location (Lot No.)  \\\n",
       "545274                             NaN                           NaN   \n",
       "\n",
       "       Violation Location (House #) Violation Location (Street Name)  ...  \\\n",
       "545274                         1711                   EAST 33 STREET  ...   \n",
       "\n",
       "       Charge #2: Code Section  \\\n",
       "545274           A.C. 24-238 A   \n",
       "\n",
       "                              Charge #2: Code Description  \\\n",
       "545274  IMPROPER AUDIBLE BURGLAR ALARM WITH NO AUTOMAT...   \n",
       "\n",
       "       Charge #2: Infraction Amount Charge #3: Code Charge #3: Code Section  \\\n",
       "545274                        280.0             NaN                     NaN   \n",
       "\n",
       "       Charge #3: Code Description Charge #3: Infraction Amount  \\\n",
       "545274                         NaN                          NaN   \n",
       "\n",
       "                              complete violation location  \\\n",
       "545274  BROOKLYN   1711 EAST 33 STREET BROOKLYN 11234 ...   \n",
       "\n",
       "                           complete respondent location Hearing Result  \n",
       "545274  BROOKLYN 21 SEBA AVENUE BROOKLYN 11229 NEW YORK              2  \n",
       "\n",
       "[1 rows x 37 columns]"
      ]
     },
     "execution_count": 66,
     "metadata": {},
     "output_type": "execute_result"
    }
   ],
   "source": [
    "df_train.head(1)"
   ]
  },
  {
   "cell_type": "code",
   "execution_count": 67,
   "metadata": {},
   "outputs": [
    {
     "data": {
      "text/plain": [
       "(71082, 37)"
      ]
     },
     "execution_count": 67,
     "metadata": {},
     "output_type": "execute_result"
    }
   ],
   "source": [
    "df_test.shape"
   ]
  },
  {
   "cell_type": "code",
   "execution_count": 68,
   "metadata": {},
   "outputs": [],
   "source": [
    "df_train.to_csv('df_train.csv')\n",
    "df_test.to_csv('df_test.csv')"
   ]
  }
 ],
 "metadata": {
  "kernelspec": {
   "display_name": "Python (learn-env)",
   "language": "python",
   "name": "learn-env"
  },
  "language_info": {
   "codemirror_mode": {
    "name": "ipython",
    "version": 3
   },
   "file_extension": ".py",
   "mimetype": "text/x-python",
   "name": "python",
   "nbconvert_exporter": "python",
   "pygments_lexer": "ipython3",
   "version": "3.8.8"
  }
 },
 "nbformat": 4,
 "nbformat_minor": 5
}
